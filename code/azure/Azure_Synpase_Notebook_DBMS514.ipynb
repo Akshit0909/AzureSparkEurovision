{
  "cells": [
    {
      "cell_type": "markdown",
      "source": [
        "# DBMS EUROVISION TWITTER ANALYSIS | DATA 514"
      ],
      "metadata": {
        "nteract": {
          "transient": {
            "deleting": false
          }
        }
      }
    },
    {
      "cell_type": "markdown",
      "source": [
        "---"
      ],
      "metadata": {
        "nteract": {
          "transient": {
            "deleting": false
          }
        }
      }
    },
    {
      "cell_type": "code",
      "source": [
        "#Testing whether Azure Spark Pool is spinning up or not\r\n",
        "\"Hello World\""
      ],
      "outputs": [
        {
          "output_type": "display_data",
          "data": {
            "application/vnd.livy.statement-meta+json": {
              "spark_pool": "dbmsspark",
              "session_id": "7",
              "statement_id": 2,
              "state": "finished",
              "livy_statement_state": "available",
              "queued_time": "2023-05-28T21:49:03.3306592Z",
              "session_start_time": "2023-05-28T21:49:03.3964065Z",
              "execution_start_time": "2023-05-28T21:52:04.8496485Z",
              "execution_finish_time": "2023-05-28T21:52:05.0218991Z",
              "spark_jobs": null,
              "parent_msg_id": "c8e68f3a-f8d1-4380-9fd1-73880084364f"
            },
            "text/plain": "StatementMeta(dbmsspark, 7, 2, Finished, Available)"
          },
          "metadata": {}
        },
        {
          "output_type": "execute_result",
          "execution_count": 5,
          "data": {
            "text/plain": "'Hello World'"
          },
          "metadata": {}
        }
      ],
      "execution_count": 1,
      "metadata": {}
    },
    {
      "cell_type": "markdown",
      "source": [
        "# JSON SCHEMA"
      ],
      "metadata": {
        "nteract": {
          "transient": {
            "deleting": false
          }
        }
      }
    },
    {
      "cell_type": "code",
      "source": [
        "df.printSchema()"
      ],
      "outputs": [
        {
          "output_type": "display_data",
          "data": {
            "application/vnd.livy.statement-meta+json": {
              "spark_pool": "dbmsspark",
              "session_id": "7",
              "statement_id": 5,
              "state": "finished",
              "livy_statement_state": "available",
              "queued_time": "2023-05-28T21:57:41.6179544Z",
              "session_start_time": null,
              "execution_start_time": "2023-05-28T21:57:42.0543489Z",
              "execution_finish_time": "2023-05-28T21:57:42.2852534Z",
              "spark_jobs": null,
              "parent_msg_id": "a6b1b13c-c75a-40ca-90a6-5b19bf05aaba"
            },
            "text/plain": "StatementMeta(dbmsspark, 7, 5, Finished, Available)"
          },
          "metadata": {}
        },
        {
          "output_type": "stream",
          "name": "stdout",
          "text": [
            "root\n |-- contributors: string (nullable = true)\n |-- coordinates: string (nullable = true)\n |-- created_at: string (nullable = true)\n |-- entities: struct (nullable = true)\n |    |-- hashtags: array (nullable = true)\n |    |    |-- element: struct (containsNull = true)\n |    |    |    |-- indices: array (nullable = true)\n |    |    |    |    |-- element: long (containsNull = true)\n |    |    |    |-- text: string (nullable = true)\n |    |-- media: array (nullable = true)\n |    |    |-- element: struct (containsNull = true)\n |    |    |    |-- display_url: string (nullable = true)\n |    |    |    |-- expanded_url: string (nullable = true)\n |    |    |    |-- id: long (nullable = true)\n |    |    |    |-- id_str: string (nullable = true)\n |    |    |    |-- indices: array (nullable = true)\n |    |    |    |    |-- element: long (containsNull = true)\n |    |    |    |-- media_url: string (nullable = true)\n |    |    |    |-- media_url_https: string (nullable = true)\n |    |    |    |-- sizes: struct (nullable = true)\n |    |    |    |    |-- large: struct (nullable = true)\n |    |    |    |    |    |-- h: long (nullable = true)\n |    |    |    |    |    |-- resize: string (nullable = true)\n |    |    |    |    |    |-- w: long (nullable = true)\n |    |    |    |    |-- medium: struct (nullable = true)\n |    |    |    |    |    |-- h: long (nullable = true)\n |    |    |    |    |    |-- resize: string (nullable = true)\n |    |    |    |    |    |-- w: long (nullable = true)\n |    |    |    |    |-- small: struct (nullable = true)\n |    |    |    |    |    |-- h: long (nullable = true)\n |    |    |    |    |    |-- resize: string (nullable = true)\n |    |    |    |    |    |-- w: long (nullable = true)\n |    |    |    |    |-- thumb: struct (nullable = true)\n |    |    |    |    |    |-- h: long (nullable = true)\n |    |    |    |    |    |-- resize: string (nullable = true)\n |    |    |    |    |    |-- w: long (nullable = true)\n |    |    |    |-- source_status_id: long (nullable = true)\n |    |    |    |-- source_status_id_str: string (nullable = true)\n |    |    |    |-- source_user_id: long (nullable = true)\n |    |    |    |-- source_user_id_str: string (nullable = true)\n |    |    |    |-- type: string (nullable = true)\n |    |    |    |-- url: string (nullable = true)\n |    |-- symbols: array (nullable = true)\n |    |    |-- element: string (containsNull = true)\n |    |-- urls: array (nullable = true)\n |    |    |-- element: string (containsNull = true)\n |    |-- user_mentions: array (nullable = true)\n |    |    |-- element: struct (containsNull = true)\n |    |    |    |-- id: long (nullable = true)\n |    |    |    |-- id_str: string (nullable = true)\n |    |    |    |-- indices: array (nullable = true)\n |    |    |    |    |-- element: long (containsNull = true)\n |    |    |    |-- name: string (nullable = true)\n |    |    |    |-- screen_name: string (nullable = true)\n |-- extended_entities: struct (nullable = true)\n |    |-- media: array (nullable = true)\n |    |    |-- element: struct (containsNull = true)\n |    |    |    |-- display_url: string (nullable = true)\n |    |    |    |-- expanded_url: string (nullable = true)\n |    |    |    |-- id: long (nullable = true)\n |    |    |    |-- id_str: string (nullable = true)\n |    |    |    |-- indices: array (nullable = true)\n |    |    |    |    |-- element: long (containsNull = true)\n |    |    |    |-- media_url: string (nullable = true)\n |    |    |    |-- media_url_https: string (nullable = true)\n |    |    |    |-- sizes: struct (nullable = true)\n |    |    |    |    |-- large: struct (nullable = true)\n |    |    |    |    |    |-- h: long (nullable = true)\n |    |    |    |    |    |-- resize: string (nullable = true)\n |    |    |    |    |    |-- w: long (nullable = true)\n |    |    |    |    |-- medium: struct (nullable = true)\n |    |    |    |    |    |-- h: long (nullable = true)\n |    |    |    |    |    |-- resize: string (nullable = true)\n |    |    |    |    |    |-- w: long (nullable = true)\n |    |    |    |    |-- small: struct (nullable = true)\n |    |    |    |    |    |-- h: long (nullable = true)\n |    |    |    |    |    |-- resize: string (nullable = true)\n |    |    |    |    |    |-- w: long (nullable = true)\n |    |    |    |    |-- thumb: struct (nullable = true)\n |    |    |    |    |    |-- h: long (nullable = true)\n |    |    |    |    |    |-- resize: string (nullable = true)\n |    |    |    |    |    |-- w: long (nullable = true)\n |    |    |    |-- source_status_id: long (nullable = true)\n |    |    |    |-- source_status_id_str: string (nullable = true)\n |    |    |    |-- source_user_id: long (nullable = true)\n |    |    |    |-- source_user_id_str: string (nullable = true)\n |    |    |    |-- type: string (nullable = true)\n |    |    |    |-- url: string (nullable = true)\n |    |    |    |-- video_info: struct (nullable = true)\n |    |    |    |    |-- aspect_ratio: array (nullable = true)\n |    |    |    |    |    |-- element: long (containsNull = true)\n |    |    |    |    |-- variants: array (nullable = true)\n |    |    |    |    |    |-- element: struct (containsNull = true)\n |    |    |    |    |    |    |-- bitrate: long (nullable = true)\n |    |    |    |    |    |    |-- content_type: string (nullable = true)\n |    |    |    |    |    |    |-- url: string (nullable = true)\n |-- favorite_count: long (nullable = true)\n |-- favorited: boolean (nullable = true)\n |-- filter_level: string (nullable = true)\n |-- geo: string (nullable = true)\n |-- id: long (nullable = true)\n |-- id_str: string (nullable = true)\n |-- in_reply_to_screen_name: string (nullable = true)\n |-- in_reply_to_status_id: string (nullable = true)\n |-- in_reply_to_status_id_str: string (nullable = true)\n |-- in_reply_to_user_id: string (nullable = true)\n |-- in_reply_to_user_id_str: string (nullable = true)\n |-- is_quote_status: boolean (nullable = true)\n |-- lang: string (nullable = true)\n |-- place: string (nullable = true)\n |-- possibly_sensitive: boolean (nullable = true)\n |-- quote_count: long (nullable = true)\n |-- reply_count: long (nullable = true)\n |-- retweet_count: long (nullable = true)\n |-- retweeted: boolean (nullable = true)\n |-- retweeted_status: struct (nullable = true)\n |    |-- contributors: string (nullable = true)\n |    |-- coordinates: string (nullable = true)\n |    |-- created_at: string (nullable = true)\n |    |-- display_text_range: array (nullable = true)\n |    |    |-- element: long (containsNull = true)\n |    |-- entities: struct (nullable = true)\n |    |    |-- hashtags: array (nullable = true)\n |    |    |    |-- element: struct (containsNull = true)\n |    |    |    |    |-- indices: array (nullable = true)\n |    |    |    |    |    |-- element: long (containsNull = true)\n |    |    |    |    |-- text: string (nullable = true)\n |    |    |-- media: array (nullable = true)\n |    |    |    |-- element: struct (containsNull = true)\n |    |    |    |    |-- display_url: string (nullable = true)\n |    |    |    |    |-- expanded_url: string (nullable = true)\n |    |    |    |    |-- id: long (nullable = true)\n |    |    |    |    |-- id_str: string (nullable = true)\n |    |    |    |    |-- indices: array (nullable = true)\n |    |    |    |    |    |-- element: long (containsNull = true)\n |    |    |    |    |-- media_url: string (nullable = true)\n |    |    |    |    |-- media_url_https: string (nullable = true)\n |    |    |    |    |-- sizes: struct (nullable = true)\n |    |    |    |    |    |-- large: struct (nullable = true)\n |    |    |    |    |    |    |-- h: long (nullable = true)\n |    |    |    |    |    |    |-- resize: string (nullable = true)\n |    |    |    |    |    |    |-- w: long (nullable = true)\n |    |    |    |    |    |-- medium: struct (nullable = true)\n |    |    |    |    |    |    |-- h: long (nullable = true)\n |    |    |    |    |    |    |-- resize: string (nullable = true)\n |    |    |    |    |    |    |-- w: long (nullable = true)\n |    |    |    |    |    |-- small: struct (nullable = true)\n |    |    |    |    |    |    |-- h: long (nullable = true)\n |    |    |    |    |    |    |-- resize: string (nullable = true)\n |    |    |    |    |    |    |-- w: long (nullable = true)\n |    |    |    |    |    |-- thumb: struct (nullable = true)\n |    |    |    |    |    |    |-- h: long (nullable = true)\n |    |    |    |    |    |    |-- resize: string (nullable = true)\n |    |    |    |    |    |    |-- w: long (nullable = true)\n |    |    |    |    |-- type: string (nullable = true)\n |    |    |    |    |-- url: string (nullable = true)\n |    |    |-- symbols: array (nullable = true)\n |    |    |    |-- element: string (containsNull = true)\n |    |    |-- urls: array (nullable = true)\n |    |    |    |-- element: string (containsNull = true)\n |    |    |-- user_mentions: array (nullable = true)\n |    |    |    |-- element: string (containsNull = true)\n |    |-- extended_entities: struct (nullable = true)\n |    |    |-- media: array (nullable = true)\n |    |    |    |-- element: struct (containsNull = true)\n |    |    |    |    |-- display_url: string (nullable = true)\n |    |    |    |    |-- expanded_url: string (nullable = true)\n |    |    |    |    |-- id: long (nullable = true)\n |    |    |    |    |-- id_str: string (nullable = true)\n |    |    |    |    |-- indices: array (nullable = true)\n |    |    |    |    |    |-- element: long (containsNull = true)\n |    |    |    |    |-- media_url: string (nullable = true)\n |    |    |    |    |-- media_url_https: string (nullable = true)\n |    |    |    |    |-- sizes: struct (nullable = true)\n |    |    |    |    |    |-- large: struct (nullable = true)\n |    |    |    |    |    |    |-- h: long (nullable = true)\n |    |    |    |    |    |    |-- resize: string (nullable = true)\n |    |    |    |    |    |    |-- w: long (nullable = true)\n |    |    |    |    |    |-- medium: struct (nullable = true)\n |    |    |    |    |    |    |-- h: long (nullable = true)\n |    |    |    |    |    |    |-- resize: string (nullable = true)\n |    |    |    |    |    |    |-- w: long (nullable = true)\n |    |    |    |    |    |-- small: struct (nullable = true)\n |    |    |    |    |    |    |-- h: long (nullable = true)\n |    |    |    |    |    |    |-- resize: string (nullable = true)\n |    |    |    |    |    |    |-- w: long (nullable = true)\n |    |    |    |    |    |-- thumb: struct (nullable = true)\n |    |    |    |    |    |    |-- h: long (nullable = true)\n |    |    |    |    |    |    |-- resize: string (nullable = true)\n |    |    |    |    |    |    |-- w: long (nullable = true)\n |    |    |    |    |-- type: string (nullable = true)\n |    |    |    |    |-- url: string (nullable = true)\n |    |    |    |    |-- video_info: struct (nullable = true)\n |    |    |    |    |    |-- aspect_ratio: array (nullable = true)\n |    |    |    |    |    |    |-- element: long (containsNull = true)\n |    |    |    |    |    |-- variants: array (nullable = true)\n |    |    |    |    |    |    |-- element: struct (containsNull = true)\n |    |    |    |    |    |    |    |-- bitrate: long (nullable = true)\n |    |    |    |    |    |    |    |-- content_type: string (nullable = true)\n |    |    |    |    |    |    |    |-- url: string (nullable = true)\n |    |-- favorite_count: long (nullable = true)\n |    |-- favorited: boolean (nullable = true)\n |    |-- filter_level: string (nullable = true)\n |    |-- geo: string (nullable = true)\n |    |-- id: long (nullable = true)\n |    |-- id_str: string (nullable = true)\n |    |-- in_reply_to_screen_name: string (nullable = true)\n |    |-- in_reply_to_status_id: string (nullable = true)\n |    |-- in_reply_to_status_id_str: string (nullable = true)\n |    |-- in_reply_to_user_id: string (nullable = true)\n |    |-- in_reply_to_user_id_str: string (nullable = true)\n |    |-- is_quote_status: boolean (nullable = true)\n |    |-- lang: string (nullable = true)\n |    |-- place: string (nullable = true)\n |    |-- possibly_sensitive: boolean (nullable = true)\n |    |-- quote_count: long (nullable = true)\n |    |-- reply_count: long (nullable = true)\n |    |-- retweet_count: long (nullable = true)\n |    |-- retweeted: boolean (nullable = true)\n |    |-- source: string (nullable = true)\n |    |-- text: string (nullable = true)\n |    |-- truncated: boolean (nullable = true)\n |    |-- user: struct (nullable = true)\n |    |    |-- contributors_enabled: boolean (nullable = true)\n |    |    |-- created_at: string (nullable = true)\n |    |    |-- default_profile: boolean (nullable = true)\n |    |    |-- default_profile_image: boolean (nullable = true)\n |    |    |-- description: string (nullable = true)\n |    |    |-- favourites_count: long (nullable = true)\n |    |    |-- follow_request_sent: string (nullable = true)\n |    |    |-- followers_count: long (nullable = true)\n |    |    |-- following: string (nullable = true)\n |    |    |-- friends_count: long (nullable = true)\n |    |    |-- geo_enabled: boolean (nullable = true)\n |    |    |-- id: long (nullable = true)\n |    |    |-- id_str: string (nullable = true)\n |    |    |-- is_translator: boolean (nullable = true)\n |    |    |-- lang: string (nullable = true)\n |    |    |-- listed_count: long (nullable = true)\n |    |    |-- location: string (nullable = true)\n |    |    |-- name: string (nullable = true)\n |    |    |-- notifications: string (nullable = true)\n |    |    |-- profile_background_color: string (nullable = true)\n |    |    |-- profile_background_image_url: string (nullable = true)\n |    |    |-- profile_background_image_url_https: string (nullable = true)\n |    |    |-- profile_background_tile: boolean (nullable = true)\n |    |    |-- profile_banner_url: string (nullable = true)\n |    |    |-- profile_image_url: string (nullable = true)\n |    |    |-- profile_image_url_https: string (nullable = true)\n |    |    |-- profile_link_color: string (nullable = true)\n |    |    |-- profile_sidebar_border_color: string (nullable = true)\n |    |    |-- profile_sidebar_fill_color: string (nullable = true)\n |    |    |-- profile_text_color: string (nullable = true)\n |    |    |-- profile_use_background_image: boolean (nullable = true)\n |    |    |-- protected: boolean (nullable = true)\n |    |    |-- screen_name: string (nullable = true)\n |    |    |-- statuses_count: long (nullable = true)\n |    |    |-- time_zone: string (nullable = true)\n |    |    |-- translator_type: string (nullable = true)\n |    |    |-- url: string (nullable = true)\n |    |    |-- utc_offset: long (nullable = true)\n |    |    |-- verified: boolean (nullable = true)\n |-- source: string (nullable = true)\n |-- text: string (nullable = true)\n |-- timestamp_ms: string (nullable = true)\n |-- truncated: boolean (nullable = true)\n |-- user: struct (nullable = true)\n |    |-- contributors_enabled: boolean (nullable = true)\n |    |-- created_at: string (nullable = true)\n |    |-- default_profile: boolean (nullable = true)\n |    |-- default_profile_image: boolean (nullable = true)\n |    |-- description: string (nullable = true)\n |    |-- favourites_count: long (nullable = true)\n |    |-- follow_request_sent: string (nullable = true)\n |    |-- followers_count: long (nullable = true)\n |    |-- following: string (nullable = true)\n |    |-- friends_count: long (nullable = true)\n |    |-- geo_enabled: boolean (nullable = true)\n |    |-- id: long (nullable = true)\n |    |-- id_str: string (nullable = true)\n |    |-- is_translator: boolean (nullable = true)\n |    |-- lang: string (nullable = true)\n |    |-- listed_count: long (nullable = true)\n |    |-- location: string (nullable = true)\n |    |-- name: string (nullable = true)\n |    |-- notifications: string (nullable = true)\n |    |-- profile_background_color: string (nullable = true)\n |    |-- profile_background_image_url: string (nullable = true)\n |    |-- profile_background_image_url_https: string (nullable = true)\n |    |-- profile_background_tile: boolean (nullable = true)\n |    |-- profile_banner_url: string (nullable = true)\n |    |-- profile_image_url: string (nullable = true)\n |    |-- profile_image_url_https: string (nullable = true)\n |    |-- profile_link_color: string (nullable = true)\n |    |-- profile_sidebar_border_color: string (nullable = true)\n |    |-- profile_sidebar_fill_color: string (nullable = true)\n |    |-- profile_text_color: string (nullable = true)\n |    |-- profile_use_background_image: boolean (nullable = true)\n |    |-- protected: boolean (nullable = true)\n |    |-- screen_name: string (nullable = true)\n |    |-- statuses_count: long (nullable = true)\n |    |-- time_zone: string (nullable = true)\n |    |-- translator_type: string (nullable = true)\n |    |-- url: string (nullable = true)\n |    |-- utc_offset: long (nullable = true)\n |    |-- verified: boolean (nullable = true)\n\n"
          ]
        }
      ],
      "execution_count": 4,
      "metadata": {
        "jupyter": {
          "source_hidden": false,
          "outputs_hidden": false
        },
        "nteract": {
          "transient": {
            "deleting": false
          }
        }
      }
    },
    {
      "cell_type": "markdown",
      "source": [
        "---"
      ],
      "metadata": {
        "nteract": {
          "transient": {
            "deleting": false
          }
        }
      }
    },
    {
      "cell_type": "markdown",
      "source": [
        "# Import JSON Data using Spark import"
      ],
      "metadata": {
        "nteract": {
          "transient": {
            "deleting": false
          }
        }
      }
    },
    {
      "cell_type": "code",
      "source": [
        "import pandas as pd\r\n",
        "df = spark.createDataFrame(pd.read_json(\"abfss://twitterdata@dbms514storage.dfs.core.windows.net/DBMS_EUROVISION_TWITTER.json\"))\r\n",
        "df.count()"
      ],
      "outputs": [
        {
          "output_type": "display_data",
          "data": {
            "application/vnd.livy.statement-meta+json": {
              "spark_pool": "dbmsspark",
              "session_id": "9",
              "statement_id": 3,
              "state": "finished",
              "livy_statement_state": "available",
              "queued_time": "2023-06-06T03:27:07.2742733Z",
              "session_start_time": null,
              "execution_start_time": "2023-06-06T03:27:07.6407694Z",
              "execution_finish_time": "2023-06-06T03:29:02.8860475Z",
              "spark_jobs": null,
              "parent_msg_id": "285a7de4-f97c-4537-8256-9deeebc3f10b"
            },
            "text/plain": "StatementMeta(dbmsspark, 9, 3, Finished, Available)"
          },
          "metadata": {}
        },
        {
          "output_type": "stream",
          "name": "stderr",
          "text": [
            "/opt/spark/python/lib/pyspark.zip/pyspark/sql/pandas/conversion.py:425: UserWarning: createDataFrame attempted Arrow optimization because 'spark.sql.execution.arrow.pyspark.enabled' is set to true; however, failed by the reason below:\n  Nested StructType not supported in conversion from Arrow: struct<attributes: struct<>, bounding_box: struct<coordinates: list<item: list<item: list<item: double>>>, type: string>, country: string, country_code: string, full_name: string, id: string, name: string, place_type: string, url: string>\nAttempting non-optimization as 'spark.sql.execution.arrow.pyspark.fallback.enabled' is set to true.\n/opt/spark/python/lib/pyspark.zip/pyspark/sql/pandas/conversion.py:474: FutureWarning: iteritems is deprecated and will be removed in a future version. Use .items instead.\n/opt/spark/python/lib/pyspark.zip/pyspark/sql/pandas/conversion.py:486: FutureWarning: iteritems is deprecated and will be removed in a future version. Use .items instead.\n"
          ]
        },
        {
          "output_type": "execute_result",
          "execution_count": 7,
          "data": {
            "text/plain": "97040"
          },
          "metadata": {}
        }
      ],
      "execution_count": 2,
      "metadata": {
        "jupyter": {
          "source_hidden": false,
          "outputs_hidden": false
        },
        "nteract": {
          "transient": {
            "deleting": false
          }
        }
      }
    },
    {
      "cell_type": "markdown",
      "source": [
        "# Checking Dataframe Content"
      ],
      "metadata": {
        "nteract": {
          "transient": {
            "deleting": false
          }
        }
      }
    },
    {
      "cell_type": "code",
      "source": [
        "display(df.limit(10))"
      ],
      "outputs": [
        {
          "output_type": "display_data",
          "data": {
            "application/vnd.livy.statement-meta+json": {
              "spark_pool": "dbmsspark",
              "session_id": "5",
              "statement_id": 30,
              "state": "finished",
              "livy_statement_state": "available",
              "queued_time": "2023-05-18T20:21:27.630683Z",
              "session_start_time": null,
              "execution_start_time": "2023-05-18T20:21:27.8121629Z",
              "execution_finish_time": "2023-05-18T20:21:35.1467361Z",
              "spark_jobs": null,
              "parent_msg_id": "9ff1eb5c-1a1c-420c-a13f-b591059aebce"
            },
            "text/plain": "StatementMeta(dbmsspark, 5, 30, Finished, Available)"
          },
          "metadata": {}
        },
        {
          "output_type": "display_data",
          "data": {
            "application/vnd.synapse.widget-view+json": {
              "widget_id": "af50fc06-b63c-428a-b9eb-a029c177b0ce",
              "widget_type": "Synapse.DataFrame"
            },
            "text/plain": "SynapseWidget(Synapse.DataFrame, af50fc06-b63c-428a-b9eb-a029c177b0ce)"
          },
          "metadata": {}
        }
      ],
      "execution_count": 29,
      "metadata": {
        "jupyter": {
          "source_hidden": false,
          "outputs_hidden": false
        },
        "nteract": {
          "transient": {
            "deleting": false
          }
        },
        "collapsed": false
      }
    },
    {
      "cell_type": "markdown",
      "source": [
        "# Reviewing Columns"
      ],
      "metadata": {
        "nteract": {
          "transient": {
            "deleting": false
          }
        }
      }
    },
    {
      "cell_type": "code",
      "source": [
        "df.columns"
      ],
      "outputs": [
        {
          "output_type": "display_data",
          "data": {
            "application/vnd.livy.statement-meta+json": {
              "spark_pool": "dbmsspark",
              "session_id": "9",
              "statement_id": 5,
              "state": "finished",
              "livy_statement_state": "available",
              "queued_time": "2023-06-06T03:43:08.8458605Z",
              "session_start_time": null,
              "execution_start_time": "2023-06-06T03:43:09.0396111Z",
              "execution_finish_time": "2023-06-06T03:43:09.216765Z",
              "spark_jobs": null,
              "parent_msg_id": "a8f215d1-96ce-48fc-8299-5d5eae0426b2"
            },
            "text/plain": "StatementMeta(dbmsspark, 9, 5, Finished, Available)"
          },
          "metadata": {}
        },
        {
          "output_type": "execute_result",
          "execution_count": 11,
          "data": {
            "text/plain": "['created_at',\n 'id',\n 'id_str',\n 'text',\n 'source',\n 'truncated',\n 'in_reply_to_status_id',\n 'in_reply_to_status_id_str',\n 'in_reply_to_user_id',\n 'in_reply_to_user_id_str',\n 'in_reply_to_screen_name',\n 'geo',\n 'coordinates',\n 'place',\n 'contributors',\n 'retweeted_status',\n 'is_quote_status',\n 'quote_count',\n 'reply_count',\n 'retweet_count',\n 'favorite_count',\n 'extended_entities',\n 'favorited',\n 'retweeted',\n 'possibly_sensitive',\n 'filter_level',\n 'lang',\n 'timestamp_ms',\n 'display_text_range',\n 'quoted_status_id',\n 'quoted_status_id_str',\n 'quoted_status',\n 'limit',\n 'extended_tweet',\n 'withheld_in_countries',\n 'user_id',\n 'user_id_str',\n 'user_name',\n 'user_screen_name',\n 'user_location',\n 'user_url',\n 'user_description',\n 'user_translator_type',\n 'user_protected',\n 'user_verified',\n 'user_followers_count',\n 'user_friends_count',\n 'user_listed_count',\n 'user_favourites_count',\n 'user_statuses_count',\n 'user_created_at',\n 'user_utc_offset',\n 'user_time_zone',\n 'user_geo_enabled',\n 'user_lang',\n 'user_contributors_enabled',\n 'user_is_translator',\n 'user_profile_background_color',\n 'user_profile_background_image_url',\n 'user_profile_background_image_url_https',\n 'user_profile_background_tile',\n 'user_profile_link_color',\n 'user_profile_sidebar_border_color',\n 'user_profile_sidebar_fill_color',\n 'user_profile_text_color',\n 'user_profile_use_background_image',\n 'user_profile_image_url',\n 'user_profile_image_url_https',\n 'user_profile_banner_url',\n 'user_default_profile',\n 'user_default_profile_image',\n 'user_following',\n 'user_follow_request_sent',\n 'user_notifications',\n 'entities_urls',\n 'entities_user_mentions',\n 'entities_symbols',\n 'entities_media',\n 'entities_hashtags_text',\n 'entities_hashtags_indices']"
          },
          "metadata": {}
        }
      ],
      "execution_count": 4,
      "metadata": {
        "jupyter": {
          "source_hidden": false,
          "outputs_hidden": false
        },
        "nteract": {
          "transient": {
            "deleting": false
          }
        }
      }
    },
    {
      "cell_type": "markdown",
      "source": [
        "# Create a SPARK SQL view to run queries"
      ],
      "metadata": {
        "nteract": {
          "transient": {
            "deleting": false
          }
        }
      }
    },
    {
      "cell_type": "code",
      "source": [
        "df.createOrReplaceTempView(\"tweets\")"
      ],
      "outputs": [
        {
          "output_type": "display_data",
          "data": {
            "application/vnd.livy.statement-meta+json": {
              "spark_pool": "dbmsspark",
              "session_id": "9",
              "statement_id": 6,
              "state": "finished",
              "livy_statement_state": "available",
              "queued_time": "2023-06-06T03:43:15.1276633Z",
              "session_start_time": null,
              "execution_start_time": "2023-06-06T03:43:15.2731983Z",
              "execution_finish_time": "2023-06-06T03:43:15.4520183Z",
              "spark_jobs": null,
              "parent_msg_id": "38e5bcf0-0d8a-4f99-9c41-5e7ca520cbf0"
            },
            "text/plain": "StatementMeta(dbmsspark, 9, 6, Finished, Available)"
          },
          "metadata": {}
        }
      ],
      "execution_count": 5,
      "metadata": {
        "jupyter": {
          "source_hidden": false,
          "outputs_hidden": false
        },
        "nteract": {
          "transient": {
            "deleting": false
          }
        }
      }
    },
    {
      "cell_type": "markdown",
      "source": [
        "# Query 1: Which user has posted the most number of tweets"
      ],
      "metadata": {
        "nteract": {
          "transient": {
            "deleting": false
          }
        }
      }
    },
    {
      "cell_type": "code",
      "source": [
        "spark.sql(\"select user_id, user_name, count(*) from tweets group by user_id, user_name order by count(*) desc\").show()"
      ],
      "outputs": [
        {
          "output_type": "display_data",
          "data": {
            "application/vnd.livy.statement-meta+json": {
              "spark_pool": "dbmsspark",
              "session_id": "9",
              "statement_id": 7,
              "state": "finished",
              "livy_statement_state": "available",
              "queued_time": "2023-06-06T03:43:18.8044462Z",
              "session_start_time": null,
              "execution_start_time": "2023-06-06T03:43:18.9945486Z",
              "execution_finish_time": "2023-06-06T03:43:26.2066643Z",
              "spark_jobs": null,
              "parent_msg_id": "6ea60d6c-5a7a-4673-95f7-2623da58e0e7"
            },
            "text/plain": "StatementMeta(dbmsspark, 9, 7, Finished, Available)"
          },
          "metadata": {}
        },
        {
          "output_type": "stream",
          "name": "stdout",
          "text": [
            "+------------------+--------------------+--------+\n|           user_id|           user_name|count(1)|\n+------------------+--------------------+--------+\n|        2582441749|               Лис🦊|      31|\n|        1367380723|VOTE SONG NUMBER ...|      30|\n|718489648000000000|        loser baby🌻|      29|\n|         912345998|  Морник Тимберлейка|      24|\n|        1015176752|               v__16|      23|\n|762717486700000000|РТ СПОЙЛЕРЫ авиа-...|      23|\n|         456427660|     Луйлис ت | СДОХ|      22|\n|        2185193507|               maría|      21|\n|        3400101796|       Natalia Cayon|      19|\n|        1612154292|        「 Stellar」|      18|\n|         954156420|                  :)|      18|\n|         543535171|      LamazoneBlonde|      18|\n|839020845300000000| モンペTeamKrisJapan|      18|\n|942823886200000000|   Пусанская булочка|      18|\n|         584023219|             larche2|      18|\n|         475923820|          Aniol Sala|      18|\n|972809734900000000|МЭЛ В ФИНАЛЕ!|Еба...|      18|\n|        2951075535|             дэртокс|      17|\n|918062887800000000|             джейлис|      16|\n|        1176797797|           yeah!🇪🇸|      16|\n+------------------+--------------------+--------+\nonly showing top 20 rows\n\n"
          ]
        }
      ],
      "execution_count": 6,
      "metadata": {
        "jupyter": {
          "source_hidden": false,
          "outputs_hidden": false
        },
        "nteract": {
          "transient": {
            "deleting": false
          }
        }
      }
    },
    {
      "cell_type": "markdown",
      "source": [
        "# Query 2: Which countries has the most tweets being actively posted"
      ],
      "metadata": {
        "nteract": {
          "transient": {
            "deleting": false
          }
        }
      }
    },
    {
      "cell_type": "code",
      "source": [
        "spark.sql(\"select user_location, count(*) from tweets where user_location is not null group by user_location order by count(*) desc\").show()"
      ],
      "outputs": [
        {
          "output_type": "display_data",
          "data": {
            "application/vnd.livy.statement-meta+json": {
              "spark_pool": "dbmsspark",
              "session_id": "9",
              "statement_id": 8,
              "state": "finished",
              "livy_statement_state": "available",
              "queued_time": "2023-06-06T03:43:31.636045Z",
              "session_start_time": null,
              "execution_start_time": "2023-06-06T03:43:31.8181182Z",
              "execution_finish_time": "2023-06-06T03:43:37.3266167Z",
              "spark_jobs": null,
              "parent_msg_id": "216fc9b7-ab2e-4f74-b49e-787ebbb23a97"
            },
            "text/plain": "StatementMeta(dbmsspark, 9, 8, Finished, Available)"
          },
          "metadata": {}
        },
        {
          "output_type": "stream",
          "name": "stdout",
          "text": [
            "+--------------------+--------+\n|       user_location|count(1)|\n+--------------------+--------+\n|              España|     956|\n|              Madrid|     700|\n|     London, England|     674|\n|            Portugal|     663|\n|              London|     617|\n|Madrid, Comunidad...|     502|\n|              France|     451|\n|           Barcelona|     448|\n|   Barcelona, España|     388|\n|      United Kingdom|     369|\n|             Ireland|     360|\n|England, United K...|     295|\n|      Madrid, España|     280|\n|               Spain|     274|\n|                  UK|     261|\n|       Paris, France|     243|\n|     Porto, Portugal|     229|\n|    Lisboa, Portugal|     223|\n|    Valencia, España|     222|\n|              Italia|     210|\n+--------------------+--------+\nonly showing top 20 rows\n\n"
          ]
        }
      ],
      "execution_count": 7,
      "metadata": {
        "jupyter": {
          "source_hidden": false,
          "outputs_hidden": false
        },
        "nteract": {
          "transient": {
            "deleting": false
          }
        }
      }
    },
    {
      "cell_type": "markdown",
      "source": [
        "# Query 3: How many tweets are associates with each hashtags"
      ],
      "metadata": {
        "nteract": {
          "transient": {
            "deleting": false
          }
        }
      }
    },
    {
      "cell_type": "code",
      "source": [
        "spark.sql('select entities_hashtags_text, count(*) from tweets group by entities_hashtags_text order by count(*) desc').show()"
      ],
      "outputs": [
        {
          "output_type": "display_data",
          "data": {
            "application/vnd.livy.statement-meta+json": {
              "spark_pool": "dbmsspark",
              "session_id": "9",
              "statement_id": 9,
              "state": "finished",
              "livy_statement_state": "available",
              "queued_time": "2023-06-06T03:43:43.0593431Z",
              "session_start_time": null,
              "execution_start_time": "2023-06-06T03:43:43.2568349Z",
              "execution_finish_time": "2023-06-06T03:43:47.4086953Z",
              "spark_jobs": null,
              "parent_msg_id": "2296631f-a44e-47d0-9176-0fe379fec3d0"
            },
            "text/plain": "StatementMeta(dbmsspark, 9, 9, Finished, Available)"
          },
          "metadata": {}
        },
        {
          "output_type": "stream",
          "name": "stdout",
          "text": [
            "+----------------------+--------+\n|entities_hashtags_text|count(1)|\n+----------------------+--------+\n|            Eurovision|   55974|\n|            eurovision|    8759|\n|                  null|    4994|\n|            EUROVISION|    3934|\n|       FinalEurovision|    2658|\n|               ESC2018|    2333|\n|        Eurovision2018|    1318|\n|             AllAboard|    1296|\n|                ESCita|    1135|\n|                Israel|     736|\n|                   ISR|     506|\n|               esc2018|     386|\n|                escita|     359|\n|   AmaiaAlfred12points|     282|\n|       FinalEurovisión|     246|\n|                 esf18|     227|\n|           Eurocancion|     220|\n|       MetaMoroESC2018|     200|\n|          eurovisiongr|     187|\n|                 Netta|     178|\n+----------------------+--------+\nonly showing top 20 rows\n\n"
          ]
        }
      ],
      "execution_count": 8,
      "metadata": {
        "jupyter": {
          "source_hidden": false,
          "outputs_hidden": false
        },
        "nteract": {
          "transient": {
            "deleting": false
          }
        },
        "collapsed": false
      }
    },
    {
      "cell_type": "markdown",
      "source": [
        "**NOTE 1** We had multiple tweets per each hastags in the original dataset. During the processing, we bifurcated the levels to one rows per each tweet for individual hashtags\r\n",
        "\r\n",
        "**NOTE 2** In the above output, we see that we have difference cases of hashtags so we have to create a uniform case"
      ],
      "metadata": {
        "nteract": {
          "transient": {
            "deleting": false
          }
        }
      }
    },
    {
      "cell_type": "markdown",
      "source": [
        "**WAY 1** Convert column in dataframe to lowercase() by using dataframe *lower()* function(import required) and then create a new SQL View"
      ],
      "metadata": {
        "nteract": {
          "transient": {
            "deleting": false
          }
        }
      }
    },
    {
      "cell_type": "code",
      "source": [
        "from pyspark.sql.functions import lower\r\n",
        "df_lower = df.withColumn(\"entities_hashtags_text_lower\", lower(df[\"entities_hashtags_text\"]))"
      ],
      "outputs": [
        {
          "output_type": "display_data",
          "data": {
            "application/vnd.livy.statement-meta+json": {
              "spark_pool": "dbmsspark",
              "session_id": "9",
              "statement_id": 10,
              "state": "finished",
              "livy_statement_state": "available",
              "queued_time": "2023-06-06T03:43:51.8602036Z",
              "session_start_time": null,
              "execution_start_time": "2023-06-06T03:43:52.0263055Z",
              "execution_finish_time": "2023-06-06T03:43:52.2165757Z",
              "spark_jobs": null,
              "parent_msg_id": "0455baed-07ab-4066-a374-00e69273e2cb"
            },
            "text/plain": "StatementMeta(dbmsspark, 9, 10, Finished, Available)"
          },
          "metadata": {}
        }
      ],
      "execution_count": 9,
      "metadata": {
        "jupyter": {
          "source_hidden": false,
          "outputs_hidden": false
        },
        "nteract": {
          "transient": {
            "deleting": false
          }
        }
      }
    },
    {
      "cell_type": "markdown",
      "source": [
        "**WAY 2** Change the entities hashtags text to lower case using SQL *LOWER()* function"
      ],
      "metadata": {
        "nteract": {
          "transient": {
            "deleting": false
          }
        }
      }
    },
    {
      "cell_type": "code",
      "source": [
        "spark.sql('SELECT lower(entities_hashtags_text), count(*) FROM tweets where entities_hashtags_text is not null group by lower(entities_hashtags_text) order by count(*) desc').show()"
      ],
      "outputs": [
        {
          "output_type": "display_data",
          "data": {
            "application/vnd.livy.statement-meta+json": {
              "spark_pool": "dbmsspark",
              "session_id": "9",
              "statement_id": 13,
              "state": "finished",
              "livy_statement_state": "available",
              "queued_time": "2023-06-06T03:45:24.949545Z",
              "session_start_time": null,
              "execution_start_time": "2023-06-06T03:45:25.3194343Z",
              "execution_finish_time": "2023-06-06T03:45:29.491325Z",
              "spark_jobs": null,
              "parent_msg_id": "b4fda30b-f5b2-449c-a227-015195361069"
            },
            "text/plain": "StatementMeta(dbmsspark, 9, 13, Finished, Available)"
          },
          "metadata": {}
        },
        {
          "output_type": "stream",
          "name": "stdout",
          "text": [
            "+-----------------------------+--------+\n|lower(entities_hashtags_text)|count(1)|\n+-----------------------------+--------+\n|                   eurovision|   68819|\n|                      esc2018|    2764|\n|              finaleurovision|    2724|\n|                       escita|    1750|\n|               eurovision2018|    1501|\n|                    allaboard|    1476|\n|                       israel|     885|\n|                          isr|     581|\n|                          esc|     333|\n|                        esf18|     331|\n|          amaiaalfred12points|     317|\n|                 eurovisiongr|     302|\n|              finaleurovisión|     255|\n|              metamoroesc2018|     227|\n|                  eurocancion|     220|\n|                  евровидение|     215|\n|                        esc18|     205|\n|                        netta|     197|\n|              евровидение2018|     189|\n|                     metamoro|     175|\n+-----------------------------+--------+\nonly showing top 20 rows\n\n"
          ]
        }
      ],
      "execution_count": 12,
      "metadata": {
        "jupyter": {
          "source_hidden": false,
          "outputs_hidden": false
        },
        "nteract": {
          "transient": {
            "deleting": false
          }
        }
      }
    },
    {
      "cell_type": "markdown",
      "source": [
        "# Query 4: For each verified user, what is the percentage of different type of tweets to their overall number of tweets"
      ],
      "metadata": {
        "nteract": {
          "transient": {
            "deleting": false
          }
        }
      }
    },
    {
      "cell_type": "code",
      "source": [
        "display(df[['user_verified', 'retweeted_status', 'retweeted', 'is_quote_status', 'in_reply_to_status_id',\r\n",
        " 'in_reply_to_status_id_str',\r\n",
        " 'in_reply_to_user_id',\r\n",
        " 'in_reply_to_user_id_str',\r\n",
        " 'in_reply_to_screen_name',]].limit(10))"
      ],
      "outputs": [
        {
          "output_type": "display_data",
          "data": {
            "application/vnd.livy.statement-meta+json": {
              "spark_pool": "dbmsspark",
              "session_id": "9",
              "statement_id": 14,
              "state": "finished",
              "livy_statement_state": "available",
              "queued_time": "2023-06-06T03:45:33.766573Z",
              "session_start_time": null,
              "execution_start_time": "2023-06-06T03:45:33.9148386Z",
              "execution_finish_time": "2023-06-06T03:45:41.104239Z",
              "spark_jobs": null,
              "parent_msg_id": "f1e686f0-20e9-4a86-b1ab-4c800d1dffc3"
            },
            "text/plain": "StatementMeta(dbmsspark, 9, 14, Finished, Available)"
          },
          "metadata": {}
        },
        {
          "output_type": "display_data",
          "data": {
            "application/vnd.synapse.widget-view+json": {
              "widget_id": "a77bd365-2f88-45db-8984-9ee002bef522",
              "widget_type": "Synapse.DataFrame"
            },
            "text/plain": "SynapseWidget(Synapse.DataFrame, a77bd365-2f88-45db-8984-9ee002bef522)"
          },
          "metadata": {}
        }
      ],
      "execution_count": 13,
      "metadata": {
        "jupyter": {
          "source_hidden": false,
          "outputs_hidden": false
        },
        "nteract": {
          "transient": {
            "deleting": false
          }
        },
        "collapsed": false
      }
    },
    {
      "cell_type": "markdown",
      "source": [
        "Validating Group Category Breakdown"
      ],
      "metadata": {
        "nteract": {
          "transient": {
            "deleting": false
          }
        }
      }
    },
    {
      "cell_type": "code",
      "source": [
        "df.groupBy('is_quote_status').count().show()"
      ],
      "outputs": [
        {
          "output_type": "display_data",
          "data": {
            "application/vnd.livy.statement-meta+json": {
              "spark_pool": "dbmsspark",
              "session_id": "9",
              "statement_id": 15,
              "state": "finished",
              "livy_statement_state": "available",
              "queued_time": "2023-06-06T03:45:46.7955426Z",
              "session_start_time": null,
              "execution_start_time": "2023-06-06T03:45:46.9399701Z",
              "execution_finish_time": "2023-06-06T03:45:51.0599097Z",
              "spark_jobs": null,
              "parent_msg_id": "1a597f89-bf05-44ae-835d-62c734f7ccc9"
            },
            "text/plain": "StatementMeta(dbmsspark, 9, 15, Finished, Available)"
          },
          "metadata": {}
        },
        {
          "output_type": "stream",
          "name": "stdout",
          "text": [
            "+---------------+-----+\n|is_quote_status|count|\n+---------------+-----+\n|           true| 4491|\n|          false|92549|\n+---------------+-----+\n\n"
          ]
        }
      ],
      "execution_count": 14,
      "metadata": {
        "jupyter": {
          "source_hidden": false,
          "outputs_hidden": false
        },
        "nteract": {
          "transient": {
            "deleting": false
          }
        }
      }
    },
    {
      "cell_type": "code",
      "source": [
        "df.groupBy('user_verified').count().show()"
      ],
      "outputs": [
        {
          "output_type": "display_data",
          "data": {
            "application/vnd.livy.statement-meta+json": {
              "spark_pool": "dbmsspark",
              "session_id": "9",
              "statement_id": 16,
              "state": "finished",
              "livy_statement_state": "available",
              "queued_time": "2023-06-06T03:45:54.1776881Z",
              "session_start_time": null,
              "execution_start_time": "2023-06-06T03:45:54.3207361Z",
              "execution_finish_time": "2023-06-06T03:45:58.4562904Z",
              "spark_jobs": null,
              "parent_msg_id": "ca6af175-803a-4c3d-83fb-b81055280111"
            },
            "text/plain": "StatementMeta(dbmsspark, 9, 16, Finished, Available)"
          },
          "metadata": {}
        },
        {
          "output_type": "stream",
          "name": "stdout",
          "text": [
            "+-------------+-----+\n|user_verified|count|\n+-------------+-----+\n|         true|  730|\n|        false|96310|\n+-------------+-----+\n\n"
          ]
        }
      ],
      "execution_count": 15,
      "metadata": {
        "jupyter": {
          "source_hidden": false,
          "outputs_hidden": false
        },
        "nteract": {
          "transient": {
            "deleting": false
          }
        }
      }
    },
    {
      "cell_type": "code",
      "source": [
        "spark.sql('SELECT CASE WHEN retweeted_status is not null THEN \"retweet\" \\\r\n",
        "WHEN is_quote_status is true THEN \"quoted\" \\\r\n",
        "WHEN in_reply_to_status_id_str is not null THEN \"replied\" \\\r\n",
        "ELSE \"simple\" END AS tweet_type, count(*)*100/(select count(*) from tweets WHERE user_verified is true) \\\r\n",
        "FROM tweets \\\r\n",
        "WHERE user_verified is true \\\r\n",
        "GROUP BY tweet_type').show()"
      ],
      "outputs": [
        {
          "output_type": "display_data",
          "data": {
            "application/vnd.livy.statement-meta+json": {
              "spark_pool": "dbmsspark",
              "session_id": "9",
              "statement_id": 17,
              "state": "finished",
              "livy_statement_state": "available",
              "queued_time": "2023-06-06T03:46:01.3787956Z",
              "session_start_time": null,
              "execution_start_time": "2023-06-06T03:46:01.5712726Z",
              "execution_finish_time": "2023-06-06T03:46:08.7041652Z",
              "spark_jobs": null,
              "parent_msg_id": "b4fc8b15-14ba-42dd-b696-a593b7751a98"
            },
            "text/plain": "StatementMeta(dbmsspark, 9, 17, Finished, Available)"
          },
          "metadata": {}
        },
        {
          "output_type": "stream",
          "name": "stdout",
          "text": [
            "+----------+-------------------------------------+\n|tweet_type|((count(1) * 100) / scalarsubquery())|\n+----------+-------------------------------------+\n|    quoted|                     2.73972602739726|\n|   retweet|                     56.3013698630137|\n|   replied|                    40.95890410958904|\n+----------+-------------------------------------+\n\n"
          ]
        }
      ],
      "execution_count": 16,
      "metadata": {
        "jupyter": {
          "source_hidden": false,
          "outputs_hidden": false
        },
        "nteract": {
          "transient": {
            "deleting": false
          }
        }
      }
    },
    {
      "cell_type": "markdown",
      "source": [
        "Checking if we have any simple tweets in the data we have considered for the project"
      ],
      "metadata": {
        "nteract": {
          "transient": {
            "deleting": false
          }
        }
      }
    },
    {
      "cell_type": "code",
      "source": [
        "spark.sql('SELECT count(*) FROM tweets WHERE retweeted_status is null AND \\\r\n",
        "is_quote_status is false AND \\\r\n",
        "in_reply_to_status_id_str is null').show()"
      ],
      "outputs": [
        {
          "output_type": "display_data",
          "data": {
            "application/vnd.livy.statement-meta+json": {
              "spark_pool": "dbmsspark",
              "session_id": "9",
              "statement_id": 18,
              "state": "finished",
              "livy_statement_state": "available",
              "queued_time": "2023-06-06T03:46:12.6730036Z",
              "session_start_time": null,
              "execution_start_time": "2023-06-06T03:46:12.8383795Z",
              "execution_finish_time": "2023-06-06T03:46:16.8775622Z",
              "spark_jobs": null,
              "parent_msg_id": "a1a0e97c-304e-407a-b407-e2c12a54e075"
            },
            "text/plain": "StatementMeta(dbmsspark, 9, 18, Finished, Available)"
          },
          "metadata": {}
        },
        {
          "output_type": "stream",
          "name": "stdout",
          "text": [
            "+--------+\n|count(1)|\n+--------+\n|       0|\n+--------+\n\n"
          ]
        }
      ],
      "execution_count": 17,
      "metadata": {
        "jupyter": {
          "source_hidden": false,
          "outputs_hidden": false
        },
        "nteract": {
          "transient": {
            "deleting": false
          }
        }
      }
    },
    {
      "cell_type": "markdown",
      "source": [
        "# Q5: (path finding) Display the thread (replies) of tweets (the tweet, time, id, in reply to id, user name with their screen name) posted by user with screen_name “blcklcfr” in the order in which they were posted. [HINT: use tweet’s id to discover the thread]\r\n"
      ],
      "metadata": {
        "nteract": {
          "transient": {
            "deleting": false
          }
        }
      }
    },
    {
      "cell_type": "code",
      "source": [
        "display(df.filter(df['user_screen_name'] == \"blcklcfr\"))"
      ],
      "outputs": [
        {
          "output_type": "display_data",
          "data": {
            "application/vnd.livy.statement-meta+json": {
              "spark_pool": "dbmsspark",
              "session_id": "9",
              "statement_id": 19,
              "state": "finished",
              "livy_statement_state": "available",
              "queued_time": "2023-06-06T03:46:24.5882144Z",
              "session_start_time": null,
              "execution_start_time": "2023-06-06T03:46:24.7842968Z",
              "execution_finish_time": "2023-06-06T03:46:30.2736191Z",
              "spark_jobs": null,
              "parent_msg_id": "94c14cc6-5656-4185-81ae-13b513579952"
            },
            "text/plain": "StatementMeta(dbmsspark, 9, 19, Finished, Available)"
          },
          "metadata": {}
        },
        {
          "output_type": "display_data",
          "data": {
            "application/vnd.synapse.widget-view+json": {
              "widget_id": "fbec979b-430b-4f42-be68-95703fd41512",
              "widget_type": "Synapse.DataFrame"
            },
            "text/plain": "SynapseWidget(Synapse.DataFrame, fbec979b-430b-4f42-be68-95703fd41512)"
          },
          "metadata": {}
        }
      ],
      "execution_count": 18,
      "metadata": {
        "jupyter": {
          "source_hidden": false,
          "outputs_hidden": false
        },
        "nteract": {
          "transient": {
            "deleting": false
          }
        },
        "collapsed": false
      }
    },
    {
      "cell_type": "code",
      "source": [
        "filtered_df = df.filter(df['user_screen_name'] == \"Hannah_DeForest\")\r\n",
        "display(filtered_df)"
      ],
      "outputs": [
        {
          "output_type": "display_data",
          "data": {
            "application/vnd.livy.statement-meta+json": {
              "spark_pool": "dbmsspark",
              "session_id": "9",
              "statement_id": 20,
              "state": "finished",
              "livy_statement_state": "available",
              "queued_time": "2023-06-06T03:46:34.575201Z",
              "session_start_time": null,
              "execution_start_time": "2023-06-06T03:46:34.7830131Z",
              "execution_finish_time": "2023-06-06T03:46:39.1226606Z",
              "spark_jobs": null,
              "parent_msg_id": "3e559baa-4c61-4697-a3bb-a2834de1cef7"
            },
            "text/plain": "StatementMeta(dbmsspark, 9, 20, Finished, Available)"
          },
          "metadata": {}
        },
        {
          "output_type": "display_data",
          "data": {
            "application/vnd.synapse.widget-view+json": {
              "widget_id": "bc451f20-21ba-4188-8abc-d888cb945a4c",
              "widget_type": "Synapse.DataFrame"
            },
            "text/plain": "SynapseWidget(Synapse.DataFrame, bc451f20-21ba-4188-8abc-d888cb945a4c)"
          },
          "metadata": {}
        }
      ],
      "execution_count": 19,
      "metadata": {
        "jupyter": {
          "source_hidden": false,
          "outputs_hidden": false
        },
        "nteract": {
          "transient": {
            "deleting": false
          }
        },
        "collapsed": false
      }
    },
    {
      "cell_type": "code",
      "source": [
        "id_list = filtered_df.select(\"id_str\").rdd.flatMap(lambda x: x).collect()\r\n",
        "id_list"
      ],
      "outputs": [
        {
          "output_type": "display_data",
          "data": {
            "application/vnd.livy.statement-meta+json": {
              "spark_pool": "dbmsspark",
              "session_id": "9",
              "statement_id": 21,
              "state": "finished",
              "livy_statement_state": "available",
              "queued_time": "2023-06-06T03:46:35.939872Z",
              "session_start_time": null,
              "execution_start_time": "2023-06-06T03:46:39.3364087Z",
              "execution_finish_time": "2023-06-06T03:46:43.418139Z",
              "spark_jobs": null,
              "parent_msg_id": "76d74c85-9192-40ff-8a37-a33a536682bf"
            },
            "text/plain": "StatementMeta(dbmsspark, 9, 21, Finished, Available)"
          },
          "metadata": {}
        },
        {
          "output_type": "execute_result",
          "execution_count": 43,
          "data": {
            "text/plain": "[995429123563585536,\n 995429185446391808,\n 995429274277433344,\n 995429332393787392,\n 995429471388950528,\n 995429512702779392,\n 995429621947617280,\n 995429635155464192,\n 995429689320726528,\n 995429739446853632,\n 995430045631045632,\n 995430088257802240,\n 995430272182075392,\n 995430633156632576,\n 995430968881278976,\n 995431338206474240,\n 995431496449183744,\n 995431509522894848,\n 995432004949815296,\n 995432046364450816,\n 995432214744698880,\n 995432234902605824,\n 995432541942403072,\n 995432680669044736,\n 995432738185506816,\n 995432810499452928,\n 995432822608486400,\n 995432838781652992,\n 995432927126269952,\n 995433145091739648]"
          },
          "metadata": {}
        }
      ],
      "execution_count": 20,
      "metadata": {
        "jupyter": {
          "source_hidden": false,
          "outputs_hidden": false
        },
        "nteract": {
          "transient": {
            "deleting": false
          }
        }
      }
    },
    {
      "cell_type": "code",
      "source": [
        "replied_tweets = display(df.filter(df['in_reply_to_status_id_str'].isin(id_list)))"
      ],
      "outputs": [
        {
          "output_type": "display_data",
          "data": {
            "application/vnd.livy.statement-meta+json": {
              "spark_pool": "dbmsspark",
              "session_id": "9",
              "statement_id": 22,
              "state": "finished",
              "livy_statement_state": "available",
              "queued_time": "2023-06-06T03:46:44.2804692Z",
              "session_start_time": null,
              "execution_start_time": "2023-06-06T03:46:44.4462513Z",
              "execution_finish_time": "2023-06-06T03:46:49.9519173Z",
              "spark_jobs": null,
              "parent_msg_id": "5e98b893-7a37-4104-9071-a6e2d6644d2c"
            },
            "text/plain": "StatementMeta(dbmsspark, 9, 22, Finished, Available)"
          },
          "metadata": {}
        },
        {
          "output_type": "display_data",
          "data": {
            "application/vnd.synapse.widget-view+json": {
              "widget_id": "d71c820b-0036-4561-a2d4-1981228c07ea",
              "widget_type": "Synapse.DataFrame"
            },
            "text/plain": "SynapseWidget(Synapse.DataFrame, d71c820b-0036-4561-a2d4-1981228c07ea)"
          },
          "metadata": {}
        }
      ],
      "execution_count": 21,
      "metadata": {
        "jupyter": {
          "source_hidden": false,
          "outputs_hidden": false
        },
        "nteract": {
          "transient": {
            "deleting": false
          }
        },
        "collapsed": false
      }
    },
    {
      "cell_type": "code",
      "source": [
        "from pyspark.sql.functions import desc\r\n",
        "df.groupby('user_screen_name').count().orderBy(desc(\"count\")).show()"
      ],
      "outputs": [
        {
          "output_type": "display_data",
          "data": {
            "application/vnd.livy.statement-meta+json": {
              "spark_pool": "dbmsspark",
              "session_id": "9",
              "statement_id": 23,
              "state": "finished",
              "livy_statement_state": "available",
              "queued_time": "2023-06-06T03:46:44.9706887Z",
              "session_start_time": null,
              "execution_start_time": "2023-06-06T03:46:50.1459954Z",
              "execution_finish_time": "2023-06-06T03:46:54.294761Z",
              "spark_jobs": null,
              "parent_msg_id": "7cf94e7d-c248-4a56-9ebe-31dd28dfc7b3"
            },
            "text/plain": "StatementMeta(dbmsspark, 9, 23, Finished, Available)"
          },
          "metadata": {}
        },
        {
          "output_type": "stream",
          "name": "stdout",
          "text": [
            "+----------------+-----+\n|user_screen_name|count|\n+----------------+-----+\n|    _Polar__Fox_|   31|\n| Hannah_DeForest|   30|\n| dariasbutterfly|   29|\n|  kissed__byfire|   24|\n|        viva7890|   23|\n|      _Tea_Live_|   23|\n|      loooi_liss|   22|\n| feelingemeliers|   21|\n|   natalia_cayon|   19|\n|         larche2|   18|\n| fPBpCmuxjwmdLsR|   18|\n|      heybouncer|   18|\n|  LamazoneBlonde|   18|\n| pwfQTtPN7Wf6rCH|   18|\n|         aniolsp|   18|\n|     esc_penguin|   18|\n|    WhiteStar333|   18|\n| DrunkFuckingPie|   17|\n|        pinkpard|   16|\n| iIIuminategrier|   16|\n+----------------+-----+\nonly showing top 20 rows\n\n"
          ]
        }
      ],
      "execution_count": 22,
      "metadata": {
        "jupyter": {
          "source_hidden": false,
          "outputs_hidden": false
        },
        "nteract": {
          "transient": {
            "deleting": false
          }
        }
      }
    },
    {
      "cell_type": "markdown",
      "source": [
        "# Q6: Are there any three users A, B, C such that: Any of User A’s tweet/s were replied to by B and C and vice versa, and B has replied to any of C’s tweet/s and vice versa. How many such trios exist? Display each trio with names, screen names of users. \r\n",
        " "
      ],
      "metadata": {
        "nteract": {
          "transient": {
            "deleting": false
          }
        }
      }
    },
    {
      "cell_type": "code",
      "source": [
        "spark.sql(' SELECT DISTINCT A.user_name AS A_name, A.user_screen_name AS A_screen_name, \\\r\n",
        "                B.user_name AS B_name, B.user_screen_name AS B_screen_name, \\\r\n",
        "                C.user_name AS C_name, C.user_screen_name AS C_screen_name \\\r\n",
        "FROM tweets A \\\r\n",
        "JOIN tweets B ON A.user_screen_name = B.in_reply_to_screen_name AND B.user_screen_name <> A.user_screen_name \\\r\n",
        "JOIN tweets C ON A.user_screen_name = C.in_reply_to_screen_name AND C.user_screen_name <> A.user_screen_name AND C.user_screen_name <> B.user_screen_name \\\r\n",
        "WHERE B.in_reply_to_screen_name = C.user_screen_name ').show()"
      ],
      "outputs": [
        {
          "output_type": "display_data",
          "data": {
            "application/vnd.livy.statement-meta+json": {
              "spark_pool": "dbmsspark",
              "session_id": "9",
              "statement_id": 24,
              "state": "finished",
              "livy_statement_state": "available",
              "queued_time": "2023-06-06T03:46:47.8575149Z",
              "session_start_time": null,
              "execution_start_time": "2023-06-06T03:46:54.4417639Z",
              "execution_finish_time": "2023-06-06T03:46:55.0621786Z",
              "spark_jobs": null,
              "parent_msg_id": "0b86398e-7655-4653-8cdf-b061c5a33d93"
            },
            "text/plain": "StatementMeta(dbmsspark, 9, 24, Finished, Available)"
          },
          "metadata": {}
        },
        {
          "output_type": "stream",
          "name": "stdout",
          "text": [
            "+------+-------------+------+-------------+------+-------------+\n|A_name|A_screen_name|B_name|B_screen_name|C_name|C_screen_name|\n+------+-------------+------+-------------+------+-------------+\n+------+-------------+------+-------------+------+-------------+\n\n"
          ]
        }
      ],
      "execution_count": 23,
      "metadata": {
        "jupyter": {
          "source_hidden": false,
          "outputs_hidden": false
        },
        "nteract": {
          "transient": {
            "deleting": false
          }
        }
      }
    },
    {
      "cell_type": "markdown",
      "source": [
        "---"
      ],
      "metadata": {
        "nteract": {
          "transient": {
            "deleting": false
          }
        }
      }
    },
    {
      "cell_type": "markdown",
      "source": [
        "# END"
      ],
      "metadata": {
        "nteract": {
          "transient": {
            "deleting": false
          }
        }
      }
    }
  ],
  "metadata": {
    "kernelspec": {
      "name": "synapse_pyspark",
      "display_name": "Synapse PySpark"
    },
    "language_info": {
      "name": "python"
    },
    "description": "Twitter Network Analysis",
    "save_output": true,
    "synapse_widget": {
      "version": "0.1",
      "state": {
        "af50fc06-b63c-428a-b9eb-a029c177b0ce": {
          "type": "Synapse.DataFrame",
          "sync_state": {
            "table": {
              "rows": [
                {
                  "0": "2018-05-12 22:22:28",
                  "1": "995429025700000000",
                  "2": "995429025676972032",
                  "3": "RT @BuzzFeedFrance: En réel, on adore Elodie Gossuin, elle fait toujours un effort pour être originale ! #Eurovision https://t.co/L0aw2frKRM",
                  "4": "<a href=\"http://twitter.com/download/android\" rel=\"nofollow\">Twitter for Android</a>",
                  "5": "false",
                  "6": "NaN",
                  "7": "NaN",
                  "8": "NaN",
                  "9": "NaN",
                  "14": "NaN",
                  "15": {
                    "coordinates": null,
                    "retweeted": "false",
                    "source": "<a href=\"https://about.twitter.com/products/tweetdeck\" rel=\"nofollow\">TweetDeck</a>",
                    "entities": "{urls=[], media=[{display_url=pic.twitter.com/L0aw2frKRM, indices=[97, 120], sizes={small={h=280, resize=fit, w=500}, medium={h=280, resize=fit, w=500}, large={h=280, resize=fit, w=500}, thumb={h=150, resize=crop, w=150}}, id_str=995427375004471296, expanded_url=https://twitter.com/BuzzFeedFrance/status/995427474262675456/photo/1, media_url_https=https://pbs.twimg.com/tweet_video_thumb/DdB37G7XUAA56ku.jpg, id=995427375004471296, type=photo, media_url=http://pbs.twimg.com/tweet_video_thumb/DdB37G7XUAA56ku.jpg, url=https://t.co/L0aw2frKRM}], hashtags=[{indices=[85, 96], text=Eurovision}], user_mentions=[], symbols=[]}",
                    "reply_count": "7",
                    "display_text_range": "[0, 96]",
                    "favorite_count": "142",
                    "in_reply_to_status_id_str": null,
                    "geo": null,
                    "id_str": "995427474262675456",
                    "in_reply_to_user_id": null,
                    "truncated": "false",
                    "text": "En réel, on adore Elodie Gossuin, elle fait toujours un effort pour être originale ! #Eurovision https://t.co/L0aw2frKRM",
                    "retweet_count": "50",
                    "id": "995427474262675456",
                    "in_reply_to_status_id": null,
                    "possibly_sensitive": "false",
                    "filter_level": "low",
                    "created_at": "Sat May 12 22:16:18 +0000 2018",
                    "place": null,
                    "favorited": "false",
                    "lang": "fr",
                    "contributors": null,
                    "in_reply_to_screen_name": null,
                    "is_quote_status": "false",
                    "in_reply_to_user_id_str": null,
                    "user": "{utc_offset=-14400, friends_count=315, profile_image_url_https=https://pbs.twimg.com/profile_images/720581471300243456/gj2pjSF-_normal.jpg, profile_background_image_url=http://pbs.twimg.com/profile_background_images/501742057002520576/Ln3ibc9F.jpeg, listed_count=535, default_profile_image=false, favourites_count=1513, is_translator=false, created_at=Sun Sep 08 02:46:06 +0000 2013, description=Ça mérite d'être partagé, profile_background_image_url_https=https://pbs.twimg.com/profile_background_images/501742057002520576/Ln3ibc9F.jpeg, protected=false, screen_name=BuzzFeedFrance, profile_link_color=0084B4, id_str=1798205671, translator_type=none, profile_background_color=9AE4E8, geo_enabled=false, id=1798205671, lang=fr, profile_sidebar_border_color=FFFFFF, profile_text_color=333333, verified=true, profile_image_url=http://pbs.twimg.com/profile_images/720581471300243456/gj2pjSF-_normal.jpg, time_zone=Eastern Time (US & Canada), contributors_enabled=false, url=http://buzzfeed.com, profile_banner_url=https://pbs.twimg.com/profile_banners/1798205671/1460635048, profile_background_tile=true, follow_request_sent=null, statuses_count=42258, following=null, default_profile=false, profile_use_background_image=true, followers_count=30614, name=BuzzFeed France, profile_sidebar_fill_color=DDEEF6, location=Paris, France, notifications=null}",
                    "extended_entities": "{media=[{display_url=pic.twitter.com/L0aw2frKRM, indices=[97, 120], sizes={small={h=280, resize=fit, w=500}, medium={h=280, resize=fit, w=500}, large={h=280, resize=fit, w=500}, thumb={h=150, resize=crop, w=150}}, id_str=995427375004471296, expanded_url=https://twitter.com/BuzzFeedFrance/status/995427474262675456/photo/1, media_url_https=https://pbs.twimg.com/tweet_video_thumb/DdB37G7XUAA56ku.jpg, id=995427375004471296, type=animated_gif, media_url=http://pbs.twimg.com/tweet_video_thumb/DdB37G7XUAA56ku.jpg, video_info={aspect_ratio=[25, 14], variants=[{bitrate=0, content_type=video/mp4, url=https://video.twimg.com/tweet_video/DdB37G7XUAA56ku.mp4}]}, url=https://t.co/L0aw2frKRM}]}",
                    "quote_count": "3"
                  },
                  "16": "false",
                  "17": "0",
                  "18": "0",
                  "19": "0",
                  "20": "0",
                  "21": {
                    "media": [
                      {
                        "expanded_url": null,
                        "source_status_id": 995427474262675500,
                        "indices": null,
                        "url": null,
                        "media_url": null,
                        "id_str": null,
                        "video_info": null,
                        "source_user_id": 1798205671,
                        "id": 995427375004471300,
                        "media_url_https": null,
                        "source_user_id_str": null,
                        "sizes": null,
                        "type": null,
                        "source_status_id_str": null,
                        "display_url": null
                      }
                    ]
                  },
                  "22": "false",
                  "23": "false",
                  "24": "0.0",
                  "25": "low",
                  "26": "fr",
                  "27": "2018-05-12 22:22:28.555",
                  "29": "NaN",
                  "30": "NaN",
                  "32": "NaN",
                  "35": "3.09561448E8",
                  "36": "3.09561448E8",
                  "37": "Marjorie 🌸",
                  "38": "london_mb",
                  "39": "Mustard city",
                  "40": "https://www.instagram.com/mipequenocorazoncito/",
                  "41": "Ex-Expat 🇬🇧 🇨🇴  \nCat, Music & Cinema lover.\n\n\n\n\n\nMum of a babygirl ❤",
                  "42": "none",
                  "43": "0.0",
                  "44": "0.0",
                  "45": "368.0",
                  "46": "818.0",
                  "47": "31.0",
                  "48": "53.0",
                  "49": "6519.0",
                  "50": "2011-06-02 09:03:37",
                  "51": "3600.0",
                  "52": "London",
                  "53": "1.0",
                  "54": "en",
                  "55": "0.0",
                  "56": "0.0",
                  "57": "000000",
                  "58": "http://abs.twimg.com/images/themes/theme15/bg.png",
                  "59": "https://abs.twimg.com/images/themes/theme15/bg.png",
                  "60": "0.0",
                  "61": "E81C4F",
                  "62": "000000",
                  "63": "000000",
                  "64": "000000",
                  "65": "0.0",
                  "66": "http://pbs.twimg.com/profile_images/909823370912550912/jaP9FqXc_normal.jpg",
                  "67": "https://pbs.twimg.com/profile_images/909823370912550912/jaP9FqXc_normal.jpg",
                  "68": "https://pbs.twimg.com/profile_banners/309561448/1496995707",
                  "69": "0.0",
                  "70": "0.0",
                  "71": "NaN",
                  "72": "NaN",
                  "73": "NaN",
                  "74": [],
                  "75": [
                    {
                      "name": "BuzzFeed France",
                      "screen_name": "BuzzFeedFrance",
                      "indices": "[3, 18]",
                      "id_str": "1798205671",
                      "id": "1798205671"
                    }
                  ],
                  "76": [],
                  "77": [
                    {
                      "expanded_url": null,
                      "source_status_id": 995427474262675500,
                      "indices": null,
                      "url": null,
                      "media_url": null,
                      "id_str": null,
                      "source_user_id": 1798205671,
                      "id": 995427375004471300,
                      "media_url_https": null,
                      "source_user_id_str": null,
                      "sizes": null,
                      "type": null,
                      "source_status_id_str": null,
                      "display_url": null
                    }
                  ],
                  "78": "Eurovision",
                  "79": [
                    105,
                    116
                  ]
                },
                {
                  "0": "2018-05-12 22:22:28",
                  "1": "995429025900000000",
                  "2": "995429025924419584",
                  "3": "@GuyOverboard @matteowolk @NaliOfficial No io supporto l' italia in eurovision a seconda di chi canta... ma eurovision tutta la vita...",
                  "4": "<a href=\"http://twitter.com/download/android\" rel=\"nofollow\">Twitter for Android</a>",
                  "5": "false",
                  "6": "9.954285782E17",
                  "7": "9.9542857815318938E17",
                  "8": "5.85866849E8",
                  "9": "5.85866849E8",
                  "10": "GuyOverboard",
                  "14": "NaN",
                  "16": "false",
                  "17": "0",
                  "18": "0",
                  "19": "0",
                  "20": "0",
                  "22": "false",
                  "23": "false",
                  "24": "NaN",
                  "25": "low",
                  "26": "it",
                  "27": "2018-05-12 22:22:28.614",
                  "28": [
                    40,
                    135
                  ],
                  "29": "NaN",
                  "30": "NaN",
                  "32": "NaN",
                  "35": "3.16633905E8",
                  "36": "3.16633905E8",
                  "37": "Dieghitox",
                  "38": "dieghitoRandD",
                  "39": "Milano, Italia",
                  "40": "https://www.facebook.com/Diegotox",
                  "41": "Milanese, tossicologo ambientale, ricercatore, ballerino, Pausiniano, FaNale, Mengoniano e Giorgiano, divoratore di musica, testardo, impulsivo/riflessivo",
                  "42": "none",
                  "43": "0.0",
                  "44": "0.0",
                  "45": "441.0",
                  "46": "662.0",
                  "47": "7.0",
                  "48": "12570.0",
                  "49": "15207.0",
                  "50": "2011-06-13 18:53:50",
                  "51": "NaN",
                  "53": "1.0",
                  "54": "it",
                  "55": "0.0",
                  "56": "0.0",
                  "57": "352726",
                  "58": "http://pbs.twimg.com/profile_background_images/269437684/5960_107171330697_710055697_2293757_1464913_n.jpg",
                  "59": "https://pbs.twimg.com/profile_background_images/269437684/5960_107171330697_710055697_2293757_1464913_n.jpg",
                  "60": "0.0",
                  "61": "0865F2",
                  "62": "829D5E",
                  "63": "99CC33",
                  "64": "3E4415",
                  "65": "1.0",
                  "66": "http://pbs.twimg.com/profile_images/840099651017617408/_p9cfnBD_normal.jpg",
                  "67": "https://pbs.twimg.com/profile_images/840099651017617408/_p9cfnBD_normal.jpg",
                  "68": "https://pbs.twimg.com/profile_banners/316633905/1399579414",
                  "69": "0.0",
                  "70": "0.0",
                  "71": "NaN",
                  "72": "NaN",
                  "73": "NaN",
                  "74": [],
                  "75": [
                    {
                      "name": "Riccardo Onorato",
                      "screen_name": "GuyOverboard",
                      "indices": "[0, 13]",
                      "id_str": "585866849",
                      "id": "585866849"
                    },
                    {
                      "name": "Matteowolk",
                      "screen_name": "matteowolk",
                      "indices": "[14, 25]",
                      "id_str": "159876750",
                      "id": "159876750"
                    },
                    {
                      "name": "ANNALISA",
                      "screen_name": "NaliOfficial",
                      "indices": "[26, 39]",
                      "id_str": "492284773",
                      "id": "492284773"
                    }
                  ],
                  "76": [],
                  "78": "eurovision",
                  "79": [
                    103,
                    114
                  ]
                },
                {
                  "0": "2018-05-12 22:22:28",
                  "1": "995429025600000000",
                  "2": "995429025614090240",
                  "3": "RT @jk_rowling: Apparently the Australian commentator called @surieofficial's stage invader 'some absolute cockhead' and I don't want to he…",
                  "4": "<a href=\"http://twitter.com/download/android\" rel=\"nofollow\">Twitter for Android</a>",
                  "5": "false",
                  "6": "NaN",
                  "7": "NaN",
                  "8": "NaN",
                  "9": "NaN",
                  "14": "NaN",
                  "15": {
                    "coordinates": null,
                    "retweeted": "false",
                    "source": "<a href=\"http://twitter.com\" rel=\"nofollow\">Twitter Web Client</a>",
                    "entities": "{urls=[{expanded_url=https://twitter.com/i/web/status/995407380358852608, display_url=twitter.com/i/web/status/9…, indices=[117, 140], url=https://t.co/vdR2l8rPHV}], hashtags=[], user_mentions=[{name=SuRie, indices=[45, 59], id=46170618, screen_name=surieofficial, id_str=46170618}], symbols=[]}",
                    "reply_count": "281",
                    "favorite_count": "17545",
                    "in_reply_to_status_id_str": null,
                    "geo": null,
                    "id_str": "995407380358852608",
                    "in_reply_to_user_id": null,
                    "truncated": "true",
                    "text": "Apparently the Australian commentator called @surieofficial's stage invader 'some absolute cockhead' and I don't wa… https://t.co/vdR2l8rPHV",
                    "retweet_count": "4196",
                    "extended_tweet": "{display_text_range=[0, 187], entities={urls=[], hashtags=[{indices=[164, 175], text=Eurovision}], user_mentions=[{name=SuRie, indices=[45, 59], id=46170618, screen_name=surieofficial, id_str=46170618}], symbols=[]}, full_text=Apparently the Australian commentator called @surieofficial's stage invader 'some absolute cockhead' and I don't want to hear another word about Australia being in #Eurovision ever again.}",
                    "id": "995407380358852608",
                    "in_reply_to_status_id": null,
                    "filter_level": "low",
                    "created_at": "Sat May 12 20:56:27 +0000 2018",
                    "place": null,
                    "favorited": "false",
                    "lang": "en",
                    "contributors": null,
                    "in_reply_to_screen_name": null,
                    "is_quote_status": "false",
                    "in_reply_to_user_id_str": null,
                    "user": "{utc_offset=3600, friends_count=592, profile_image_url_https=https://pbs.twimg.com/profile_images/995058508633661441/OA8LlNgy_normal.jpg, profile_background_image_url=http://pbs.twimg.com/profile_background_images/703701999540371458/D7Ra4NMs.jpg, listed_count=37540, default_profile_image=false, favourites_count=20415, is_translator=false, created_at=Mon Aug 03 13:23:45 +0000 2009, description=For contact details, see website (sorry, but too many DMs to read), profile_background_image_url_https=https://pbs.twimg.com/profile_background_images/703701999540371458/D7Ra4NMs.jpg, protected=false, screen_name=jk_rowling, profile_link_color=FF4C4C, id_str=62513246, translator_type=regular, profile_background_color=1A1B1F, geo_enabled=false, id=62513246, lang=en, profile_sidebar_border_color=000000, profile_text_color=000000, verified=true, profile_image_url=http://pbs.twimg.com/profile_images/995058508633661441/OA8LlNgy_normal.jpg, time_zone=London, contributors_enabled=false, url=http://www.jkrowling.com, profile_banner_url=https://pbs.twimg.com/profile_banners/62513246/1526075554, profile_background_tile=true, follow_request_sent=null, statuses_count=10130, following=null, default_profile=false, profile_use_background_image=true, followers_count=14440753, name=J.K. Rowling, profile_sidebar_fill_color=000000, location=Scotland, notifications=null}",
                    "quote_count": "259"
                  },
                  "16": "false",
                  "17": "0",
                  "18": "0",
                  "19": "0",
                  "20": "0",
                  "22": "false",
                  "23": "false",
                  "24": "NaN",
                  "25": "low",
                  "26": "en",
                  "27": "2018-05-12 22:22:28.54",
                  "29": "NaN",
                  "30": "NaN",
                  "32": "NaN",
                  "35": "1.71031365E8",
                  "36": "1.71031365E8",
                  "37": "River Song",
                  "38": "MegReeves93",
                  "39": "Essex, UK",
                  "40": "http://www.meganandherponchoboys.wordpress.com/",
                  "41": "TV binger. Food enthusiast. Freelance Multimedia Journalist. Creator of Megan and Her Poncho Boys. I didn't choose the nerd life, the nerd life chose me. 🤓",
                  "42": "none",
                  "43": "0.0",
                  "44": "0.0",
                  "45": "515.0",
                  "46": "346.0",
                  "47": "17.0",
                  "48": "32865.0",
                  "49": "48615.0",
                  "50": "2010-07-26 11:33:54",
                  "51": "3600.0",
                  "52": "Europe/London",
                  "53": "0.0",
                  "54": "en",
                  "55": "0.0",
                  "56": "0.0",
                  "57": "FCEBB6",
                  "58": "http://pbs.twimg.com/profile_background_images/832104454/7b3230c843dc98329bc7b241236411cd.jpeg",
                  "59": "https://pbs.twimg.com/profile_background_images/832104454/7b3230c843dc98329bc7b241236411cd.jpeg",
                  "60": "1.0",
                  "61": "1B95E0",
                  "62": "000000",
                  "63": "78C0A8",
                  "64": "CE7834",
                  "65": "1.0",
                  "66": "http://pbs.twimg.com/profile_images/992443480420085760/NtzzOPja_normal.jpg",
                  "67": "https://pbs.twimg.com/profile_images/992443480420085760/NtzzOPja_normal.jpg",
                  "68": "https://pbs.twimg.com/profile_banners/171031365/1502910057",
                  "69": "0.0",
                  "70": "0.0",
                  "71": "NaN",
                  "72": "NaN",
                  "73": "NaN",
                  "74": [],
                  "75": [
                    {
                      "name": "J.K. Rowling",
                      "screen_name": "jk_rowling",
                      "indices": "[3, 14]",
                      "id_str": "62513246",
                      "id": "62513246"
                    },
                    {
                      "name": "SuRie",
                      "screen_name": "surieofficial",
                      "indices": "[61, 75]",
                      "id_str": "46170618",
                      "id": "46170618"
                    }
                  ],
                  "76": [],
                  "78": "Eurovision",
                  "79": [
                    58,
                    69
                  ]
                },
                {
                  "0": "2018-05-12 22:22:28",
                  "1": "995429026000000000",
                  "2": "995429025995788288",
                  "3": "RT @ElAbu__: Turismo de borrachera ! que sepáis que se acabaron los viajes a España con todo incluido. #eurovision https://t.co/x1P5aQcNcl",
                  "4": "<a href=\"http://twitter.com/download/iphone\" rel=\"nofollow\">Twitter for iPhone</a>",
                  "5": "false",
                  "6": "NaN",
                  "7": "NaN",
                  "8": "NaN",
                  "9": "NaN",
                  "14": "NaN",
                  "15": {
                    "coordinates": null,
                    "retweeted": "false",
                    "source": "<a href=\"http://twitter.com/download/android\" rel=\"nofollow\">Twitter for Android</a>",
                    "entities": "{urls=[], media=[{display_url=pic.twitter.com/x1P5aQcNcl, indices=[102, 125], sizes={small={h=640, resize=fit, w=360}, medium={h=640, resize=fit, w=360}, large={h=640, resize=fit, w=360}, thumb={h=150, resize=crop, w=150}}, id_str=995427620807499777, expanded_url=https://twitter.com/ElAbu__/status/995427673932550145/video/1, media_url_https=https://pbs.twimg.com/ext_tw_video_thumb/995427620807499777/pu/img/JAAysXBfb9TEdw9T.jpg, id=995427620807499777, type=photo, additional_media_info={monetizable=false}, media_url=http://pbs.twimg.com/ext_tw_video_thumb/995427620807499777/pu/img/JAAysXBfb9TEdw9T.jpg, url=https://t.co/x1P5aQcNcl}], hashtags=[{indices=[90, 101], text=eurovision}], user_mentions=[], symbols=[]}",
                    "reply_count": "1",
                    "display_text_range": "[0, 101]",
                    "favorite_count": "43",
                    "in_reply_to_status_id_str": null,
                    "geo": null,
                    "id_str": "995427673932550145",
                    "in_reply_to_user_id": null,
                    "truncated": "false",
                    "text": "Turismo de borrachera ! que sepáis que se acabaron los viajes a España con todo incluido. #eurovision https://t.co/x1P5aQcNcl",
                    "retweet_count": "28",
                    "id": "995427673932550145",
                    "in_reply_to_status_id": null,
                    "possibly_sensitive": "false",
                    "filter_level": "low",
                    "created_at": "Sat May 12 22:17:06 +0000 2018",
                    "place": null,
                    "favorited": "false",
                    "lang": "es",
                    "contributors": null,
                    "in_reply_to_screen_name": null,
                    "is_quote_status": "false",
                    "in_reply_to_user_id_str": null,
                    "user": "{utc_offset=7200, friends_count=2951, profile_image_url_https=https://pbs.twimg.com/profile_images/976219465384972290/a6UygaTS_normal.jpg, profile_background_image_url=http://abs.twimg.com/images/themes/theme1/bg.png, listed_count=81, default_profile_image=false, favourites_count=84271, is_translator=false, created_at=Thu Apr 26 17:58:12 +0000 2012, description=Que no te preocupe lo que escriban sobre ti otros tuiteros, si lo hacen es por que te leen, si te leen es por que les interesa lo que escribes, profile_background_image_url_https=https://abs.twimg.com/images/themes/theme1/bg.png, protected=false, screen_name=ElAbu__, profile_link_color=1DA1F2, id_str=563997282, translator_type=none, profile_background_color=C0DEED, geo_enabled=true, id=563997282, lang=es, profile_sidebar_border_color=C0DEED, profile_text_color=333333, verified=false, profile_image_url=http://pbs.twimg.com/profile_images/976219465384972290/a6UygaTS_normal.jpg, time_zone=Amsterdam, contributors_enabled=false, url=https://youtu.be/00FEQHAOM7A, profile_banner_url=https://pbs.twimg.com/profile_banners/563997282/1514712320, profile_background_tile=false, follow_request_sent=null, statuses_count=50830, following=null, default_profile=true, profile_use_background_image=true, followers_count=14868, name=El Abu, profile_sidebar_fill_color=DDEEF6, location=El Paraiso CANARIAS. , notifications=null}",
                    "extended_entities": "{media=[{display_url=pic.twitter.com/x1P5aQcNcl, type=video, media_url=http://pbs.twimg.com/ext_tw_video_thumb/995427620807499777/pu/img/JAAysXBfb9TEdw9T.jpg, url=https://t.co/x1P5aQcNcl, indices=[102, 125], sizes={small={h=640, resize=fit, w=360}, medium={h=640, resize=fit, w=360}, large={h=640, resize=fit, w=360}, thumb={h=150, resize=crop, w=150}}, id_str=995427620807499777, expanded_url=https://twitter.com/ElAbu__/status/995427673932550145/video/1, media_url_https=https://pbs.twimg.com/ext_tw_video_thumb/995427620807499777/pu/img/JAAysXBfb9TEdw9T.jpg, id=995427620807499777, additional_media_info={monetizable=false}, video_info={aspect_ratio=[9, 16], duration_millis=2796, variants=[{bitrate=832000, content_type=video/mp4, url=https://video.twimg.com/ext_tw_video/995427620807499777/pu/vid/360x640/VPvtcIf6Bk2XvvgZ.mp4?tag=3}, {content_type=application/x-mpegURL, url=https://video.twimg.com/ext_tw_video/995427620807499777/pu/pl/xJaQYUhKJQDgQBYY.m3u8?tag=3}, {bitrate=256000, content_type=video/mp4, url=https://video.twimg.com/ext_tw_video/995427620807499777/pu/vid/180x320/7T4MmFxTSCAaDC0O.mp4?tag=3}]}}]}",
                    "quote_count": "0"
                  },
                  "16": "false",
                  "17": "0",
                  "18": "0",
                  "19": "0",
                  "20": "0",
                  "21": {
                    "media": [
                      {
                        "expanded_url": null,
                        "source_status_id": 995427673932550100,
                        "indices": null,
                        "url": null,
                        "media_url": null,
                        "id_str": null,
                        "video_info": null,
                        "source_user_id": 563997282,
                        "additional_media_info": null,
                        "id": 995427620807499800,
                        "media_url_https": null,
                        "source_user_id_str": null,
                        "sizes": null,
                        "type": null,
                        "source_status_id_str": null,
                        "display_url": null
                      }
                    ]
                  },
                  "22": "false",
                  "23": "false",
                  "24": "0.0",
                  "25": "low",
                  "26": "es",
                  "27": "2018-05-12 22:22:28.631",
                  "29": "NaN",
                  "30": "NaN",
                  "32": "NaN",
                  "35": "1.40788235E8",
                  "36": "1.40788235E8",
                  "37": "Maria Bretón Gallego",
                  "38": "mariabretong",
                  "39": "Madrid",
                  "40": "http://www.mariabretongallego.com/",
                  "41": "Head of Social Groupm España (@wpp) Dir Posgrado Comunicación Digital Inesdi @TwitterEspana ambassador #speaker Prof at @IEBusiness @TheValleyDBS",
                  "42": "none",
                  "43": "0.0",
                  "44": "0.0",
                  "45": "17309.0",
                  "46": "5827.0",
                  "47": "2746.0",
                  "48": "786.0",
                  "49": "41407.0",
                  "50": "2010-05-06 11:09:20",
                  "51": "7200.0",
                  "52": "Madrid",
                  "53": "0.0",
                  "54": "es",
                  "55": "0.0",
                  "56": "0.0",
                  "57": "887994",
                  "58": "http://pbs.twimg.com/profile_background_images/427661477/twilk_background_4f3ec567d7797.jpg",
                  "59": "https://pbs.twimg.com/profile_background_images/427661477/twilk_background_4f3ec567d7797.jpg",
                  "60": "1.0",
                  "61": "0C7DF5",
                  "62": "FFFFFF",
                  "63": "DDE6EB",
                  "64": "192457",
                  "65": "1.0",
                  "66": "http://pbs.twimg.com/profile_images/755855725818175488/ZxdNt-gh_normal.jpg",
                  "67": "https://pbs.twimg.com/profile_images/755855725818175488/ZxdNt-gh_normal.jpg",
                  "68": "https://pbs.twimg.com/profile_banners/140788235/1506885561",
                  "69": "0.0",
                  "70": "0.0",
                  "71": "NaN",
                  "72": "NaN",
                  "73": "NaN",
                  "74": [],
                  "75": [
                    {
                      "name": "El Abu",
                      "screen_name": "ElAbu__",
                      "indices": "[3, 11]",
                      "id_str": "563997282",
                      "id": "563997282"
                    }
                  ],
                  "76": [],
                  "77": [
                    {
                      "expanded_url": null,
                      "source_status_id": 995427673932550100,
                      "indices": null,
                      "url": null,
                      "media_url": null,
                      "id_str": null,
                      "source_user_id": 563997282,
                      "additional_media_info": null,
                      "id": 995427620807499800,
                      "media_url_https": null,
                      "source_user_id_str": null,
                      "sizes": null,
                      "type": null,
                      "source_status_id_str": null,
                      "display_url": null
                    }
                  ],
                  "78": "Austria",
                  "79": [
                    39,
                    47
                  ]
                },
                {
                  "0": "2018-05-12 22:22:28",
                  "1": "995429026200000128",
                  "2": "995429026180358144",
                  "3": "RT @RitaListing: Sempre que alguém dá 12 pontos a Israel. #Eurovision https://t.co/i3qQyXaslb",
                  "4": "<a href=\"http://twitter.com/download/iphone\" rel=\"nofollow\">Twitter for iPhone</a>",
                  "5": "false",
                  "6": "NaN",
                  "7": "NaN",
                  "8": "NaN",
                  "9": "NaN",
                  "14": "NaN",
                  "15": {
                    "coordinates": null,
                    "retweeted": "false",
                    "source": "<a href=\"http://twitter.com/download/iphone\" rel=\"nofollow\">Twitter for iPhone</a>",
                    "entities": "{urls=[], media=[{display_url=pic.twitter.com/i3qQyXaslb, indices=[53, 76], sizes={small={h=180, resize=fit, w=220}, medium={h=180, resize=fit, w=220}, large={h=180, resize=fit, w=220}, thumb={h=150, resize=crop, w=150}}, id_str=995427614503383041, expanded_url=https://twitter.com/RitaListing/status/995427628910829568/photo/1, media_url_https=https://pbs.twimg.com/tweet_video_thumb/DdB4JDIWsAEfabT.jpg, id=995427614503383041, type=photo, media_url=http://pbs.twimg.com/tweet_video_thumb/DdB4JDIWsAEfabT.jpg, url=https://t.co/i3qQyXaslb}], hashtags=[{indices=[41, 52], text=Eurovision}], user_mentions=[], symbols=[]}",
                    "reply_count": "0",
                    "display_text_range": "[0, 52]",
                    "favorite_count": "162",
                    "in_reply_to_status_id_str": null,
                    "geo": null,
                    "id_str": "995427628910829568",
                    "in_reply_to_user_id": null,
                    "truncated": "false",
                    "text": "Sempre que alguém dá 12 pontos a Israel. #Eurovision https://t.co/i3qQyXaslb",
                    "retweet_count": "249",
                    "id": "995427628910829568",
                    "in_reply_to_status_id": null,
                    "possibly_sensitive": "false",
                    "filter_level": "low",
                    "created_at": "Sat May 12 22:16:55 +0000 2018",
                    "place": null,
                    "favorited": "false",
                    "lang": "pt",
                    "contributors": null,
                    "in_reply_to_screen_name": null,
                    "is_quote_status": "false",
                    "in_reply_to_user_id_str": null,
                    "user": "{utc_offset=3600, friends_count=831, profile_image_url_https=https://pbs.twimg.com/profile_images/968627275280371722/hy__gHNS_normal.jpg, profile_background_image_url=http://abs.twimg.com/images/themes/theme17/bg.gif, listed_count=37, default_profile_image=false, favourites_count=11302, is_translator=false, created_at=Wed Sep 09 00:46:35 +0000 2009, description=A vida é bué de cenas., profile_background_image_url_https=https://abs.twimg.com/images/themes/theme17/bg.gif, protected=false, screen_name=RitaListing, profile_link_color=DD2E44, id_str=72718159, translator_type=none, profile_background_color=DBE9ED, geo_enabled=true, id=72718159, lang=en, profile_sidebar_border_color=000000, profile_text_color=000000, verified=false, profile_image_url=http://pbs.twimg.com/profile_images/968627275280371722/hy__gHNS_normal.jpg, time_zone=Lisbon, contributors_enabled=false, url=http://Instagram.com/ritalisting, profile_banner_url=https://pbs.twimg.com/profile_banners/72718159/1442283634, profile_background_tile=false, follow_request_sent=null, statuses_count=99778, following=null, default_profile=false, profile_use_background_image=true, followers_count=18080, name=Rita Listing, profile_sidebar_fill_color=000000, location=Lisbon, Portugal, notifications=null}",
                    "extended_entities": "{media=[{display_url=pic.twitter.com/i3qQyXaslb, indices=[53, 76], sizes={small={h=180, resize=fit, w=220}, medium={h=180, resize=fit, w=220}, large={h=180, resize=fit, w=220}, thumb={h=150, resize=crop, w=150}}, id_str=995427614503383041, expanded_url=https://twitter.com/RitaListing/status/995427628910829568/photo/1, media_url_https=https://pbs.twimg.com/tweet_video_thumb/DdB4JDIWsAEfabT.jpg, id=995427614503383041, type=animated_gif, media_url=http://pbs.twimg.com/tweet_video_thumb/DdB4JDIWsAEfabT.jpg, video_info={aspect_ratio=[11, 9], variants=[{bitrate=0, content_type=video/mp4, url=https://video.twimg.com/tweet_video/DdB4JDIWsAEfabT.mp4}]}, url=https://t.co/i3qQyXaslb}]}",
                    "quote_count": "3"
                  },
                  "16": "false",
                  "17": "0",
                  "18": "0",
                  "19": "0",
                  "20": "0",
                  "21": {
                    "media": [
                      {
                        "expanded_url": null,
                        "source_status_id": 995427628910829600,
                        "indices": null,
                        "url": null,
                        "media_url": null,
                        "id_str": null,
                        "video_info": null,
                        "source_user_id": 72718159,
                        "id": 995427614503383000,
                        "media_url_https": null,
                        "source_user_id_str": null,
                        "sizes": null,
                        "type": null,
                        "source_status_id_str": null,
                        "display_url": null
                      }
                    ]
                  },
                  "22": "false",
                  "23": "false",
                  "24": "0.0",
                  "25": "low",
                  "26": "pt",
                  "27": "2018-05-12 22:22:28.675",
                  "29": "NaN",
                  "30": "NaN",
                  "32": "NaN",
                  "35": "2.942873627E9",
                  "36": "2.942873627E9",
                  "37": "Chica",
                  "38": "chicaa26",
                  "41": "https://www.instagram.com/chica_160/",
                  "42": "none",
                  "43": "0.0",
                  "44": "0.0",
                  "45": "640.0",
                  "46": "282.0",
                  "47": "4.0",
                  "48": "14899.0",
                  "49": "13322.0",
                  "50": "2014-12-26 22:57:42",
                  "51": "NaN",
                  "53": "1.0",
                  "54": "pt",
                  "55": "0.0",
                  "56": "0.0",
                  "57": "000000",
                  "58": "http://abs.twimg.com/images/themes/theme1/bg.png",
                  "59": "https://abs.twimg.com/images/themes/theme1/bg.png",
                  "60": "0.0",
                  "61": "7FDBB6",
                  "62": "000000",
                  "63": "000000",
                  "64": "000000",
                  "65": "0.0",
                  "66": "http://pbs.twimg.com/profile_images/966072188121034752/Rmr72HKn_normal.jpg",
                  "67": "https://pbs.twimg.com/profile_images/966072188121034752/Rmr72HKn_normal.jpg",
                  "68": "https://pbs.twimg.com/profile_banners/2942873627/1519566445",
                  "69": "0.0",
                  "70": "0.0",
                  "71": "NaN",
                  "72": "NaN",
                  "73": "NaN",
                  "74": [],
                  "75": [
                    {
                      "name": "Rita Listing",
                      "screen_name": "RitaListing",
                      "indices": "[3, 15]",
                      "id_str": "72718159",
                      "id": "72718159"
                    }
                  ],
                  "76": [],
                  "77": [
                    {
                      "expanded_url": null,
                      "source_status_id": 995427628910829600,
                      "indices": null,
                      "url": null,
                      "media_url": null,
                      "id_str": null,
                      "source_user_id": 72718159,
                      "id": 995427614503383000,
                      "media_url_https": null,
                      "source_user_id_str": null,
                      "sizes": null,
                      "type": null,
                      "source_status_id_str": null,
                      "display_url": null
                    }
                  ],
                  "78": "Eurovision",
                  "79": [
                    49,
                    60
                  ]
                },
                {
                  "0": "2018-05-12 22:22:28",
                  "1": "995429026100000000",
                  "2": "995429026134192128",
                  "3": "RT @LauOvixdo: Eurovisión es una especie de Juegos del Hambre. Hay países que pueden llevar una porquería de canción, pero aún así quedarán…",
                  "4": "<a href=\"http://twitter.com/download/android\" rel=\"nofollow\">Twitter for Android</a>",
                  "5": "false",
                  "6": "NaN",
                  "7": "NaN",
                  "8": "NaN",
                  "9": "NaN",
                  "14": "NaN",
                  "15": {
                    "coordinates": null,
                    "retweeted": "false",
                    "source": "<a href=\"http://twitter.com/download/android\" rel=\"nofollow\">Twitter for Android</a>",
                    "entities": "{urls=[{expanded_url=https://twitter.com/i/web/status/995428957490237440, display_url=twitter.com/i/web/status/9…, indices=[117, 140], url=https://t.co/7Myw9hRzk9}], hashtags=[], user_mentions=[], symbols=[]}",
                    "reply_count": "0",
                    "favorite_count": "0",
                    "in_reply_to_status_id_str": null,
                    "geo": null,
                    "id_str": "995428957490237440",
                    "in_reply_to_user_id": null,
                    "truncated": "true",
                    "text": "Eurovisión es una especie de Juegos del Hambre. Hay países que pueden llevar una porquería de canción, pero aún así… https://t.co/7Myw9hRzk9",
                    "retweet_count": "1",
                    "extended_tweet": "{display_text_range=[0, 271], entities={urls=[], hashtags=[{indices=[260, 271], text=Eurovision}], user_mentions=[], symbols=[]}, full_text=Eurovisión es una especie de Juegos del Hambre. Hay países que pueden llevar una porquería de canción, pero aún así quedarán entre los primeros puestos. Y luego están países como España, que mueren los primeros cinco minutos y nadie se acuerda nunca de ellos. #Eurovision}",
                    "id": "995428957490237440",
                    "in_reply_to_status_id": null,
                    "filter_level": "low",
                    "created_at": "Sat May 12 22:22:12 +0000 2018",
                    "place": null,
                    "favorited": "false",
                    "lang": "es",
                    "contributors": null,
                    "in_reply_to_screen_name": null,
                    "is_quote_status": "false",
                    "in_reply_to_user_id_str": null,
                    "user": "{utc_offset=10800, friends_count=471, profile_image_url_https=https://pbs.twimg.com/profile_images/993426656852398080/sC0CZkJZ_normal.jpg, profile_background_image_url=http://abs.twimg.com/images/themes/theme1/bg.png, listed_count=24, default_profile_image=false, favourites_count=21136, is_translator=false, created_at=Sun Jun 01 21:10:17 +0000 2014, description=❛ She packed up her potential and all she had learned, grabbed a cute pair of shoes and headed out to change a few things. ❜, profile_background_image_url_https=https://abs.twimg.com/images/themes/theme1/bg.png, protected=false, screen_name=LauOvixdo, profile_link_color=F5ABB5, id_str=2576124857, translator_type=regular, profile_background_color=000000, geo_enabled=true, id=2576124857, lang=es, profile_sidebar_border_color=000000, profile_text_color=000000, verified=false, profile_image_url=http://pbs.twimg.com/profile_images/993426656852398080/sC0CZkJZ_normal.jpg, time_zone=Athens, contributors_enabled=false, url=null, profile_banner_url=https://pbs.twimg.com/profile_banners/2576124857/1525686345, profile_background_tile=false, follow_request_sent=null, statuses_count=48523, following=null, default_profile=false, profile_use_background_image=false, followers_count=2666, name=Lauren., profile_sidebar_fill_color=000000, location=maybe on the moon., notifications=null}",
                    "quote_count": "0"
                  },
                  "16": "false",
                  "17": "0",
                  "18": "0",
                  "19": "0",
                  "20": "0",
                  "22": "false",
                  "23": "false",
                  "24": "NaN",
                  "25": "low",
                  "26": "es",
                  "27": "2018-05-12 22:22:28.664",
                  "29": "NaN",
                  "30": "NaN",
                  "32": "NaN",
                  "35": "5.66591043E8",
                  "36": "5.66591043E8",
                  "37": "Rᴏꜱᴇ Cᴀʟʟᴏᴡᴀʏ ꕥ",
                  "38": "rowaelinxq",
                  "39": "Velaris, Night Court 🌌",
                  "40": "http://onecrazydreamerreviews.blogspot.com",
                  "41": "P ʀ ᴏ ғ ᴇ s s ɪ ᴏ ɴ ᴀ ʟ Fαɴɢιrl •Iɴғp-т• Mαrvel/ DC • Kɪᴏsᴋᴇʀᴀ • вooĸworм • Fᴀɴ ᴀᴄᴄᴏᴜɴᴛ\n❝Tᴏ ᴛʜᴇ ꜱᴛᴀʀꜱ ᴡʜᴏ ʟɪꜱᴛᴇɴ ᴀɴᴅ ᴛʜᴇ ᴅʀᴇᴀᴍꜱ ᴛʜᴀᴛ ᴀʀᴇ ᴀɴꜱᴡᴇʀᴇᴅ ❞",
                  "42": "none",
                  "43": "0.0",
                  "44": "0.0",
                  "45": "1208.0",
                  "46": "1228.0",
                  "47": "26.0",
                  "48": "34773.0",
                  "49": "82837.0",
                  "50": "2012-04-29 17:38:24",
                  "51": "-25200.0",
                  "52": "Pacific Time (US & Canada)",
                  "53": "0.0",
                  "54": "es",
                  "55": "0.0",
                  "56": "0.0",
                  "57": "E3C1EB",
                  "58": "http://pbs.twimg.com/profile_background_images/606170421550018561/jLlpjnoH.png",
                  "59": "https://pbs.twimg.com/profile_background_images/606170421550018561/jLlpjnoH.png",
                  "60": "1.0",
                  "61": "223344",
                  "62": "000000",
                  "63": "DDEEF6",
                  "64": "333333",
                  "65": "1.0",
                  "66": "http://pbs.twimg.com/profile_images/995222778977685504/-rmH0uei_normal.jpg",
                  "67": "https://pbs.twimg.com/profile_images/995222778977685504/-rmH0uei_normal.jpg",
                  "68": "https://pbs.twimg.com/profile_banners/566591043/1526114574",
                  "69": "0.0",
                  "70": "0.0",
                  "71": "NaN",
                  "72": "NaN",
                  "73": "NaN",
                  "74": [],
                  "75": [
                    {
                      "name": "Lauren.",
                      "screen_name": "LauOvixdo",
                      "indices": "[3, 13]",
                      "id_str": "2576124857",
                      "id": "2576124857"
                    }
                  ],
                  "76": [],
                  "78": "Eurovision",
                  "79": [
                    45,
                    56
                  ]
                },
                {
                  "0": "2018-05-12 22:22:28",
                  "1": "995429026200000128",
                  "2": "995429026192920576",
                  "3": "I'm enjoying this while it lasts ok 😊😭\n#Austria\n\n#Eurovision",
                  "4": "<a href=\"http://twitter.com/download/android\" rel=\"nofollow\">Twitter for Android</a>",
                  "5": "false",
                  "6": "NaN",
                  "7": "NaN",
                  "8": "NaN",
                  "9": "NaN",
                  "14": "NaN",
                  "16": "false",
                  "17": "0",
                  "18": "0",
                  "19": "0",
                  "20": "0",
                  "22": "false",
                  "23": "false",
                  "24": "NaN",
                  "25": "low",
                  "26": "en",
                  "27": "2018-05-12 22:22:28.678",
                  "29": "NaN",
                  "30": "NaN",
                  "32": "NaN",
                  "35": "3.20139576E8",
                  "36": "3.20139576E8",
                  "37": "Beℓℓabeth 🎧",
                  "38": "TheBellabeth",
                  "39": "Austria",
                  "40": "https://bellabeth.com/free-mp3",
                  "41": "Singer-Songwriter || Producer || Youtuber.\n\nI post songs and talky vids on youtube... and my mom says I'm super funny and pretty ._.",
                  "42": "none",
                  "43": "0.0",
                  "44": "0.0",
                  "45": "440.0",
                  "46": "213.0",
                  "47": "6.0",
                  "48": "1133.0",
                  "49": "7157.0",
                  "50": "2011-06-19 11:19:58",
                  "51": "3600.0",
                  "52": "London",
                  "53": "0.0",
                  "54": "de",
                  "55": "0.0",
                  "56": "0.0",
                  "57": "000000",
                  "58": "http://pbs.twimg.com/profile_background_images/576737638/v29gn7jiv6bj436tuh9l.jpeg",
                  "59": "https://pbs.twimg.com/profile_background_images/576737638/v29gn7jiv6bj436tuh9l.jpeg",
                  "60": "0.0",
                  "61": "6D3880",
                  "62": "FFFFFF",
                  "63": "F5D2DA",
                  "64": "6B0000",
                  "65": "1.0",
                  "66": "http://pbs.twimg.com/profile_images/967016661323862016/AXOvX3c5_normal.jpg",
                  "67": "https://pbs.twimg.com/profile_images/967016661323862016/AXOvX3c5_normal.jpg",
                  "68": "https://pbs.twimg.com/profile_banners/320139576/1522927252",
                  "69": "0.0",
                  "70": "0.0",
                  "71": "NaN",
                  "72": "NaN",
                  "73": "NaN",
                  "74": [],
                  "75": [],
                  "76": [],
                  "78": "ESC2018",
                  "79": [
                    57,
                    65
                  ]
                },
                {
                  "0": "2018-05-12 22:22:28",
                  "1": "995429026600000128",
                  "2": "995429026603945984",
                  "3": "Ezzzazzz, a magyarok még normálisak, jól van\n#Eurovision #ESC2018 #DEN",
                  "4": "<a href=\"http://twitter.com/download/android\" rel=\"nofollow\">Twitter for Android</a>",
                  "5": "false",
                  "6": "NaN",
                  "7": "NaN",
                  "8": "NaN",
                  "9": "NaN",
                  "14": "NaN",
                  "16": "false",
                  "17": "0",
                  "18": "0",
                  "19": "0",
                  "20": "0",
                  "22": "false",
                  "23": "false",
                  "24": "NaN",
                  "25": "low",
                  "26": "hu",
                  "27": "2018-05-12 22:22:28.776",
                  "29": "NaN",
                  "30": "NaN",
                  "32": "NaN",
                  "35": "3.412116311E9",
                  "36": "3.412116311E9",
                  "37": "Weightless☁",
                  "38": "vilagmegvalto",
                  "39": "Somewhere in Neverland",
                  "40": "https://twitter.com/vilagmegvalto?s=09",
                  "41": "Nem találok szavakat magamra. /J.A.",
                  "42": "none",
                  "43": "0.0",
                  "44": "0.0",
                  "45": "563.0",
                  "46": "192.0",
                  "47": "1.0",
                  "48": "6836.0",
                  "49": "8741.0",
                  "50": "2015-08-10 07:25:35",
                  "51": "-25200.0",
                  "52": "Pacific Time (US & Canada)",
                  "53": "1.0",
                  "54": "hu",
                  "55": "0.0",
                  "56": "0.0",
                  "57": "000000",
                  "58": "http://abs.twimg.com/images/themes/theme1/bg.png",
                  "59": "https://abs.twimg.com/images/themes/theme1/bg.png",
                  "60": "0.0",
                  "61": "981CEB",
                  "62": "000000",
                  "63": "000000",
                  "64": "000000",
                  "65": "0.0",
                  "66": "http://pbs.twimg.com/profile_images/913869324322004994/NsHOhNNm_normal.jpg",
                  "67": "https://pbs.twimg.com/profile_images/913869324322004994/NsHOhNNm_normal.jpg",
                  "68": "https://pbs.twimg.com/profile_banners/3412116311/1519671587",
                  "69": "0.0",
                  "70": "0.0",
                  "71": "NaN",
                  "72": "NaN",
                  "73": "NaN",
                  "74": [],
                  "75": [],
                  "76": [],
                  "78": "DEN",
                  "79": [
                    66,
                    70
                  ]
                },
                {
                  "0": "2018-05-12 22:22:28",
                  "1": "995429026600000128",
                  "2": "995429026553528320",
                  "3": "RT @Charlyy97: Cuando ves una araña, vuelves a mirar.. y ya no la ves #Eurovision #FinalEurivision https://t.co/Cni47HFkB2",
                  "4": "<a href=\"http://twitter.com/download/android\" rel=\"nofollow\">Twitter for Android</a>",
                  "5": "false",
                  "6": "NaN",
                  "7": "NaN",
                  "8": "NaN",
                  "9": "NaN",
                  "14": "NaN",
                  "15": {
                    "coordinates": null,
                    "retweeted": "false",
                    "source": "<a href=\"http://twitter.com/download/iphone\" rel=\"nofollow\">Twitter for iPhone</a>",
                    "entities": "{urls=[], media=[{display_url=pic.twitter.com/Cni47HFkB2, indices=[84, 107], sizes={small={h=680, resize=fit, w=383}, medium={h=1200, resize=fit, w=675}, large={h=1280, resize=fit, w=720}, thumb={h=150, resize=crop, w=150}}, id_str=995417924000247808, expanded_url=https://twitter.com/Charlyy97/status/995418028257968128/video/1, media_url_https=https://pbs.twimg.com/ext_tw_video_thumb/995417924000247808/pu/img/6HDTEBVHIwpWu9x1.jpg, id=995417924000247808, type=photo, additional_media_info={monetizable=false}, media_url=http://pbs.twimg.com/ext_tw_video_thumb/995417924000247808/pu/img/6HDTEBVHIwpWu9x1.jpg, url=https://t.co/Cni47HFkB2}], hashtags=[{indices=[55, 66], text=Eurovision}, {indices=[67, 83], text=FinalEurivision}], user_mentions=[], symbols=[]}",
                    "reply_count": "4",
                    "display_text_range": "[0, 83]",
                    "favorite_count": "842",
                    "in_reply_to_status_id_str": null,
                    "geo": null,
                    "id_str": "995418028257968128",
                    "in_reply_to_user_id": null,
                    "truncated": "false",
                    "text": "Cuando ves una araña, vuelves a mirar.. y ya no la ves #Eurovision #FinalEurivision https://t.co/Cni47HFkB2",
                    "retweet_count": "770",
                    "id": "995418028257968128",
                    "in_reply_to_status_id": null,
                    "possibly_sensitive": "false",
                    "filter_level": "low",
                    "created_at": "Sat May 12 21:38:46 +0000 2018",
                    "place": null,
                    "favorited": "false",
                    "lang": "es",
                    "contributors": null,
                    "in_reply_to_screen_name": null,
                    "is_quote_status": "false",
                    "in_reply_to_user_id_str": null,
                    "user": "{utc_offset=null, friends_count=315, profile_image_url_https=https://pbs.twimg.com/profile_images/731069422971015168/3niEdsBo_normal.jpg, profile_background_image_url=http://abs.twimg.com/images/themes/theme15/bg.png, listed_count=0, default_profile_image=false, favourites_count=4880, is_translator=false, created_at=Mon Jul 02 18:57:10 +0000 2012, description=Veo en vuestros ojos el mismo miedo que encogería mi propio corazón.., profile_background_image_url_https=https://abs.twimg.com/images/themes/theme15/bg.png, protected=false, screen_name=Charlyy97, profile_link_color=15870B, id_str=624915388, translator_type=none, profile_background_color=022330, geo_enabled=true, id=624915388, lang=es, profile_sidebar_border_color=A8C7F7, profile_text_color=333333, verified=false, profile_image_url=http://pbs.twimg.com/profile_images/731069422971015168/3niEdsBo_normal.jpg, time_zone=null, contributors_enabled=false, url=https://www.youtube.com/c/AndreaYCharly, profile_banner_url=https://pbs.twimg.com/profile_banners/624915388/1451305487, profile_background_tile=false, follow_request_sent=null, statuses_count=6762, following=null, default_profile=false, profile_use_background_image=true, followers_count=388, name=Charly ツ, profile_sidebar_fill_color=C0DFEC, location=Andrea, notifications=null}",
                    "extended_entities": "{media=[{display_url=pic.twitter.com/Cni47HFkB2, type=video, media_url=http://pbs.twimg.com/ext_tw_video_thumb/995417924000247808/pu/img/6HDTEBVHIwpWu9x1.jpg, url=https://t.co/Cni47HFkB2, indices=[84, 107], sizes={small={h=680, resize=fit, w=383}, medium={h=1200, resize=fit, w=675}, large={h=1280, resize=fit, w=720}, thumb={h=150, resize=crop, w=150}}, id_str=995417924000247808, expanded_url=https://twitter.com/Charlyy97/status/995418028257968128/video/1, media_url_https=https://pbs.twimg.com/ext_tw_video_thumb/995417924000247808/pu/img/6HDTEBVHIwpWu9x1.jpg, id=995417924000247808, additional_media_info={monetizable=false}, video_info={aspect_ratio=[9, 16], duration_millis=1250, variants=[{content_type=application/x-mpegURL, url=https://video.twimg.com/ext_tw_video/995417924000247808/pu/pl/vNYSIipHk6z0u1_L.m3u8?tag=3}, {bitrate=832000, content_type=video/mp4, url=https://video.twimg.com/ext_tw_video/995417924000247808/pu/vid/360x640/Q_vnm27Wn0OC9nLC.mp4?tag=3}, {bitrate=2176000, content_type=video/mp4, url=https://video.twimg.com/ext_tw_video/995417924000247808/pu/vid/720x1280/WANnLrjey8vKEUwF.mp4?tag=3}, {bitrate=256000, content_type=video/mp4, url=https://video.twimg.com/ext_tw_video/995417924000247808/pu/vid/180x320/49P9k_sDdRtnn5Gf.mp4?tag=3}]}}]}",
                    "quote_count": "33"
                  },
                  "16": "false",
                  "17": "0",
                  "18": "0",
                  "19": "0",
                  "20": "0",
                  "21": {
                    "media": [
                      {
                        "expanded_url": null,
                        "source_status_id": 995418028257968100,
                        "indices": null,
                        "url": null,
                        "media_url": null,
                        "id_str": null,
                        "video_info": null,
                        "source_user_id": 624915388,
                        "additional_media_info": null,
                        "id": 995417924000247800,
                        "media_url_https": null,
                        "source_user_id_str": null,
                        "sizes": null,
                        "type": null,
                        "source_status_id_str": null,
                        "display_url": null
                      }
                    ]
                  },
                  "22": "false",
                  "23": "false",
                  "24": "0.0",
                  "25": "low",
                  "26": "es",
                  "27": "2018-05-12 22:22:28.764",
                  "29": "NaN",
                  "30": "NaN",
                  "32": "NaN",
                  "35": "4.482621E8",
                  "36": "4.482621E8",
                  "37": "Undertaker",
                  "38": "QueenOfMagic",
                  "40": "http://myanimelist.net/animelist/ScheherazadeLove",
                  "41": "Rank 94// ESFP// So what if I`m crazy, the best people are!// Too kawaii to life too sugoi to die y everything is gonna be daijobu como lemas de vida.",
                  "42": "none",
                  "43": "0.0",
                  "44": "0.0",
                  "45": "207.0",
                  "46": "111.0",
                  "47": "1.0",
                  "48": "8970.0",
                  "49": "32452.0",
                  "50": "2011-12-27 20:13:32",
                  "51": "10800.0",
                  "52": "Athens",
                  "53": "0.0",
                  "54": "es",
                  "55": "0.0",
                  "56": "0.0",
                  "57": "89C9FA",
                  "58": "http://pbs.twimg.com/profile_background_images/703581206370197504/ETXe3vW5.jpg",
                  "59": "https://pbs.twimg.com/profile_background_images/703581206370197504/ETXe3vW5.jpg",
                  "60": "1.0",
                  "61": "981CEB",
                  "62": "000000",
                  "63": "DDEEF6",
                  "64": "333333",
                  "65": "1.0",
                  "66": "http://pbs.twimg.com/profile_images/988087155825274881/O2w3JUAo_normal.jpg",
                  "67": "https://pbs.twimg.com/profile_images/988087155825274881/O2w3JUAo_normal.jpg",
                  "68": "https://pbs.twimg.com/profile_banners/448262100/1524413430",
                  "69": "0.0",
                  "70": "0.0",
                  "71": "NaN",
                  "72": "NaN",
                  "73": "NaN",
                  "74": [],
                  "75": [
                    {
                      "name": "Charly ツ",
                      "screen_name": "Charlyy97",
                      "indices": "[3, 13]",
                      "id_str": "624915388",
                      "id": "624915388"
                    }
                  ],
                  "76": [],
                  "77": [
                    {
                      "expanded_url": null,
                      "source_status_id": 995418028257968100,
                      "indices": null,
                      "url": null,
                      "media_url": null,
                      "id_str": null,
                      "source_user_id": 624915388,
                      "additional_media_info": null,
                      "id": 995417924000247800,
                      "media_url_https": null,
                      "source_user_id_str": null,
                      "sizes": null,
                      "type": null,
                      "source_status_id_str": null,
                      "display_url": null
                    }
                  ],
                  "78": "Eurovision",
                  "79": [
                    70,
                    81
                  ]
                },
                {
                  "0": "2018-05-12 22:22:28",
                  "1": "995429026400000128",
                  "2": "995429026377453568",
                  "3": "RT @themikemansan: 14 millones de futuros posibles y en todos pierde España #Eurovision https://t.co/eXdVjEe0wK",
                  "4": "<a href=\"http://twitter.com/download/android\" rel=\"nofollow\">Twitter for Android</a>",
                  "5": "false",
                  "6": "NaN",
                  "7": "NaN",
                  "8": "NaN",
                  "9": "NaN",
                  "14": "NaN",
                  "15": {
                    "coordinates": null,
                    "retweeted": "false",
                    "source": "<a href=\"http://twitter.com/download/android\" rel=\"nofollow\">Twitter for Android</a>",
                    "entities": "{urls=[], media=[{display_url=pic.twitter.com/eXdVjEe0wK, indices=[69, 92], sizes={small={h=382, resize=fit, w=680}, medium={h=674, resize=fit, w=1200}, large={h=939, resize=fit, w=1672}, thumb={h=150, resize=crop, w=150}}, id_str=995386768978599936, expanded_url=https://twitter.com/themikemansan/status/995386781930545152/photo/1, media_url_https=https://pbs.twimg.com/media/DdBS_hsX4AA4t3T.jpg, id=995386768978599936, type=photo, media_url=http://pbs.twimg.com/media/DdBS_hsX4AA4t3T.jpg, url=https://t.co/eXdVjEe0wK}], hashtags=[{indices=[57, 68], text=Eurovision}], user_mentions=[], symbols=[]}",
                    "reply_count": "26",
                    "display_text_range": "[0, 68]",
                    "favorite_count": "4420",
                    "in_reply_to_status_id_str": null,
                    "geo": null,
                    "id_str": "995386781930545152",
                    "in_reply_to_user_id": null,
                    "truncated": "false",
                    "text": "14 millones de futuros posibles y en todos pierde España #Eurovision https://t.co/eXdVjEe0wK",
                    "retweet_count": "3815",
                    "id": "995386781930545152",
                    "in_reply_to_status_id": null,
                    "possibly_sensitive": "false",
                    "filter_level": "low",
                    "created_at": "Sat May 12 19:34:36 +0000 2018",
                    "place": null,
                    "favorited": "false",
                    "lang": "es",
                    "contributors": null,
                    "in_reply_to_screen_name": null,
                    "is_quote_status": "false",
                    "in_reply_to_user_id_str": null,
                    "user": "{utc_offset=null, friends_count=208, profile_image_url_https=https://pbs.twimg.com/profile_images/957741744615055361/1Hjmsmoj_normal.jpg, profile_background_image_url=http://abs.twimg.com/images/themes/theme1/bg.png, listed_count=9, default_profile_image=false, favourites_count=41202, is_translator=false, created_at=Mon Jun 20 14:52:40 +0000 2016, description=Futuro musicólogo// @Flaneswalkers team//indivisa manent//Slytherpuff//guitarrista//viola en la OCUAM//mikemansan usó garra umbría @estonoescandado, profile_background_image_url_https=https://abs.twimg.com/images/themes/theme1/bg.png, protected=false, screen_name=themikemansan, profile_link_color=19CF86, id_str=744905813534343168, translator_type=none, profile_background_color=000000, geo_enabled=false, id=744905813534343168, lang=es, profile_sidebar_border_color=000000, profile_text_color=000000, verified=false, profile_image_url=http://pbs.twimg.com/profile_images/957741744615055361/1Hjmsmoj_normal.jpg, time_zone=null, contributors_enabled=false, url=null, profile_banner_url=https://pbs.twimg.com/profile_banners/744905813534343168/1517178401, profile_background_tile=false, follow_request_sent=null, statuses_count=45414, following=null, default_profile=false, profile_use_background_image=false, followers_count=228, name=Guess I'll Mike, profile_sidebar_fill_color=000000, location=ubicado estoy, notifications=null}",
                    "extended_entities": "{media=[{display_url=pic.twitter.com/eXdVjEe0wK, indices=[69, 92], sizes={small={h=382, resize=fit, w=680}, medium={h=674, resize=fit, w=1200}, large={h=939, resize=fit, w=1672}, thumb={h=150, resize=crop, w=150}}, id_str=995386768978599936, expanded_url=https://twitter.com/themikemansan/status/995386781930545152/photo/1, media_url_https=https://pbs.twimg.com/media/DdBS_hsX4AA4t3T.jpg, id=995386768978599936, type=photo, media_url=http://pbs.twimg.com/media/DdBS_hsX4AA4t3T.jpg, url=https://t.co/eXdVjEe0wK}]}",
                    "quote_count": "69"
                  },
                  "16": "false",
                  "17": "0",
                  "18": "0",
                  "19": "0",
                  "20": "0",
                  "21": {
                    "media": [
                      {
                        "expanded_url": null,
                        "source_status_id": 995386781930545200,
                        "indices": null,
                        "url": null,
                        "media_url": null,
                        "id_str": null,
                        "source_user_id": 744905813534343200,
                        "id": 995386768978600000,
                        "media_url_https": null,
                        "source_user_id_str": null,
                        "sizes": null,
                        "type": null,
                        "source_status_id_str": null,
                        "display_url": null
                      }
                    ]
                  },
                  "22": "false",
                  "23": "false",
                  "24": "0.0",
                  "25": "low",
                  "26": "es",
                  "27": "2018-05-12 22:22:28.722",
                  "29": "NaN",
                  "30": "NaN",
                  "32": "NaN",
                  "35": "7.358236597E17",
                  "36": "7.3582365970157158E17",
                  "37": "Umbra🌙",
                  "38": "_ImagineMouses",
                  "39": "Themyscira",
                  "40": "https://curiouscat.me/ImagineMouses",
                  "41": "No hago realidad mis sueños porque el Código Penal es muy tiquismiquis.\nMi archienemigo es un ratón esquivo que podría ser imaginario o no.\nfan account.",
                  "42": "none",
                  "43": "0.0",
                  "44": "0.0",
                  "45": "195.0",
                  "46": "349.0",
                  "47": "3.0",
                  "48": "25310.0",
                  "49": "23343.0",
                  "50": "2016-05-26 13:23:26",
                  "51": "-25200.0",
                  "52": "Pacific Time (US & Canada)",
                  "53": "0.0",
                  "54": "es",
                  "55": "0.0",
                  "56": "0.0",
                  "57": "F5F8FA",
                  "58": "",
                  "59": "",
                  "60": "0.0",
                  "61": "1DA1F2",
                  "62": "C0DEED",
                  "63": "DDEEF6",
                  "64": "333333",
                  "65": "1.0",
                  "66": "http://pbs.twimg.com/profile_images/987260243141955584/GqPFHNA6_normal.jpg",
                  "67": "https://pbs.twimg.com/profile_images/987260243141955584/GqPFHNA6_normal.jpg",
                  "68": "https://pbs.twimg.com/profile_banners/735823659701571585/1475940349",
                  "69": "1.0",
                  "70": "0.0",
                  "71": "NaN",
                  "72": "NaN",
                  "73": "NaN",
                  "74": [],
                  "75": [
                    {
                      "name": "Guess I'll Mike",
                      "screen_name": "themikemansan",
                      "indices": "[3, 17]",
                      "id_str": "744905813534343168",
                      "id": "744905813534343168"
                    }
                  ],
                  "76": [],
                  "77": [
                    {
                      "expanded_url": null,
                      "source_status_id": 995386781930545200,
                      "indices": null,
                      "url": null,
                      "media_url": null,
                      "id_str": null,
                      "source_user_id": 744905813534343200,
                      "id": 995386768978600000,
                      "media_url_https": null,
                      "source_user_id_str": null,
                      "sizes": null,
                      "type": null,
                      "source_status_id_str": null,
                      "display_url": null
                    }
                  ],
                  "78": "FinalEurivision",
                  "79": [
                    82,
                    98
                  ]
                }
              ],
              "schema": [
                {
                  "key": "0",
                  "name": "created_at",
                  "type": "timestamp"
                },
                {
                  "key": "1",
                  "name": "id",
                  "type": "bigint"
                },
                {
                  "key": "2",
                  "name": "id_str",
                  "type": "bigint"
                },
                {
                  "key": "3",
                  "name": "text",
                  "type": "string"
                },
                {
                  "key": "4",
                  "name": "source",
                  "type": "string"
                },
                {
                  "key": "5",
                  "name": "truncated",
                  "type": "boolean"
                },
                {
                  "key": "6",
                  "name": "in_reply_to_status_id",
                  "type": "double"
                },
                {
                  "key": "7",
                  "name": "in_reply_to_status_id_str",
                  "type": "double"
                },
                {
                  "key": "8",
                  "name": "in_reply_to_user_id",
                  "type": "double"
                },
                {
                  "key": "9",
                  "name": "in_reply_to_user_id_str",
                  "type": "double"
                },
                {
                  "key": "10",
                  "name": "in_reply_to_screen_name",
                  "type": "string"
                },
                {
                  "key": "11",
                  "name": "geo",
                  "type": "MapType(StringType,StringType,true)"
                },
                {
                  "key": "12",
                  "name": "coordinates",
                  "type": "MapType(StringType,StringType,true)"
                },
                {
                  "key": "13",
                  "name": "place",
                  "type": "MapType(StringType,StringType,true)"
                },
                {
                  "key": "14",
                  "name": "contributors",
                  "type": "double"
                },
                {
                  "key": "15",
                  "name": "retweeted_status",
                  "type": "MapType(StringType,StringType,true)"
                },
                {
                  "key": "16",
                  "name": "is_quote_status",
                  "type": "boolean"
                },
                {
                  "key": "17",
                  "name": "quote_count",
                  "type": "bigint"
                },
                {
                  "key": "18",
                  "name": "reply_count",
                  "type": "bigint"
                },
                {
                  "key": "19",
                  "name": "retweet_count",
                  "type": "bigint"
                },
                {
                  "key": "20",
                  "name": "favorite_count",
                  "type": "bigint"
                },
                {
                  "key": "21",
                  "name": "extended_entities",
                  "type": "MapType(StringType,ArrayType(MapType(StringType,LongType,true),true),true)"
                },
                {
                  "key": "22",
                  "name": "favorited",
                  "type": "boolean"
                },
                {
                  "key": "23",
                  "name": "retweeted",
                  "type": "boolean"
                },
                {
                  "key": "24",
                  "name": "possibly_sensitive",
                  "type": "double"
                },
                {
                  "key": "25",
                  "name": "filter_level",
                  "type": "string"
                },
                {
                  "key": "26",
                  "name": "lang",
                  "type": "string"
                },
                {
                  "key": "27",
                  "name": "timestamp_ms",
                  "type": "timestamp"
                },
                {
                  "key": "28",
                  "name": "display_text_range",
                  "type": "ArrayType(LongType,true)"
                },
                {
                  "key": "29",
                  "name": "quoted_status_id",
                  "type": "double"
                },
                {
                  "key": "30",
                  "name": "quoted_status_id_str",
                  "type": "double"
                },
                {
                  "key": "31",
                  "name": "quoted_status",
                  "type": "MapType(StringType,StringType,true)"
                },
                {
                  "key": "32",
                  "name": "limit",
                  "type": "double"
                },
                {
                  "key": "33",
                  "name": "extended_tweet",
                  "type": "MapType(StringType,StringType,true)"
                },
                {
                  "key": "34",
                  "name": "withheld_in_countries",
                  "type": "ArrayType(StringType,true)"
                },
                {
                  "key": "35",
                  "name": "user_id",
                  "type": "double"
                },
                {
                  "key": "36",
                  "name": "user_id_str",
                  "type": "double"
                },
                {
                  "key": "37",
                  "name": "user_name",
                  "type": "string"
                },
                {
                  "key": "38",
                  "name": "user_screen_name",
                  "type": "string"
                },
                {
                  "key": "39",
                  "name": "user_location",
                  "type": "string"
                },
                {
                  "key": "40",
                  "name": "user_url",
                  "type": "string"
                },
                {
                  "key": "41",
                  "name": "user_description",
                  "type": "string"
                },
                {
                  "key": "42",
                  "name": "user_translator_type",
                  "type": "string"
                },
                {
                  "key": "43",
                  "name": "user_protected",
                  "type": "double"
                },
                {
                  "key": "44",
                  "name": "user_verified",
                  "type": "double"
                },
                {
                  "key": "45",
                  "name": "user_followers_count",
                  "type": "double"
                },
                {
                  "key": "46",
                  "name": "user_friends_count",
                  "type": "double"
                },
                {
                  "key": "47",
                  "name": "user_listed_count",
                  "type": "double"
                },
                {
                  "key": "48",
                  "name": "user_favourites_count",
                  "type": "double"
                },
                {
                  "key": "49",
                  "name": "user_statuses_count",
                  "type": "double"
                },
                {
                  "key": "50",
                  "name": "user_created_at",
                  "type": "timestamp"
                },
                {
                  "key": "51",
                  "name": "user_utc_offset",
                  "type": "double"
                },
                {
                  "key": "52",
                  "name": "user_time_zone",
                  "type": "string"
                },
                {
                  "key": "53",
                  "name": "user_geo_enabled",
                  "type": "double"
                },
                {
                  "key": "54",
                  "name": "user_lang",
                  "type": "string"
                },
                {
                  "key": "55",
                  "name": "user_contributors_enabled",
                  "type": "double"
                },
                {
                  "key": "56",
                  "name": "user_is_translator",
                  "type": "double"
                },
                {
                  "key": "57",
                  "name": "user_profile_background_color",
                  "type": "string"
                },
                {
                  "key": "58",
                  "name": "user_profile_background_image_url",
                  "type": "string"
                },
                {
                  "key": "59",
                  "name": "user_profile_background_image_url_https",
                  "type": "string"
                },
                {
                  "key": "60",
                  "name": "user_profile_background_tile",
                  "type": "double"
                },
                {
                  "key": "61",
                  "name": "user_profile_link_color",
                  "type": "string"
                },
                {
                  "key": "62",
                  "name": "user_profile_sidebar_border_color",
                  "type": "string"
                },
                {
                  "key": "63",
                  "name": "user_profile_sidebar_fill_color",
                  "type": "string"
                },
                {
                  "key": "64",
                  "name": "user_profile_text_color",
                  "type": "string"
                },
                {
                  "key": "65",
                  "name": "user_profile_use_background_image",
                  "type": "double"
                },
                {
                  "key": "66",
                  "name": "user_profile_image_url",
                  "type": "string"
                },
                {
                  "key": "67",
                  "name": "user_profile_image_url_https",
                  "type": "string"
                },
                {
                  "key": "68",
                  "name": "user_profile_banner_url",
                  "type": "string"
                },
                {
                  "key": "69",
                  "name": "user_default_profile",
                  "type": "double"
                },
                {
                  "key": "70",
                  "name": "user_default_profile_image",
                  "type": "double"
                },
                {
                  "key": "71",
                  "name": "user_following",
                  "type": "double"
                },
                {
                  "key": "72",
                  "name": "user_follow_request_sent",
                  "type": "double"
                },
                {
                  "key": "73",
                  "name": "user_notifications",
                  "type": "double"
                },
                {
                  "key": "74",
                  "name": "entities_urls",
                  "type": "ArrayType(MapType(StringType,StringType,true),true)"
                },
                {
                  "key": "75",
                  "name": "entities_user_mentions",
                  "type": "ArrayType(MapType(StringType,StringType,true),true)"
                },
                {
                  "key": "76",
                  "name": "entities_symbols",
                  "type": "ArrayType(MapType(StringType,StringType,true),true)"
                },
                {
                  "key": "77",
                  "name": "entities_media",
                  "type": "ArrayType(MapType(StringType,LongType,true),true)"
                },
                {
                  "key": "78",
                  "name": "entities_hashtags_text",
                  "type": "string"
                },
                {
                  "key": "79",
                  "name": "entities_hashtags_indices",
                  "type": "ArrayType(LongType,true)"
                }
              ],
              "truncated": false
            },
            "isSummary": false,
            "language": "scala"
          },
          "persist_state": {
            "view": {
              "type": "details",
              "tableOptions": {},
              "chartOptions": {
                "chartType": "bar",
                "aggregationType": "sum",
                "categoryFieldKeys": [
                  "0"
                ],
                "seriesFieldKeys": [
                  "1"
                ],
                "isStacked": false
              }
            }
          }
        },
        "a77bd365-2f88-45db-8984-9ee002bef522": {
          "type": "Synapse.DataFrame",
          "sync_state": {
            "table": {
              "rows": [
                {
                  "0": "false",
                  "2": "false",
                  "3": "false",
                  "4": "NaN",
                  "5": "NaN",
                  "6": "NaN",
                  "7": "NaN"
                },
                {
                  "0": "false",
                  "2": "false",
                  "3": "true",
                  "4": "NaN",
                  "5": "NaN",
                  "6": "NaN",
                  "7": "NaN"
                },
                {
                  "0": "false",
                  "1": {
                    "coordinates": null,
                    "retweeted": "false",
                    "source": "<a href=\"http://twitter.com\" rel=\"nofollow\">Twitter Web Client</a>",
                    "entities": "{urls=[], hashtags=[{indices=[40, 51], text=Eurovision}], user_mentions=[], symbols=[]}",
                    "reply_count": "27",
                    "favorite_count": "475",
                    "in_reply_to_status_id_str": null,
                    "geo": null,
                    "id_str": "995424107872309254",
                    "in_reply_to_user_id": null,
                    "truncated": "false",
                    "text": "UK can go fucking brexit yer arseholes\n\n#Eurovision",
                    "retweet_count": "171",
                    "id": "995424107872309254",
                    "in_reply_to_status_id": null,
                    "filter_level": "low",
                    "created_at": "Sat May 12 22:02:56 +0000 2018",
                    "place": null,
                    "favorited": "false",
                    "lang": "en",
                    "contributors": null,
                    "in_reply_to_screen_name": null,
                    "is_quote_status": "false",
                    "in_reply_to_user_id_str": null,
                    "user": "{utc_offset=3600, friends_count=6942, profile_image_url_https=https://pbs.twimg.com/profile_images/993290029588975618/k6wYGgx6_normal.jpg, profile_background_image_url=http://abs.twimg.com/images/themes/theme13/bg.gif, listed_count=979, default_profile_image=false, favourites_count=91907, is_translator=false, created_at=Wed Mar 14 07:37:46 +0000 2007, description=@Ireland curated by a new person each week. Week #324: Ruth. Writer. Self-crowned queen of FANCY content. Eurovision Song Concert superfan. AKA @ruthiefizz, profile_background_image_url_https=https://abs.twimg.com/images/themes/theme13/bg.gif, protected=false, screen_name=ireland, profile_link_color=1B95E0, id_str=1143551, translator_type=none, profile_background_color=B2DFDA, geo_enabled=true, id=1143551, lang=en, profile_sidebar_border_color=000000, profile_text_color=000000, verified=true, profile_image_url=http://pbs.twimg.com/profile_images/993290029588975618/k6wYGgx6_normal.jpg, time_zone=Dublin, contributors_enabled=false, url=http://www.irishcentral.com/worldirish/What-is-the-Ireland-Twitter-feed-223955441.html, profile_banner_url=https://pbs.twimg.com/profile_banners/1143551/1349126958, profile_background_tile=false, follow_request_sent=null, statuses_count=210589, following=null, default_profile=false, profile_use_background_image=true, followers_count=68103, name=Ireland / Ruth, profile_sidebar_fill_color=000000, location=Dublin City, Ireland, notifications=null}",
                    "quote_count": "33"
                  },
                  "2": "false",
                  "3": "false",
                  "4": "NaN",
                  "5": "NaN",
                  "6": "NaN",
                  "7": "NaN"
                },
                {
                  "0": "false",
                  "2": "false",
                  "3": "false",
                  "4": "NaN",
                  "5": "NaN",
                  "6": "NaN",
                  "7": "NaN"
                },
                {
                  "0": "false",
                  "2": "false",
                  "3": "true",
                  "4": "NaN",
                  "5": "NaN",
                  "6": "NaN",
                  "7": "NaN"
                },
                {
                  "0": "false",
                  "1": {
                    "coordinates": null,
                    "retweeted": "false",
                    "source": "<a href=\"http://twitter.com/download/android\" rel=\"nofollow\">Twitter for Android</a>",
                    "entities": "{urls=[], media=[{source_user_id=420495532, display_url=pic.twitter.com/0tt59XE7BY, type=photo, source_status_id=995407527864041473, media_url=http://pbs.twimg.com/ext_tw_video_thumb/995407454023438339/pu/img/s02rMoMfzovaBZTd.jpg, url=https://t.co/0tt59XE7BY, indices=[46, 69], sizes={small={h=383, resize=fit, w=680}, medium={h=675, resize=fit, w=1200}, large={h=720, resize=fit, w=1280}, thumb={h=150, resize=crop, w=150}}, id_str=995407454023438339, expanded_url=https://twitter.com/acano3_/status/995407527864041473/video/1, source_status_id_str=995407527864041473, media_url_https=https://pbs.twimg.com/ext_tw_video_thumb/995407454023438339/pu/img/s02rMoMfzovaBZTd.jpg, source_user_id_str=420495532, id=995407454023438339, additional_media_info={monetizable=false}}], hashtags=[{indices=[33, 44], text=Eurovision}], user_mentions=[], symbols=[]}",
                    "reply_count": "26",
                    "favorite_count": "3250",
                    "in_reply_to_status_id_str": null,
                    "geo": null,
                    "id_str": "995414426349133824",
                    "in_reply_to_user_id": null,
                    "truncated": "false",
                    "text": "Cuando la cucaracha echa a volar #Eurovision  https://t.co/0tt59XE7BY",
                    "retweet_count": "3530",
                    "id": "995414426349133824",
                    "in_reply_to_status_id": null,
                    "possibly_sensitive": "false",
                    "filter_level": "low",
                    "created_at": "Sat May 12 21:24:27 +0000 2018",
                    "place": null,
                    "favorited": "false",
                    "lang": "es",
                    "contributors": null,
                    "in_reply_to_screen_name": null,
                    "is_quote_status": "false",
                    "in_reply_to_user_id_str": null,
                    "user": "{utc_offset=7200, friends_count=536, profile_image_url_https=https://pbs.twimg.com/profile_images/995418065520287744/_uhF0m51_normal.jpg, profile_background_image_url=http://abs.twimg.com/images/themes/theme1/bg.png, listed_count=15, default_profile_image=false, favourites_count=14935, is_translator=false, created_at=Sat Apr 11 16:51:13 +0000 2015, description=18. \nHablo delante de un micro en @RambootClub. \nAntes stremeaba, ahora no xD.\n#MushoBetis, profile_background_image_url_https=https://abs.twimg.com/images/themes/theme1/bg.png, protected=false, screen_name=E9Kie, profile_link_color=19CF86, id_str=3157079091, translator_type=regular, profile_background_color=000000, geo_enabled=false, id=3157079091, lang=es, profile_sidebar_border_color=000000, profile_text_color=000000, verified=false, profile_image_url=http://pbs.twimg.com/profile_images/995418065520287744/_uhF0m51_normal.jpg, time_zone=Belgrade, contributors_enabled=false, url=http://twitch.tv/ik1erino, profile_banner_url=https://pbs.twimg.com/profile_banners/3157079091/1524404100, profile_background_tile=false, follow_request_sent=null, statuses_count=21751, following=null, default_profile=false, profile_use_background_image=false, followers_count=810, name=Iván 'ik1erino', profile_sidebar_fill_color=000000, location=Barcelona, notifications=null}",
                    "extended_entities": "{media=[{source_user_id=420495532, display_url=pic.twitter.com/0tt59XE7BY, type=video, source_status_id=995407527864041473, media_url=http://pbs.twimg.com/ext_tw_video_thumb/995407454023438339/pu/img/s02rMoMfzovaBZTd.jpg, url=https://t.co/0tt59XE7BY, indices=[46, 69], sizes={small={h=383, resize=fit, w=680}, medium={h=675, resize=fit, w=1200}, large={h=720, resize=fit, w=1280}, thumb={h=150, resize=crop, w=150}}, id_str=995407454023438339, expanded_url=https://twitter.com/acano3_/status/995407527864041473/video/1, source_status_id_str=995407527864041473, media_url_https=https://pbs.twimg.com/ext_tw_video_thumb/995407454023438339/pu/img/s02rMoMfzovaBZTd.jpg, source_user_id_str=420495532, id=995407454023438339, additional_media_info={monetizable=false}, video_info={aspect_ratio=[16, 9], duration_millis=1330, variants=[{bitrate=832000, content_type=video/mp4, url=https://video.twimg.com/ext_tw_video/995407454023438339/pu/vid/640x360/V0eyjgGk2cxo28He.mp4?tag=3}, {bitrate=2176000, content_type=video/mp4, url=https://video.twimg.com/ext_tw_video/995407454023438339/pu/vid/1280x720/T0Ly_Z5EqtUQUZ9P.mp4?tag=3}, {content_type=application/x-mpegURL, url=https://video.twimg.com/ext_tw_video/995407454023438339/pu/pl/LV2AhLra6ApSkeCf.m3u8?tag=3}, {bitrate=256000, content_type=video/mp4, url=https://video.twimg.com/ext_tw_video/995407454023438339/pu/vid/320x180/_SOEWxpG8Fd3oi_8.mp4?tag=3}]}}]}",
                    "quote_count": "130"
                  },
                  "2": "false",
                  "3": "false",
                  "4": "NaN",
                  "5": "NaN",
                  "6": "NaN",
                  "7": "NaN"
                },
                {
                  "0": "false",
                  "1": {
                    "coordinates": null,
                    "retweeted": "false",
                    "source": "<a href=\"http://twitter.com/download/android\" rel=\"nofollow\">Twitter for Android</a>",
                    "entities": "{urls=[], hashtags=[], user_mentions=[], symbols=[]}",
                    "reply_count": "0",
                    "favorite_count": "0",
                    "in_reply_to_status_id_str": null,
                    "geo": null,
                    "id_str": "995429360294350848",
                    "in_reply_to_user_id": null,
                    "truncated": "false",
                    "text": "EUROVISION: CIVIL WAR (2018)",
                    "retweet_count": "1",
                    "id": "995429360294350848",
                    "in_reply_to_status_id": null,
                    "filter_level": "low",
                    "created_at": "Sat May 12 22:23:48 +0000 2018",
                    "place": null,
                    "favorited": "false",
                    "lang": "tr",
                    "contributors": null,
                    "in_reply_to_screen_name": null,
                    "is_quote_status": "false",
                    "in_reply_to_user_id_str": null,
                    "user": "{utc_offset=-25200, friends_count=1019, profile_image_url_https=https://pbs.twimg.com/profile_images/991770659029241856/JjRKzJVA_normal.jpg, profile_background_image_url=http://abs.twimg.com/images/themes/theme1/bg.png, listed_count=10, default_profile_image=false, favourites_count=114408, is_translator=false, created_at=Sun Feb 08 20:05:35 +0000 2015, description=[GER/ENG/IT] | she/her | 17 | ❤️ nachti & selina | tess' soulmate | connected to lin thru a red string of fate | sometimes NSFW |🌻| fan account, profile_background_image_url_https=https://abs.twimg.com/images/themes/theme1/bg.png, protected=false, screen_name=FlatterndesHerz, profile_link_color=221133, id_str=3025483697, translator_type=none, profile_background_color=000000, geo_enabled=false, id=3025483697, lang=en, profile_sidebar_border_color=000000, profile_text_color=000000, verified=false, profile_image_url=http://pbs.twimg.com/profile_images/991770659029241856/JjRKzJVA_normal.jpg, time_zone=Pacific Time (US & Canada), contributors_enabled=false, url=http://curiouscat.me/FlatterndesHerz, profile_banner_url=https://pbs.twimg.com/profile_banners/3025483697/1525291438, profile_background_tile=false, follow_request_sent=null, statuses_count=43689, following=null, default_profile=false, profile_use_background_image=false, followers_count=476, name=✨sofie | iw spoilers🙂, profile_sidebar_fill_color=000000, location=null, notifications=null}",
                    "quote_count": "0"
                  },
                  "2": "false",
                  "3": "false",
                  "4": "NaN",
                  "5": "NaN",
                  "6": "NaN",
                  "7": "NaN"
                },
                {
                  "0": "false",
                  "1": {
                    "coordinates": null,
                    "retweeted": "false",
                    "source": "<a href=\"http://twitter.com/download/android\" rel=\"nofollow\">Twitter for Android</a>",
                    "entities": "{urls=[], media=[{source_user_id=420495532, display_url=pic.twitter.com/0naU3Xmt44, type=photo, source_status_id=995407527864041473, media_url=http://pbs.twimg.com/ext_tw_video_thumb/995407454023438339/pu/img/s02rMoMfzovaBZTd.jpg, url=https://t.co/0naU3Xmt44, indices=[102, 125], sizes={small={h=383, resize=fit, w=680}, medium={h=675, resize=fit, w=1200}, large={h=720, resize=fit, w=1280}, thumb={h=150, resize=crop, w=150}}, id_str=995407454023438339, expanded_url=https://twitter.com/acano3_/status/995407527864041473/video/1, source_status_id_str=995407527864041473, media_url_https=https://pbs.twimg.com/ext_tw_video_thumb/995407454023438339/pu/img/s02rMoMfzovaBZTd.jpg, source_user_id_str=420495532, id=995407454023438339, additional_media_info={monetizable=false}}], hashtags=[{indices=[90, 101], text=Eurovision}], user_mentions=[], symbols=[]}",
                    "reply_count": "27",
                    "favorite_count": "4362",
                    "in_reply_to_status_id_str": null,
                    "geo": null,
                    "id_str": "995417089656672256",
                    "in_reply_to_user_id": null,
                    "truncated": "false",
                    "text": "cuando apago la luz del pasillo para irme a mi habitación y que no me maten los espíritus #Eurovision https://t.co/0naU3Xmt44",
                    "retweet_count": "4430",
                    "id": "995417089656672256",
                    "in_reply_to_status_id": null,
                    "possibly_sensitive": "false",
                    "filter_level": "low",
                    "created_at": "Sat May 12 21:35:02 +0000 2018",
                    "place": null,
                    "favorited": "false",
                    "lang": "es",
                    "contributors": null,
                    "in_reply_to_screen_name": null,
                    "is_quote_status": "false",
                    "in_reply_to_user_id_str": null,
                    "user": "{utc_offset=7200, friends_count=145, profile_image_url_https=https://pbs.twimg.com/profile_images/994776428649631745/fGZCApPR_normal.jpg, profile_background_image_url=http://pbs.twimg.com/profile_background_images/718139660594229248/ey6vMq90.jpg, listed_count=19, default_profile_image=false, favourites_count=10399, is_translator=false, created_at=Wed Apr 02 20:33:51 +0000 2014, description=#민윤기🍀 #정재현🍑, profile_background_image_url_https=https://pbs.twimg.com/profile_background_images/718139660594229248/ey6vMq90.jpg, protected=false, screen_name=jungjaeguns, profile_link_color=F58EA8, id_str=2424309080, translator_type=none, profile_background_color=CC99FF, geo_enabled=true, id=2424309080, lang=es, profile_sidebar_border_color=FFFFFF, profile_text_color=333333, verified=false, profile_image_url=http://pbs.twimg.com/profile_images/994776428649631745/fGZCApPR_normal.jpg, time_zone=Madrid, contributors_enabled=false, url=null, profile_banner_url=https://pbs.twimg.com/profile_banners/2424309080/1526008108, profile_background_tile=true, follow_request_sent=null, statuses_count=31369, following=null, default_profile=false, profile_use_background_image=true, followers_count=288, name=yopor, profile_sidebar_fill_color=DDEEF6, location=pied piper 2:03, notifications=null}",
                    "extended_entities": "{media=[{source_user_id=420495532, display_url=pic.twitter.com/0naU3Xmt44, type=video, source_status_id=995407527864041473, media_url=http://pbs.twimg.com/ext_tw_video_thumb/995407454023438339/pu/img/s02rMoMfzovaBZTd.jpg, url=https://t.co/0naU3Xmt44, indices=[102, 125], sizes={small={h=383, resize=fit, w=680}, medium={h=675, resize=fit, w=1200}, large={h=720, resize=fit, w=1280}, thumb={h=150, resize=crop, w=150}}, id_str=995407454023438339, expanded_url=https://twitter.com/acano3_/status/995407527864041473/video/1, source_status_id_str=995407527864041473, media_url_https=https://pbs.twimg.com/ext_tw_video_thumb/995407454023438339/pu/img/s02rMoMfzovaBZTd.jpg, source_user_id_str=420495532, id=995407454023438339, additional_media_info={monetizable=false}, video_info={aspect_ratio=[16, 9], duration_millis=1330, variants=[{bitrate=832000, content_type=video/mp4, url=https://video.twimg.com/ext_tw_video/995407454023438339/pu/vid/640x360/V0eyjgGk2cxo28He.mp4?tag=3}, {bitrate=2176000, content_type=video/mp4, url=https://video.twimg.com/ext_tw_video/995407454023438339/pu/vid/1280x720/T0Ly_Z5EqtUQUZ9P.mp4?tag=3}, {content_type=application/x-mpegURL, url=https://video.twimg.com/ext_tw_video/995407454023438339/pu/pl/LV2AhLra6ApSkeCf.m3u8?tag=3}, {bitrate=256000, content_type=video/mp4, url=https://video.twimg.com/ext_tw_video/995407454023438339/pu/vid/320x180/_SOEWxpG8Fd3oi_8.mp4?tag=3}]}}]}",
                    "quote_count": "160"
                  },
                  "2": "false",
                  "3": "false",
                  "4": "NaN",
                  "5": "NaN",
                  "6": "NaN",
                  "7": "NaN"
                },
                {
                  "0": "false",
                  "1": {
                    "coordinates": null,
                    "retweeted": "false",
                    "source": "<a href=\"https://mobile.twitter.com\" rel=\"nofollow\">Twitter Lite</a>",
                    "entities": "{urls=[], hashtags=[{indices=[50, 61], text=Eurovision}], user_mentions=[], symbols=[]}",
                    "reply_count": "0",
                    "favorite_count": "0",
                    "in_reply_to_status_id_str": null,
                    "geo": null,
                    "id_str": "995422798007894016",
                    "in_reply_to_user_id": null,
                    "truncated": "false",
                    "text": "Why pull out an envelope just tell us the results #Eurovision",
                    "retweet_count": "1",
                    "id": "995422798007894016",
                    "in_reply_to_status_id": null,
                    "filter_level": "low",
                    "created_at": "Sat May 12 21:57:43 +0000 2018",
                    "place": null,
                    "favorited": "false",
                    "lang": "en",
                    "contributors": null,
                    "in_reply_to_screen_name": null,
                    "is_quote_status": "false",
                    "in_reply_to_user_id_str": null,
                    "user": "{utc_offset=3600, friends_count=150, profile_image_url_https=https://pbs.twimg.com/profile_images/733089288817135616/MViUklUV_normal.jpg, profile_background_image_url=http://abs.twimg.com/images/themes/theme1/bg.png, listed_count=1, default_profile_image=false, favourites_count=1307, is_translator=false, created_at=Tue Jul 10 21:44:46 +0000 2012, description=Well Percy's just this guy, you know., profile_background_image_url_https=https://abs.twimg.com/images/themes/theme1/bg.png, protected=false, screen_name=percystranjmind, profile_link_color=FF691F, id_str=632344750, translator_type=none, profile_background_color=C0DEED, geo_enabled=false, id=632344750, lang=en, profile_sidebar_border_color=C0DEED, profile_text_color=333333, verified=false, profile_image_url=http://pbs.twimg.com/profile_images/733089288817135616/MViUklUV_normal.jpg, time_zone=London, contributors_enabled=false, url=https://www.youtube.com/user/PercysStrangeMind, profile_background_tile=false, follow_request_sent=null, statuses_count=543, following=null, default_profile=false, profile_use_background_image=true, followers_count=33, name=Percy, profile_sidebar_fill_color=DDEEF6, location=Glasgow, Earth, notifications=null}",
                    "quote_count": "0"
                  },
                  "2": "false",
                  "3": "false",
                  "4": "NaN",
                  "5": "NaN",
                  "6": "NaN",
                  "7": "NaN"
                },
                {
                  "0": "false",
                  "1": {
                    "coordinates": null,
                    "retweeted": "false",
                    "source": "<a href=\"http://twitter.com/download/android\" rel=\"nofollow\">Twitter for Android</a>",
                    "entities": "{urls=[], hashtags=[{indices=[26, 37], text=Eurovision}], user_mentions=[], symbols=[]}",
                    "reply_count": "0",
                    "favorite_count": "0",
                    "in_reply_to_status_id_str": null,
                    "geo": null,
                    "id_str": "995429446231486465",
                    "in_reply_to_user_id": null,
                    "truncated": "false",
                    "text": "41 puntos me cago en dios #Eurovision",
                    "retweet_count": "1",
                    "id": "995429446231486465",
                    "in_reply_to_status_id": null,
                    "filter_level": "low",
                    "created_at": "Sat May 12 22:24:08 +0000 2018",
                    "place": null,
                    "favorited": "false",
                    "lang": "es",
                    "contributors": null,
                    "in_reply_to_screen_name": null,
                    "is_quote_status": "false",
                    "in_reply_to_user_id_str": null,
                    "user": "{utc_offset=10800, friends_count=552, profile_image_url_https=https://pbs.twimg.com/profile_images/977660089271312389/jqwnTZOQ_normal.jpg, profile_background_image_url=http://pbs.twimg.com/profile_background_images/378800000149963437/aUnFOZhF.jpeg, listed_count=10, default_profile_image=false, favourites_count=14938, is_translator=false, created_at=Tue Jul 10 22:47:08 +0000 2012, description=“Te he visto sonreír y llenar todo de luz, te he visto brillar para iluminar mi camino”// ALWAYS⚡// ITALIAN MEN||LUIS ARAGONÉS||Atlético de Madrid 🔴⚪, profile_background_image_url_https=https://pbs.twimg.com/profile_background_images/378800000149963437/aUnFOZhF.jpeg, protected=false, screen_name=Paolohg899, profile_link_color=94D487, id_str=632377541, translator_type=none, profile_background_color=1A1B1F, geo_enabled=true, id=632377541, lang=es, profile_sidebar_border_color=FFFFFF, profile_text_color=333333, verified=false, profile_image_url=http://pbs.twimg.com/profile_images/977660089271312389/jqwnTZOQ_normal.jpg, time_zone=Athens, contributors_enabled=false, url=https://www.instagram.com/paablohg/?hl=es, profile_banner_url=https://pbs.twimg.com/profile_banners/632377541/1519067287, profile_background_tile=true, follow_request_sent=null, statuses_count=50048, following=null, default_profile=false, profile_use_background_image=true, followers_count=495, name=Nox⏃, profile_sidebar_fill_color=DDEEF6, location=Ojalá algún día ROMA , notifications=null}",
                    "quote_count": "0"
                  },
                  "2": "false",
                  "3": "false",
                  "4": "NaN",
                  "5": "NaN",
                  "6": "NaN",
                  "7": "NaN"
                }
              ],
              "schema": [
                {
                  "key": "0",
                  "name": "user_verified",
                  "type": "boolean"
                },
                {
                  "key": "1",
                  "name": "retweeted_status",
                  "type": "MapType(StringType,StringType,true)"
                },
                {
                  "key": "2",
                  "name": "retweeted",
                  "type": "boolean"
                },
                {
                  "key": "3",
                  "name": "is_quote_status",
                  "type": "boolean"
                },
                {
                  "key": "4",
                  "name": "in_reply_to_status_id",
                  "type": "double"
                },
                {
                  "key": "5",
                  "name": "in_reply_to_status_id_str",
                  "type": "double"
                },
                {
                  "key": "6",
                  "name": "in_reply_to_user_id",
                  "type": "double"
                },
                {
                  "key": "7",
                  "name": "in_reply_to_user_id_str",
                  "type": "double"
                },
                {
                  "key": "8",
                  "name": "in_reply_to_screen_name",
                  "type": "string"
                }
              ],
              "truncated": false
            },
            "isSummary": false,
            "language": "scala"
          },
          "persist_state": {
            "view": {
              "type": "details",
              "tableOptions": {},
              "chartOptions": {
                "chartType": "bar",
                "aggregationType": "sum",
                "categoryFieldKeys": [
                  "0"
                ],
                "seriesFieldKeys": [
                  "4"
                ],
                "isStacked": false
              }
            }
          }
        },
        "fbec979b-430b-4f42-be68-95703fd41512": {
          "type": "Synapse.DataFrame",
          "sync_state": {
            "table": {
              "rows": [
                {
                  "0": "2018-05-12 22:33:21",
                  "1": "995431765000000000",
                  "2": "995431765018923008",
                  "3": "RT @infernxo: Chce szwecje kurwa #Eurovision",
                  "4": "<a href=\"http://twitter.com/download/android\" rel=\"nofollow\">Twitter for Android</a>",
                  "5": "false",
                  "6": "NaN",
                  "7": "NaN",
                  "8": "NaN",
                  "9": "NaN",
                  "14": "NaN",
                  "15": {
                    "coordinates": null,
                    "retweeted": "false",
                    "source": "<a href=\"http://twitter.com/download/android\" rel=\"nofollow\">Twitter for Android</a>",
                    "entities": "{urls=[], hashtags=[{indices=[19, 30], text=Eurovision}], user_mentions=[], symbols=[]}",
                    "reply_count": "0",
                    "favorite_count": "0",
                    "in_reply_to_status_id_str": null,
                    "geo": null,
                    "id_str": "995431597389295616",
                    "in_reply_to_user_id": null,
                    "truncated": "false",
                    "text": "Chce szwecje kurwa #Eurovision",
                    "retweet_count": "1",
                    "id": "995431597389295616",
                    "in_reply_to_status_id": null,
                    "filter_level": "low",
                    "created_at": "Sat May 12 22:32:41 +0000 2018",
                    "place": null,
                    "favorited": "false",
                    "lang": "pl",
                    "contributors": null,
                    "in_reply_to_screen_name": null,
                    "is_quote_status": "false",
                    "in_reply_to_user_id_str": null,
                    "user": "{utc_offset=null, friends_count=640, profile_image_url_https=https://pbs.twimg.com/profile_images/944232075720314885/ImsuFheh_normal.jpg, profile_background_image_url=, listed_count=2, default_profile_image=false, favourites_count=4451, is_translator=false, created_at=Thu Aug 17 18:44:09 +0000 2017, description=moje serce znów za mną tęskni, profile_background_image_url_https=, protected=false, screen_name=infernxo, profile_link_color=1DA1F2, id_str=898254135233060865, translator_type=none, profile_background_color=F5F8FA, geo_enabled=false, id=898254135233060865, lang=pl, profile_sidebar_border_color=C0DEED, profile_text_color=333333, verified=false, profile_image_url=http://pbs.twimg.com/profile_images/944232075720314885/ImsuFheh_normal.jpg, time_zone=null, contributors_enabled=false, url=null, profile_banner_url=https://pbs.twimg.com/profile_banners/898254135233060865/1507136696, profile_background_tile=false, follow_request_sent=null, statuses_count=2610, following=null, default_profile=true, profile_use_background_image=true, followers_count=729, name=blue daisy, profile_sidebar_fill_color=DDEEF6, location=null, notifications=null}",
                    "quote_count": "0"
                  },
                  "16": "false",
                  "17": "0",
                  "18": "0",
                  "19": "0",
                  "20": "0",
                  "22": "false",
                  "23": "false",
                  "24": "NaN",
                  "25": "low",
                  "26": "pl",
                  "27": "2018-05-12 22:33:21.665",
                  "29": "NaN",
                  "30": "NaN",
                  "32": "NaN",
                  "35": "945629878199999872",
                  "36": "945629878153510912",
                  "37": "-ˏ`луна´ˎ-",
                  "38": "blcklcfr",
                  "41": "паникую только на дискотеках",
                  "42": "none",
                  "43": "false",
                  "44": "false",
                  "45": "964",
                  "46": "699",
                  "47": "0",
                  "48": "399",
                  "49": "334",
                  "50": "2017-12-26 12:18:26",
                  "51": "NaN",
                  "53": "false",
                  "54": "ru",
                  "55": "false",
                  "56": "false",
                  "57": "F5F8FA",
                  "58": "",
                  "59": "",
                  "60": "false",
                  "61": "1DA1F2",
                  "62": "C0DEED",
                  "63": "DDEEF6",
                  "64": "333333",
                  "65": "true",
                  "66": "http://pbs.twimg.com/profile_images/995226212166520832/iZdyb_ji_normal.jpg",
                  "67": "https://pbs.twimg.com/profile_images/995226212166520832/iZdyb_ji_normal.jpg",
                  "68": "https://pbs.twimg.com/profile_banners/945629878153510912/1526115395",
                  "69": "true",
                  "70": "false",
                  "71": "NaN",
                  "72": "NaN",
                  "73": "NaN",
                  "74": [],
                  "75": [],
                  "76": [],
                  "78": "Eurovision",
                  "79": [
                    0,
                    11
                  ]
                },
                {
                  "0": "2018-05-12 22:35:28",
                  "1": "995432298000000000",
                  "2": "995432297976381440",
                  "3": "Surely Cyprus has this #Eurovision",
                  "4": "<a href=\"http://twitter.com/download/android\" rel=\"nofollow\">Twitter for Android</a>",
                  "5": "false",
                  "6": "NaN",
                  "7": "NaN",
                  "8": "NaN",
                  "9": "NaN",
                  "14": "NaN",
                  "16": "false",
                  "17": "0",
                  "18": "0",
                  "19": "0",
                  "20": "0",
                  "22": "false",
                  "23": "false",
                  "24": "NaN",
                  "25": "low",
                  "26": "en",
                  "27": "2018-05-12 22:35:28.732",
                  "29": "NaN",
                  "30": "NaN",
                  "32": "NaN",
                  "35": "945629878199999872",
                  "36": "945629878153510912",
                  "37": "-ˏ`луна´ˎ-",
                  "38": "blcklcfr",
                  "41": "паникую только на дискотеках",
                  "42": "none",
                  "43": "false",
                  "44": "false",
                  "45": "964",
                  "46": "699",
                  "47": "0",
                  "48": "400",
                  "49": "336",
                  "50": "2017-12-26 12:18:26",
                  "51": "NaN",
                  "53": "false",
                  "54": "ru",
                  "55": "false",
                  "56": "false",
                  "57": "F5F8FA",
                  "58": "",
                  "59": "",
                  "60": "false",
                  "61": "1DA1F2",
                  "62": "C0DEED",
                  "63": "DDEEF6",
                  "64": "333333",
                  "65": "true",
                  "66": "http://pbs.twimg.com/profile_images/995226212166520832/iZdyb_ji_normal.jpg",
                  "67": "https://pbs.twimg.com/profile_images/995226212166520832/iZdyb_ji_normal.jpg",
                  "68": "https://pbs.twimg.com/profile_banners/945629878153510912/1526115395",
                  "69": "true",
                  "70": "false",
                  "71": "NaN",
                  "72": "NaN",
                  "73": "NaN",
                  "74": [],
                  "75": [],
                  "76": [],
                  "78": "ToryTrollBots",
                  "79": [
                    62,
                    76
                  ]
                }
              ],
              "schema": [
                {
                  "key": "0",
                  "name": "created_at",
                  "type": "timestamp"
                },
                {
                  "key": "1",
                  "name": "id",
                  "type": "bigint"
                },
                {
                  "key": "2",
                  "name": "id_str",
                  "type": "bigint"
                },
                {
                  "key": "3",
                  "name": "text",
                  "type": "string"
                },
                {
                  "key": "4",
                  "name": "source",
                  "type": "string"
                },
                {
                  "key": "5",
                  "name": "truncated",
                  "type": "boolean"
                },
                {
                  "key": "6",
                  "name": "in_reply_to_status_id",
                  "type": "double"
                },
                {
                  "key": "7",
                  "name": "in_reply_to_status_id_str",
                  "type": "double"
                },
                {
                  "key": "8",
                  "name": "in_reply_to_user_id",
                  "type": "double"
                },
                {
                  "key": "9",
                  "name": "in_reply_to_user_id_str",
                  "type": "double"
                },
                {
                  "key": "10",
                  "name": "in_reply_to_screen_name",
                  "type": "string"
                },
                {
                  "key": "11",
                  "name": "geo",
                  "type": "MapType(StringType,StringType,true)"
                },
                {
                  "key": "12",
                  "name": "coordinates",
                  "type": "MapType(StringType,StringType,true)"
                },
                {
                  "key": "13",
                  "name": "place",
                  "type": "MapType(StringType,StringType,true)"
                },
                {
                  "key": "14",
                  "name": "contributors",
                  "type": "double"
                },
                {
                  "key": "15",
                  "name": "retweeted_status",
                  "type": "MapType(StringType,StringType,true)"
                },
                {
                  "key": "16",
                  "name": "is_quote_status",
                  "type": "boolean"
                },
                {
                  "key": "17",
                  "name": "quote_count",
                  "type": "bigint"
                },
                {
                  "key": "18",
                  "name": "reply_count",
                  "type": "bigint"
                },
                {
                  "key": "19",
                  "name": "retweet_count",
                  "type": "bigint"
                },
                {
                  "key": "20",
                  "name": "favorite_count",
                  "type": "bigint"
                },
                {
                  "key": "21",
                  "name": "extended_entities",
                  "type": "MapType(StringType,ArrayType(MapType(StringType,LongType,true),true),true)"
                },
                {
                  "key": "22",
                  "name": "favorited",
                  "type": "boolean"
                },
                {
                  "key": "23",
                  "name": "retweeted",
                  "type": "boolean"
                },
                {
                  "key": "24",
                  "name": "possibly_sensitive",
                  "type": "double"
                },
                {
                  "key": "25",
                  "name": "filter_level",
                  "type": "string"
                },
                {
                  "key": "26",
                  "name": "lang",
                  "type": "string"
                },
                {
                  "key": "27",
                  "name": "timestamp_ms",
                  "type": "timestamp"
                },
                {
                  "key": "28",
                  "name": "display_text_range",
                  "type": "ArrayType(LongType,true)"
                },
                {
                  "key": "29",
                  "name": "quoted_status_id",
                  "type": "double"
                },
                {
                  "key": "30",
                  "name": "quoted_status_id_str",
                  "type": "double"
                },
                {
                  "key": "31",
                  "name": "quoted_status",
                  "type": "MapType(StringType,StringType,true)"
                },
                {
                  "key": "32",
                  "name": "limit",
                  "type": "double"
                },
                {
                  "key": "33",
                  "name": "extended_tweet",
                  "type": "MapType(StringType,StringType,true)"
                },
                {
                  "key": "34",
                  "name": "withheld_in_countries",
                  "type": "ArrayType(StringType,true)"
                },
                {
                  "key": "35",
                  "name": "user_id",
                  "type": "bigint"
                },
                {
                  "key": "36",
                  "name": "user_id_str",
                  "type": "bigint"
                },
                {
                  "key": "37",
                  "name": "user_name",
                  "type": "string"
                },
                {
                  "key": "38",
                  "name": "user_screen_name",
                  "type": "string"
                },
                {
                  "key": "39",
                  "name": "user_location",
                  "type": "string"
                },
                {
                  "key": "40",
                  "name": "user_url",
                  "type": "string"
                },
                {
                  "key": "41",
                  "name": "user_description",
                  "type": "string"
                },
                {
                  "key": "42",
                  "name": "user_translator_type",
                  "type": "string"
                },
                {
                  "key": "43",
                  "name": "user_protected",
                  "type": "boolean"
                },
                {
                  "key": "44",
                  "name": "user_verified",
                  "type": "boolean"
                },
                {
                  "key": "45",
                  "name": "user_followers_count",
                  "type": "bigint"
                },
                {
                  "key": "46",
                  "name": "user_friends_count",
                  "type": "bigint"
                },
                {
                  "key": "47",
                  "name": "user_listed_count",
                  "type": "bigint"
                },
                {
                  "key": "48",
                  "name": "user_favourites_count",
                  "type": "bigint"
                },
                {
                  "key": "49",
                  "name": "user_statuses_count",
                  "type": "bigint"
                },
                {
                  "key": "50",
                  "name": "user_created_at",
                  "type": "timestamp"
                },
                {
                  "key": "51",
                  "name": "user_utc_offset",
                  "type": "double"
                },
                {
                  "key": "52",
                  "name": "user_time_zone",
                  "type": "string"
                },
                {
                  "key": "53",
                  "name": "user_geo_enabled",
                  "type": "boolean"
                },
                {
                  "key": "54",
                  "name": "user_lang",
                  "type": "string"
                },
                {
                  "key": "55",
                  "name": "user_contributors_enabled",
                  "type": "boolean"
                },
                {
                  "key": "56",
                  "name": "user_is_translator",
                  "type": "boolean"
                },
                {
                  "key": "57",
                  "name": "user_profile_background_color",
                  "type": "string"
                },
                {
                  "key": "58",
                  "name": "user_profile_background_image_url",
                  "type": "string"
                },
                {
                  "key": "59",
                  "name": "user_profile_background_image_url_https",
                  "type": "string"
                },
                {
                  "key": "60",
                  "name": "user_profile_background_tile",
                  "type": "boolean"
                },
                {
                  "key": "61",
                  "name": "user_profile_link_color",
                  "type": "string"
                },
                {
                  "key": "62",
                  "name": "user_profile_sidebar_border_color",
                  "type": "string"
                },
                {
                  "key": "63",
                  "name": "user_profile_sidebar_fill_color",
                  "type": "string"
                },
                {
                  "key": "64",
                  "name": "user_profile_text_color",
                  "type": "string"
                },
                {
                  "key": "65",
                  "name": "user_profile_use_background_image",
                  "type": "boolean"
                },
                {
                  "key": "66",
                  "name": "user_profile_image_url",
                  "type": "string"
                },
                {
                  "key": "67",
                  "name": "user_profile_image_url_https",
                  "type": "string"
                },
                {
                  "key": "68",
                  "name": "user_profile_banner_url",
                  "type": "string"
                },
                {
                  "key": "69",
                  "name": "user_default_profile",
                  "type": "boolean"
                },
                {
                  "key": "70",
                  "name": "user_default_profile_image",
                  "type": "boolean"
                },
                {
                  "key": "71",
                  "name": "user_following",
                  "type": "double"
                },
                {
                  "key": "72",
                  "name": "user_follow_request_sent",
                  "type": "double"
                },
                {
                  "key": "73",
                  "name": "user_notifications",
                  "type": "double"
                },
                {
                  "key": "74",
                  "name": "entities_urls",
                  "type": "ArrayType(MapType(StringType,StringType,true),true)"
                },
                {
                  "key": "75",
                  "name": "entities_user_mentions",
                  "type": "ArrayType(MapType(StringType,StringType,true),true)"
                },
                {
                  "key": "76",
                  "name": "entities_symbols",
                  "type": "ArrayType(MapType(StringType,StringType,true),true)"
                },
                {
                  "key": "77",
                  "name": "entities_media",
                  "type": "ArrayType(MapType(StringType,LongType,true),true)"
                },
                {
                  "key": "78",
                  "name": "entities_hashtags_text",
                  "type": "string"
                },
                {
                  "key": "79",
                  "name": "entities_hashtags_indices",
                  "type": "ArrayType(LongType,true)"
                }
              ],
              "truncated": false
            },
            "isSummary": false,
            "language": "scala"
          },
          "persist_state": {
            "view": {
              "type": "details",
              "tableOptions": {},
              "chartOptions": {
                "chartType": "bar",
                "aggregationType": "sum",
                "categoryFieldKeys": [
                  "0"
                ],
                "seriesFieldKeys": [
                  "1"
                ],
                "isStacked": false
              }
            }
          }
        },
        "bc451f20-21ba-4188-8abc-d888cb945a4c": {
          "type": "Synapse.DataFrame",
          "sync_state": {
            "table": {
              "rows": [
                {
                  "0": "2018-05-12 22:22:51",
                  "1": "995429123600000000",
                  "2": "995429123563585536",
                  "3": "RT @AlfraiaOt: Soy la única que está flipando con las votaciones? #Eurovision",
                  "4": "<a href=\"http://twitter.com/download/iphone\" rel=\"nofollow\">Twitter for iPhone</a>",
                  "5": "false",
                  "6": "NaN",
                  "7": "NaN",
                  "8": "NaN",
                  "9": "NaN",
                  "14": "NaN",
                  "15": {
                    "coordinates": null,
                    "retweeted": "false",
                    "source": "<a href=\"http://twitter.com/download/android\" rel=\"nofollow\">Twitter for Android</a>",
                    "entities": "{urls=[], hashtags=[{indices=[51, 62], text=Eurovision}], user_mentions=[], symbols=[]}",
                    "reply_count": "1",
                    "favorite_count": "29",
                    "in_reply_to_status_id_str": null,
                    "geo": null,
                    "id_str": "995428493457473536",
                    "in_reply_to_user_id": null,
                    "truncated": "false",
                    "text": "Soy la única que está flipando con las votaciones? #Eurovision",
                    "retweet_count": "9",
                    "id": "995428493457473536",
                    "in_reply_to_status_id": null,
                    "filter_level": "low",
                    "created_at": "Sat May 12 22:20:21 +0000 2018",
                    "place": null,
                    "favorited": "false",
                    "lang": "es",
                    "contributors": null,
                    "in_reply_to_screen_name": null,
                    "is_quote_status": "false",
                    "in_reply_to_user_id_str": null,
                    "user": "{utc_offset=null, friends_count=170, profile_image_url_https=https://pbs.twimg.com/profile_images/992433218405232640/b8ZE5CYP_normal.jpg, profile_background_image_url=, listed_count=2, default_profile_image=false, favourites_count=3528, is_translator=false, created_at=Fri Mar 09 17:17:28 +0000 2018, description=In love con la vida, la música y Almaia, profile_background_image_url_https=, protected=false, screen_name=AlfraiaOt, profile_link_color=1DA1F2, id_str=972159444699230208, translator_type=none, profile_background_color=F5F8FA, geo_enabled=false, id=972159444699230208, lang=es, profile_sidebar_border_color=C0DEED, profile_text_color=333333, verified=false, profile_image_url=http://pbs.twimg.com/profile_images/992433218405232640/b8ZE5CYP_normal.jpg, time_zone=null, contributors_enabled=false, url=null, profile_banner_url=https://pbs.twimg.com/profile_banners/972159444699230208/1520617030, profile_background_tile=false, follow_request_sent=null, statuses_count=2232, following=null, default_profile=true, profile_use_background_image=true, followers_count=80, name=Alfraia_OT, profile_sidebar_fill_color=DDEEF6, location=null, notifications=null}",
                    "quote_count": "0"
                  },
                  "16": "false",
                  "17": "0",
                  "18": "0",
                  "19": "0",
                  "20": "0",
                  "22": "false",
                  "23": "false",
                  "24": "NaN",
                  "25": "low",
                  "26": "es",
                  "27": "2018-05-12 22:22:51.893",
                  "29": "NaN",
                  "30": "NaN",
                  "32": "NaN",
                  "35": "1367380723",
                  "36": "1367380723",
                  "37": "VOTE SONG NUMBER 13 or 22",
                  "38": "Hannah_DeForest",
                  "39": "España ✈ Eurovision",
                  "40": "http://mundo-de-hechulera.tumblr.com/",
                  "41": "EuroFan desde el 2001.Jedward, #LalaLover #Saadista,Tooji,Alexander Ryback,DimaBilan,Sirusho,Loreen,Emmilie de Forest,Eva Boto y muchos mas",
                  "42": "none",
                  "43": "false",
                  "44": "false",
                  "45": "375",
                  "46": "2063",
                  "47": "1",
                  "48": "0",
                  "49": "10131",
                  "50": "2013-04-20 15:53:24",
                  "51": "7200.0",
                  "52": "Madrid",
                  "53": "false",
                  "54": "es",
                  "55": "false",
                  "56": "false",
                  "57": "1531BD",
                  "58": "http://pbs.twimg.com/profile_background_images/600692846866210816/eT9-DK7z.png",
                  "59": "https://pbs.twimg.com/profile_background_images/600692846866210816/eT9-DK7z.png",
                  "60": "false",
                  "61": "0084B4",
                  "62": "FFFFFF",
                  "63": "DDEEF6",
                  "64": "333333",
                  "65": "true",
                  "66": "http://pbs.twimg.com/profile_images/995336751018397696/sKeN5jmQ_normal.jpg",
                  "67": "https://pbs.twimg.com/profile_images/995336751018397696/sKeN5jmQ_normal.jpg",
                  "68": "https://pbs.twimg.com/profile_banners/1367380723/1525805888",
                  "69": "false",
                  "70": "false",
                  "71": "NaN",
                  "72": "NaN",
                  "73": "NaN",
                  "74": [],
                  "75": [
                    {
                      "name": "しょうがない",
                      "screen_name": "KafkaColourless",
                      "indices": "[3, 19]",
                      "id_str": "362506229",
                      "id": "362506229"
                    }
                  ],
                  "76": [],
                  "78": "Eurovision",
                  "79": [
                    14,
                    25
                  ]
                },
                {
                  "0": "2018-05-12 22:23:06",
                  "1": "995429185400000128",
                  "2": "995429185446391808",
                  "3": "MONTENEGRO’S VOTE WAS SO POLITCAL HAHAH #Eurovision",
                  "4": "<a href=\"http://twitter.com/download/iphone\" rel=\"nofollow\">Twitter for iPhone</a>",
                  "5": "false",
                  "6": "NaN",
                  "7": "NaN",
                  "8": "NaN",
                  "9": "NaN",
                  "14": "NaN",
                  "16": "false",
                  "17": "0",
                  "18": "0",
                  "19": "0",
                  "20": "0",
                  "22": "false",
                  "23": "false",
                  "24": "NaN",
                  "25": "low",
                  "26": "en",
                  "27": "2018-05-12 22:23:06.647",
                  "29": "NaN",
                  "30": "NaN",
                  "32": "NaN",
                  "35": "1367380723",
                  "36": "1367380723",
                  "37": "VOTE SONG NUMBER 13 or 22",
                  "38": "Hannah_DeForest",
                  "39": "España ✈ Eurovision",
                  "40": "http://mundo-de-hechulera.tumblr.com/",
                  "41": "EuroFan desde el 2001.Jedward, #LalaLover #Saadista,Tooji,Alexander Ryback,DimaBilan,Sirusho,Loreen,Emmilie de Forest,Eva Boto y muchos mas",
                  "42": "none",
                  "43": "false",
                  "44": "false",
                  "45": "375",
                  "46": "2063",
                  "47": "1",
                  "48": "0",
                  "49": "10134",
                  "50": "2013-04-20 15:53:24",
                  "51": "7200.0",
                  "52": "Madrid",
                  "53": "false",
                  "54": "es",
                  "55": "false",
                  "56": "false",
                  "57": "1531BD",
                  "58": "http://pbs.twimg.com/profile_background_images/600692846866210816/eT9-DK7z.png",
                  "59": "https://pbs.twimg.com/profile_background_images/600692846866210816/eT9-DK7z.png",
                  "60": "false",
                  "61": "0084B4",
                  "62": "FFFFFF",
                  "63": "DDEEF6",
                  "64": "333333",
                  "65": "true",
                  "66": "http://pbs.twimg.com/profile_images/995336751018397696/sKeN5jmQ_normal.jpg",
                  "67": "https://pbs.twimg.com/profile_images/995336751018397696/sKeN5jmQ_normal.jpg",
                  "68": "https://pbs.twimg.com/profile_banners/1367380723/1525805888",
                  "69": "false",
                  "70": "false",
                  "71": "NaN",
                  "72": "NaN",
                  "73": "NaN",
                  "74": [],
                  "75": [
                    {
                      "name": "Coronela #Lohacemosyyavemos",
                      "screen_name": "coronela_defog",
                      "indices": "[3, 18]",
                      "id_str": "253576082",
                      "id": "253576082"
                    }
                  ],
                  "76": [],
                  "78": "Eurovision",
                  "79": [
                    22,
                    33
                  ]
                },
                {
                  "0": "2018-05-12 22:23:27",
                  "1": "995429274300000000",
                  "2": "995429274277433344",
                  "3": "and another 7 from Germany! #EUROVISION #AUS",
                  "4": "<a href=\"http://twitter.com/download/iphone\" rel=\"nofollow\">Twitter for iPhone</a>",
                  "5": "false",
                  "6": "9.9542891490000013E17",
                  "7": "9.9542891487587533E17",
                  "8": "6.1341403E7",
                  "9": "6.1341403E7",
                  "10": "FoxFM",
                  "14": "NaN",
                  "16": "false",
                  "17": "0",
                  "18": "0",
                  "19": "0",
                  "20": "0",
                  "22": "false",
                  "23": "false",
                  "24": "NaN",
                  "25": "low",
                  "26": "en",
                  "27": "2018-05-12 22:23:27.826",
                  "29": "NaN",
                  "30": "NaN",
                  "32": "NaN",
                  "35": "1367380723",
                  "36": "1367380723",
                  "37": "VOTE SONG NUMBER 13 or 22",
                  "38": "Hannah_DeForest",
                  "39": "España ✈ Eurovision",
                  "40": "http://mundo-de-hechulera.tumblr.com/",
                  "41": "EuroFan desde el 2001.Jedward, #LalaLover #Saadista,Tooji,Alexander Ryback,DimaBilan,Sirusho,Loreen,Emmilie de Forest,Eva Boto y muchos mas",
                  "42": "none",
                  "43": "false",
                  "44": "false",
                  "45": "375",
                  "46": "2063",
                  "47": "1",
                  "48": "0",
                  "49": "10138",
                  "50": "2013-04-20 15:53:24",
                  "51": "7200.0",
                  "52": "Madrid",
                  "53": "false",
                  "54": "es",
                  "55": "false",
                  "56": "false",
                  "57": "1531BD",
                  "58": "http://pbs.twimg.com/profile_background_images/600692846866210816/eT9-DK7z.png",
                  "59": "https://pbs.twimg.com/profile_background_images/600692846866210816/eT9-DK7z.png",
                  "60": "false",
                  "61": "0084B4",
                  "62": "FFFFFF",
                  "63": "DDEEF6",
                  "64": "333333",
                  "65": "true",
                  "66": "http://pbs.twimg.com/profile_images/995336751018397696/sKeN5jmQ_normal.jpg",
                  "67": "https://pbs.twimg.com/profile_images/995336751018397696/sKeN5jmQ_normal.jpg",
                  "68": "https://pbs.twimg.com/profile_banners/1367380723/1525805888",
                  "69": "false",
                  "70": "false",
                  "71": "NaN",
                  "72": "NaN",
                  "73": "NaN",
                  "74": [],
                  "75": [
                    {
                      "name": "♀️Lady Crow♀️Memevision day🐔",
                      "screen_name": "KiryuyoSatsunin",
                      "indices": "[3, 19]",
                      "id_str": "2861077810",
                      "id": "2861077810"
                    }
                  ],
                  "76": [],
                  "77": [
                    {
                      "expanded_url": null,
                      "source_status_id": 995428498180333600,
                      "indices": null,
                      "url": null,
                      "media_url": null,
                      "id_str": null,
                      "source_user_id": 2861077810,
                      "id": 995428489347158000,
                      "media_url_https": null,
                      "source_user_id_str": null,
                      "sizes": null,
                      "type": null,
                      "source_status_id_str": null,
                      "display_url": null
                    }
                  ],
                  "78": "Eurovision",
                  "79": [
                    62,
                    73
                  ]
                },
                {
                  "0": "2018-05-12 22:23:41",
                  "1": "995429332400000000",
                  "2": "995429332393787392",
                  "3": "Graham: *bitches about a country*\nCountry: *gives us points*\nGraham: I take back everything I said I'm so sorry I l… https://t.co/nRFrTN91Qx",
                  "4": "<a href=\"http://twitter.com/download/android\" rel=\"nofollow\">Twitter for Android</a>",
                  "5": "true",
                  "6": "NaN",
                  "7": "NaN",
                  "8": "NaN",
                  "9": "NaN",
                  "14": "NaN",
                  "16": "false",
                  "17": "0",
                  "18": "0",
                  "19": "0",
                  "20": "0",
                  "22": "false",
                  "23": "false",
                  "24": "NaN",
                  "25": "low",
                  "26": "en",
                  "27": "2018-05-12 22:23:41.682",
                  "29": "NaN",
                  "30": "NaN",
                  "32": "NaN",
                  "33": {
                    "display_text_range": "[0, 169]",
                    "entities": "{urls=[], hashtags=[{indices=[158, 169], text=Eurovision}], user_mentions=[], symbols=[]}",
                    "full_text": "Graham: *bitches about a country*\nCountry: *gives us points*\nGraham: I take back everything I said I'm so sorry I love your country I will come and visit\n😂😂😂\n#Eurovision"
                  },
                  "35": "1367380723",
                  "36": "1367380723",
                  "37": "VOTE SONG NUMBER 13 or 22",
                  "38": "Hannah_DeForest",
                  "39": "España ✈ Eurovision",
                  "40": "http://mundo-de-hechulera.tumblr.com/",
                  "41": "EuroFan desde el 2001.Jedward, #LalaLover #Saadista,Tooji,Alexander Ryback,DimaBilan,Sirusho,Loreen,Emmilie de Forest,Eva Boto y muchos mas",
                  "42": "none",
                  "43": "false",
                  "44": "false",
                  "45": "375",
                  "46": "2063",
                  "47": "1",
                  "48": "0",
                  "49": "10141",
                  "50": "2013-04-20 15:53:24",
                  "51": "7200.0",
                  "52": "Madrid",
                  "53": "false",
                  "54": "es",
                  "55": "false",
                  "56": "false",
                  "57": "1531BD",
                  "58": "http://pbs.twimg.com/profile_background_images/600692846866210816/eT9-DK7z.png",
                  "59": "https://pbs.twimg.com/profile_background_images/600692846866210816/eT9-DK7z.png",
                  "60": "false",
                  "61": "0084B4",
                  "62": "FFFFFF",
                  "63": "DDEEF6",
                  "64": "333333",
                  "65": "true",
                  "66": "http://pbs.twimg.com/profile_images/995336751018397696/sKeN5jmQ_normal.jpg",
                  "67": "https://pbs.twimg.com/profile_images/995336751018397696/sKeN5jmQ_normal.jpg",
                  "68": "https://pbs.twimg.com/profile_banners/1367380723/1525805888",
                  "69": "false",
                  "70": "false",
                  "71": "NaN",
                  "72": "NaN",
                  "73": "NaN",
                  "74": [],
                  "75": [
                    {
                      "name": "V. Cadaverini",
                      "screen_name": "East_",
                      "indices": "[3, 9]",
                      "id_str": "51203748",
                      "id": "51203748"
                    }
                  ],
                  "76": [],
                  "77": [
                    {
                      "expanded_url": null,
                      "source_status_id": 995428761981083600,
                      "indices": null,
                      "url": null,
                      "media_url": null,
                      "id_str": null,
                      "source_user_id": 51203748,
                      "id": 995428733153669100,
                      "media_url_https": null,
                      "source_user_id_str": null,
                      "sizes": null,
                      "type": null,
                      "source_status_id_str": null,
                      "display_url": null
                    }
                  ],
                  "78": "Eurovision",
                  "79": [
                    86,
                    97
                  ]
                },
                {
                  "0": "2018-05-12 22:24:14",
                  "1": "995429471400000000",
                  "2": "995429471388950528",
                  "3": "RT @jungjaeguns: cuando apago la luz del pasillo para irme a mi habitación y que no me maten los espíritus #Eurovision https://t.co/0naU3Xm…",
                  "4": "<a href=\"http://twitter.com/download/android\" rel=\"nofollow\">Twitter for Android</a>",
                  "5": "false",
                  "6": "NaN",
                  "7": "NaN",
                  "8": "NaN",
                  "9": "NaN",
                  "14": "NaN",
                  "15": {
                    "coordinates": null,
                    "retweeted": "false",
                    "source": "<a href=\"http://twitter.com/download/android\" rel=\"nofollow\">Twitter for Android</a>",
                    "entities": "{urls=[], media=[{source_user_id=420495532, display_url=pic.twitter.com/0naU3Xmt44, type=photo, source_status_id=995407527864041473, media_url=http://pbs.twimg.com/ext_tw_video_thumb/995407454023438339/pu/img/s02rMoMfzovaBZTd.jpg, url=https://t.co/0naU3Xmt44, indices=[102, 125], sizes={small={h=383, resize=fit, w=680}, medium={h=675, resize=fit, w=1200}, large={h=720, resize=fit, w=1280}, thumb={h=150, resize=crop, w=150}}, id_str=995407454023438339, expanded_url=https://twitter.com/acano3_/status/995407527864041473/video/1, source_status_id_str=995407527864041473, media_url_https=https://pbs.twimg.com/ext_tw_video_thumb/995407454023438339/pu/img/s02rMoMfzovaBZTd.jpg, source_user_id_str=420495532, id=995407454023438339, additional_media_info={monetizable=false}}], hashtags=[{indices=[90, 101], text=Eurovision}], user_mentions=[], symbols=[]}",
                    "reply_count": "27",
                    "favorite_count": "4362",
                    "in_reply_to_status_id_str": null,
                    "geo": null,
                    "id_str": "995417089656672256",
                    "in_reply_to_user_id": null,
                    "truncated": "false",
                    "text": "cuando apago la luz del pasillo para irme a mi habitación y que no me maten los espíritus #Eurovision https://t.co/0naU3Xmt44",
                    "retweet_count": "4430",
                    "id": "995417089656672256",
                    "in_reply_to_status_id": null,
                    "possibly_sensitive": "false",
                    "filter_level": "low",
                    "created_at": "Sat May 12 21:35:02 +0000 2018",
                    "place": null,
                    "favorited": "false",
                    "lang": "es",
                    "contributors": null,
                    "in_reply_to_screen_name": null,
                    "is_quote_status": "false",
                    "in_reply_to_user_id_str": null,
                    "user": "{utc_offset=7200, friends_count=145, profile_image_url_https=https://pbs.twimg.com/profile_images/994776428649631745/fGZCApPR_normal.jpg, profile_background_image_url=http://pbs.twimg.com/profile_background_images/718139660594229248/ey6vMq90.jpg, listed_count=19, default_profile_image=false, favourites_count=10399, is_translator=false, created_at=Wed Apr 02 20:33:51 +0000 2014, description=#민윤기🍀 #정재현🍑, profile_background_image_url_https=https://pbs.twimg.com/profile_background_images/718139660594229248/ey6vMq90.jpg, protected=false, screen_name=jungjaeguns, profile_link_color=F58EA8, id_str=2424309080, translator_type=none, profile_background_color=CC99FF, geo_enabled=true, id=2424309080, lang=es, profile_sidebar_border_color=FFFFFF, profile_text_color=333333, verified=false, profile_image_url=http://pbs.twimg.com/profile_images/994776428649631745/fGZCApPR_normal.jpg, time_zone=Madrid, contributors_enabled=false, url=null, profile_banner_url=https://pbs.twimg.com/profile_banners/2424309080/1526008108, profile_background_tile=true, follow_request_sent=null, statuses_count=31369, following=null, default_profile=false, profile_use_background_image=true, followers_count=288, name=yopor, profile_sidebar_fill_color=DDEEF6, location=pied piper 2:03, notifications=null}",
                    "extended_entities": "{media=[{source_user_id=420495532, display_url=pic.twitter.com/0naU3Xmt44, type=video, source_status_id=995407527864041473, media_url=http://pbs.twimg.com/ext_tw_video_thumb/995407454023438339/pu/img/s02rMoMfzovaBZTd.jpg, url=https://t.co/0naU3Xmt44, indices=[102, 125], sizes={small={h=383, resize=fit, w=680}, medium={h=675, resize=fit, w=1200}, large={h=720, resize=fit, w=1280}, thumb={h=150, resize=crop, w=150}}, id_str=995407454023438339, expanded_url=https://twitter.com/acano3_/status/995407527864041473/video/1, source_status_id_str=995407527864041473, media_url_https=https://pbs.twimg.com/ext_tw_video_thumb/995407454023438339/pu/img/s02rMoMfzovaBZTd.jpg, source_user_id_str=420495532, id=995407454023438339, additional_media_info={monetizable=false}, video_info={aspect_ratio=[16, 9], duration_millis=1330, variants=[{bitrate=832000, content_type=video/mp4, url=https://video.twimg.com/ext_tw_video/995407454023438339/pu/vid/640x360/V0eyjgGk2cxo28He.mp4?tag=3}, {bitrate=2176000, content_type=video/mp4, url=https://video.twimg.com/ext_tw_video/995407454023438339/pu/vid/1280x720/T0Ly_Z5EqtUQUZ9P.mp4?tag=3}, {content_type=application/x-mpegURL, url=https://video.twimg.com/ext_tw_video/995407454023438339/pu/pl/LV2AhLra6ApSkeCf.m3u8?tag=3}, {bitrate=256000, content_type=video/mp4, url=https://video.twimg.com/ext_tw_video/995407454023438339/pu/vid/320x180/_SOEWxpG8Fd3oi_8.mp4?tag=3}]}}]}",
                    "quote_count": "160"
                  },
                  "16": "false",
                  "17": "0",
                  "18": "0",
                  "19": "0",
                  "20": "0",
                  "22": "false",
                  "23": "false",
                  "24": "NaN",
                  "25": "low",
                  "26": "es",
                  "27": "2018-05-12 22:24:14.821",
                  "29": "NaN",
                  "30": "NaN",
                  "32": "NaN",
                  "35": "1367380723",
                  "36": "1367380723",
                  "37": "VOTE SONG NUMBER 13 or 22",
                  "38": "Hannah_DeForest",
                  "39": "España ✈ Eurovision",
                  "40": "http://mundo-de-hechulera.tumblr.com/",
                  "41": "EuroFan desde el 2001.Jedward, #LalaLover #Saadista,Tooji,Alexander Ryback,DimaBilan,Sirusho,Loreen,Emmilie de Forest,Eva Boto y muchos mas",
                  "42": "none",
                  "43": "false",
                  "44": "false",
                  "45": "375",
                  "46": "2063",
                  "47": "1",
                  "48": "0",
                  "49": "10149",
                  "50": "2013-04-20 15:53:24",
                  "51": "7200.0",
                  "52": "Madrid",
                  "53": "false",
                  "54": "es",
                  "55": "false",
                  "56": "false",
                  "57": "1531BD",
                  "58": "http://pbs.twimg.com/profile_background_images/600692846866210816/eT9-DK7z.png",
                  "59": "https://pbs.twimg.com/profile_background_images/600692846866210816/eT9-DK7z.png",
                  "60": "false",
                  "61": "0084B4",
                  "62": "FFFFFF",
                  "63": "DDEEF6",
                  "64": "333333",
                  "65": "true",
                  "66": "http://pbs.twimg.com/profile_images/995336751018397696/sKeN5jmQ_normal.jpg",
                  "67": "https://pbs.twimg.com/profile_images/995336751018397696/sKeN5jmQ_normal.jpg",
                  "68": "https://pbs.twimg.com/profile_banners/1367380723/1525805888",
                  "69": "false",
                  "70": "false",
                  "71": "NaN",
                  "72": "NaN",
                  "73": "NaN",
                  "74": [],
                  "75": [
                    {
                      "name": "Bou",
                      "screen_name": "notthatbou",
                      "indices": "[3, 14]",
                      "id_str": "898156027",
                      "id": "898156027"
                    }
                  ],
                  "76": [],
                  "77": [
                    {
                      "expanded_url": null,
                      "source_status_id": 995428356169576400,
                      "indices": null,
                      "url": null,
                      "media_url": null,
                      "id_str": null,
                      "source_user_id": 898156027,
                      "id": 995428174845632500,
                      "media_url_https": null,
                      "source_user_id_str": null,
                      "sizes": null,
                      "type": null,
                      "source_status_id_str": null,
                      "display_url": null
                    }
                  ],
                  "78": "Eurovision",
                  "79": [
                    74,
                    85
                  ]
                },
                {
                  "0": "2018-05-12 22:24:24",
                  "1": "995429512700000000",
                  "2": "995429512702779392",
                  "3": "RT @violetstraw: #eurovision https://t.co/dIklX9tKKg",
                  "4": "<a href=\"http://twitter.com/download/android\" rel=\"nofollow\">Twitter for Android</a>",
                  "5": "false",
                  "6": "NaN",
                  "7": "NaN",
                  "8": "NaN",
                  "9": "NaN",
                  "14": "NaN",
                  "15": {
                    "coordinates": null,
                    "retweeted": "false",
                    "source": "<a href=\"http://twitter.com/download/iphone\" rel=\"nofollow\">Twitter for iPhone</a>",
                    "entities": "{urls=[], media=[{display_url=pic.twitter.com/dIklX9tKKg, indices=[12, 35], sizes={small={h=200, resize=fit, w=224}, medium={h=200, resize=fit, w=224}, large={h=200, resize=fit, w=224}, thumb={h=150, resize=crop, w=150}}, id_str=995428870676471808, expanded_url=https://twitter.com/violetstraw/status/995428883867619328/photo/1, media_url_https=https://pbs.twimg.com/tweet_video_thumb/DdB5SKvW4AAebn0.jpg, id=995428870676471808, type=photo, media_url=http://pbs.twimg.com/tweet_video_thumb/DdB5SKvW4AAebn0.jpg, url=https://t.co/dIklX9tKKg}], hashtags=[{indices=[0, 11], text=eurovision}], user_mentions=[], symbols=[]}",
                    "reply_count": "0",
                    "display_text_range": "[0, 11]",
                    "favorite_count": "4",
                    "in_reply_to_status_id_str": null,
                    "geo": null,
                    "id_str": "995428883867619328",
                    "in_reply_to_user_id": null,
                    "truncated": "false",
                    "text": "#eurovision https://t.co/dIklX9tKKg",
                    "retweet_count": "1",
                    "id": "995428883867619328",
                    "in_reply_to_status_id": null,
                    "possibly_sensitive": "false",
                    "filter_level": "low",
                    "created_at": "Sat May 12 22:21:54 +0000 2018",
                    "place": null,
                    "favorited": "false",
                    "lang": "und",
                    "contributors": null,
                    "in_reply_to_screen_name": null,
                    "is_quote_status": "false",
                    "in_reply_to_user_id_str": null,
                    "user": "{utc_offset=7200, friends_count=381, profile_image_url_https=https://pbs.twimg.com/profile_images/943229674574008320/Xj-wwQO2_normal.jpg, profile_background_image_url=http://pbs.twimg.com/profile_background_images/584801363495780353/YPJS5Jqe.jpg, listed_count=10, default_profile_image=false, favourites_count=832, is_translator=false, created_at=Wed Aug 05 09:09:43 +0000 2009, description=👑너를사랑해, 너를기다리네, profile_background_image_url_https=https://pbs.twimg.com/profile_background_images/584801363495780353/YPJS5Jqe.jpg, protected=false, screen_name=violetstraw, profile_link_color=ABB8C2, id_str=63082033, translator_type=none, profile_background_color=1A1B1F, geo_enabled=false, id=63082033, lang=en, profile_sidebar_border_color=86A4A6, profile_text_color=333333, verified=false, profile_image_url=http://pbs.twimg.com/profile_images/943229674574008320/Xj-wwQO2_normal.jpg, time_zone=Rome, contributors_enabled=false, url=null, profile_banner_url=https://pbs.twimg.com/profile_banners/63082033/1520872504, profile_background_tile=true, follow_request_sent=null, statuses_count=71589, following=null, default_profile=false, profile_use_background_image=true, followers_count=311, name=Giogiogio💎, profile_sidebar_fill_color=A0C5C7, location=Italy, notifications=null}",
                    "extended_entities": "{media=[{display_url=pic.twitter.com/dIklX9tKKg, indices=[12, 35], sizes={small={h=200, resize=fit, w=224}, medium={h=200, resize=fit, w=224}, large={h=200, resize=fit, w=224}, thumb={h=150, resize=crop, w=150}}, id_str=995428870676471808, expanded_url=https://twitter.com/violetstraw/status/995428883867619328/photo/1, media_url_https=https://pbs.twimg.com/tweet_video_thumb/DdB5SKvW4AAebn0.jpg, id=995428870676471808, type=animated_gif, media_url=http://pbs.twimg.com/tweet_video_thumb/DdB5SKvW4AAebn0.jpg, video_info={aspect_ratio=[28, 25], variants=[{bitrate=0, content_type=video/mp4, url=https://video.twimg.com/tweet_video/DdB5SKvW4AAebn0.mp4}]}, url=https://t.co/dIklX9tKKg}]}",
                    "quote_count": "0"
                  },
                  "16": "false",
                  "17": "0",
                  "18": "0",
                  "19": "0",
                  "20": "0",
                  "21": {
                    "media": [
                      {
                        "expanded_url": null,
                        "source_status_id": 995428883867619300,
                        "indices": null,
                        "url": null,
                        "media_url": null,
                        "id_str": null,
                        "video_info": null,
                        "source_user_id": 63082033,
                        "id": 995428870676471800,
                        "media_url_https": null,
                        "source_user_id_str": null,
                        "sizes": null,
                        "type": null,
                        "source_status_id_str": null,
                        "display_url": null
                      }
                    ]
                  },
                  "22": "false",
                  "23": "false",
                  "24": "0.0",
                  "25": "low",
                  "26": "und",
                  "27": "2018-05-12 22:24:24.671",
                  "29": "NaN",
                  "30": "NaN",
                  "32": "NaN",
                  "35": "1367380723",
                  "36": "1367380723",
                  "37": "VOTE SONG NUMBER 13 or 22",
                  "38": "Hannah_DeForest",
                  "39": "España ✈ Eurovision",
                  "40": "http://mundo-de-hechulera.tumblr.com/",
                  "41": "EuroFan desde el 2001.Jedward, #LalaLover #Saadista,Tooji,Alexander Ryback,DimaBilan,Sirusho,Loreen,Emmilie de Forest,Eva Boto y muchos mas",
                  "42": "none",
                  "43": "false",
                  "44": "false",
                  "45": "375",
                  "46": "2063",
                  "47": "1",
                  "48": "0",
                  "49": "10152",
                  "50": "2013-04-20 15:53:24",
                  "51": "7200.0",
                  "52": "Madrid",
                  "53": "false",
                  "54": "es",
                  "55": "false",
                  "56": "false",
                  "57": "1531BD",
                  "58": "http://pbs.twimg.com/profile_background_images/600692846866210816/eT9-DK7z.png",
                  "59": "https://pbs.twimg.com/profile_background_images/600692846866210816/eT9-DK7z.png",
                  "60": "false",
                  "61": "0084B4",
                  "62": "FFFFFF",
                  "63": "DDEEF6",
                  "64": "333333",
                  "65": "true",
                  "66": "http://pbs.twimg.com/profile_images/995336751018397696/sKeN5jmQ_normal.jpg",
                  "67": "https://pbs.twimg.com/profile_images/995336751018397696/sKeN5jmQ_normal.jpg",
                  "68": "https://pbs.twimg.com/profile_banners/1367380723/1525805888",
                  "69": "false",
                  "70": "false",
                  "71": "NaN",
                  "72": "NaN",
                  "73": "NaN",
                  "74": [],
                  "75": [
                    {
                      "name": "sand ✨",
                      "screen_name": "_sandrafe",
                      "indices": "[3, 13]",
                      "id_str": "537385421",
                      "id": "537385421"
                    }
                  ],
                  "76": [],
                  "77": [
                    {
                      "expanded_url": null,
                      "source_status_id": 995427903675478000,
                      "indices": null,
                      "url": null,
                      "media_url": null,
                      "id_str": null,
                      "source_user_id": 537385421,
                      "id": 995427896499073000,
                      "media_url_https": null,
                      "source_user_id_str": null,
                      "sizes": null,
                      "type": null,
                      "source_status_id_str": null,
                      "display_url": null
                    }
                  ],
                  "78": "Eurovision",
                  "79": [
                    50,
                    61
                  ]
                },
                {
                  "0": "2018-05-12 22:24:50",
                  "1": "995429621900000000",
                  "2": "995429621947617280",
                  "3": "RT @newschambers: That'll be the BBC dropping the World Cup too so. https://t.co/VxQphDbKQQ",
                  "4": "<a href=\"https://about.twitter.com/products/tweetdeck\" rel=\"nofollow\">TweetDeck</a>",
                  "5": "false",
                  "6": "NaN",
                  "7": "NaN",
                  "8": "NaN",
                  "9": "NaN",
                  "14": "NaN",
                  "15": {
                    "coordinates": null,
                    "retweeted": "false",
                    "source": "<a href=\"http://twitter.com\" rel=\"nofollow\">Twitter Web Client</a>",
                    "entities": "{urls=[{expanded_url=https://twitter.com/toryboypierce/status/995424209244483589, display_url=twitter.com/toryboypierce/…, indices=[50, 73], url=https://t.co/VxQphDbKQQ}], hashtags=[], user_mentions=[], symbols=[]}",
                    "reply_count": "0",
                    "display_text_range": "[0, 49]",
                    "quoted_status_id": "995424209244483589",
                    "favorite_count": "35",
                    "in_reply_to_status_id_str": null,
                    "geo": null,
                    "id_str": "995428881569124353",
                    "in_reply_to_user_id": null,
                    "quoted_status": "{in_reply_to_status_id_str=null, in_reply_to_status_id=null, in_reply_to_user_id_str=null, created_at=Sat May 12 22:03:20 +0000 2018, source=<a href=\"http://twitter.com/download/iphone\" rel=\"nofollow\">Twitter for iPhone</a>, retweet_count=30, retweeted=false, geo=null, filter_level=low, is_quote_status=false, in_reply_to_screen_name=null, id_str=995424209244483589, in_reply_to_user_id=null, favorite_count=161, place=null, text=#Eurovision how much does this daft farce cost the BBC as we languish last with nil points, id=995424209244483589, lang=en, quote_count=14, favorited=false, coordinates=null, truncated=false, reply_count=68, entities={urls=[], hashtags=[{indices=[0, 11], text=Eurovision}], user_mentions=[], symbols=[]}, contributors=null, user={utc_offset=null, friends_count=644, profile_image_url_https=https://pbs.twimg.com/profile_images/444512524721860608/j0276BZK_normal.png, profile_background_image_url=http://abs.twimg.com/images/themes/theme14/bg.gif, listed_count=448, default_profile_image=false, favourites_count=24, is_translator=false, created_at=Mon Oct 07 15:34:06 +0000 2013, description=Political hack, impish, or total bastard, depending on your point of view. @lbc Friday evening presenter from 7pm, profile_background_image_url_https=https://abs.twimg.com/images/themes/theme14/bg.gif, protected=false, screen_name=toryboypierce, profile_link_color=009999, id_str=1944466748, translator_type=none, profile_background_color=131516, geo_enabled=true, id=1944466748, lang=en-gb, profile_sidebar_border_color=EEEEEE, profile_text_color=333333, verified=false, profile_image_url=http://pbs.twimg.com/profile_images/444512524721860608/j0276BZK_normal.png, time_zone=null, contributors_enabled=false, url=http://dailymail.co.uk, profile_background_tile=true, follow_request_sent=null, statuses_count=8824, following=null, default_profile=false, profile_use_background_image=true, followers_count=53804, name=Andrew Pierce, profile_sidebar_fill_color=EFEFEF, location=london, notifications=null}}",
                    "truncated": "false",
                    "text": "That'll be the BBC dropping the World Cup too so. https://t.co/VxQphDbKQQ",
                    "retweet_count": "9",
                    "id": "995428881569124353",
                    "in_reply_to_status_id": null,
                    "possibly_sensitive": "false",
                    "quoted_status_id_str": "995424209244483589",
                    "filter_level": "low",
                    "created_at": "Sat May 12 22:21:54 +0000 2018",
                    "place": null,
                    "favorited": "false",
                    "lang": "en",
                    "contributors": null,
                    "in_reply_to_screen_name": null,
                    "is_quote_status": "true",
                    "in_reply_to_user_id_str": null,
                    "user": "{utc_offset=3600, friends_count=5201, profile_image_url_https=https://pbs.twimg.com/profile_images/775452876768473088/3Iy8lVSP_normal.jpg, profile_background_image_url=http://pbs.twimg.com/profile_background_images/862623957/2955d564e0089d225f82f00aeb4c7e3b.jpeg, listed_count=328, default_profile_image=false, favourites_count=38715, is_translator=false, created_at=Wed Apr 01 09:12:42 +0000 2009, description=@Newstalkfm reporter and presenter. Got a story or comment? Drop me a DM or rchambers@newstalk.com, profile_background_image_url_https=https://pbs.twimg.com/profile_background_images/862623957/2955d564e0089d225f82f00aeb4c7e3b.jpeg, protected=false, screen_name=newschambers, profile_link_color=0084B4, id_str=28076811, translator_type=regular, profile_background_color=C0DEED, geo_enabled=true, id=28076811, lang=en, profile_sidebar_border_color=FFFFFF, profile_text_color=333333, verified=true, profile_image_url=http://pbs.twimg.com/profile_images/775452876768473088/3Iy8lVSP_normal.jpg, time_zone=Dublin, contributors_enabled=false, url=https://Instagram.com/newschambers, profile_banner_url=https://pbs.twimg.com/profile_banners/28076811/1493633786, profile_background_tile=false, follow_request_sent=null, statuses_count=70805, following=null, default_profile=false, profile_use_background_image=true, followers_count=16987, name=Richard Chambers🎙, profile_sidebar_fill_color=DDEEF6, location=Dublin, Ireland, notifications=null}",
                    "quote_count": "0"
                  },
                  "16": "true",
                  "17": "0",
                  "18": "0",
                  "19": "0",
                  "20": "0",
                  "22": "false",
                  "23": "false",
                  "24": "0.0",
                  "25": "low",
                  "26": "en",
                  "27": "2018-05-12 22:24:50.717",
                  "29": "9.954242092E17",
                  "30": "9.9542420924448358E17",
                  "31": {
                    "coordinates": null,
                    "retweeted": "false",
                    "source": "<a href=\"http://twitter.com/download/iphone\" rel=\"nofollow\">Twitter for iPhone</a>",
                    "entities": "{urls=[], hashtags=[{indices=[0, 11], text=Eurovision}], user_mentions=[], symbols=[]}",
                    "reply_count": "68",
                    "favorite_count": "161",
                    "in_reply_to_status_id_str": null,
                    "geo": null,
                    "id_str": "995424209244483589",
                    "in_reply_to_user_id": null,
                    "truncated": "false",
                    "text": "#Eurovision how much does this daft farce cost the BBC as we languish last with nil points",
                    "retweet_count": "30",
                    "id": "995424209244483589",
                    "in_reply_to_status_id": null,
                    "filter_level": "low",
                    "created_at": "Sat May 12 22:03:20 +0000 2018",
                    "place": null,
                    "favorited": "false",
                    "lang": "en",
                    "contributors": null,
                    "in_reply_to_screen_name": null,
                    "is_quote_status": "false",
                    "in_reply_to_user_id_str": null,
                    "user": "{utc_offset=null, friends_count=644, profile_image_url_https=https://pbs.twimg.com/profile_images/444512524721860608/j0276BZK_normal.png, profile_background_image_url=http://abs.twimg.com/images/themes/theme14/bg.gif, listed_count=448, default_profile_image=false, favourites_count=24, is_translator=false, created_at=Mon Oct 07 15:34:06 +0000 2013, description=Political hack, impish, or total bastard, depending on your point of view. @lbc Friday evening presenter from 7pm, profile_background_image_url_https=https://abs.twimg.com/images/themes/theme14/bg.gif, protected=false, screen_name=toryboypierce, profile_link_color=009999, id_str=1944466748, translator_type=none, profile_background_color=131516, geo_enabled=true, id=1944466748, lang=en-gb, profile_sidebar_border_color=EEEEEE, profile_text_color=333333, verified=false, profile_image_url=http://pbs.twimg.com/profile_images/444512524721860608/j0276BZK_normal.png, time_zone=null, contributors_enabled=false, url=http://dailymail.co.uk, profile_background_tile=true, follow_request_sent=null, statuses_count=8824, following=null, default_profile=false, profile_use_background_image=true, followers_count=53804, name=Andrew Pierce, profile_sidebar_fill_color=EFEFEF, location=london, notifications=null}",
                    "quote_count": "14"
                  },
                  "32": "NaN",
                  "35": "1367380723",
                  "36": "1367380723",
                  "37": "VOTE SONG NUMBER 13 or 22",
                  "38": "Hannah_DeForest",
                  "39": "España ✈ Eurovision",
                  "40": "http://mundo-de-hechulera.tumblr.com/",
                  "41": "EuroFan desde el 2001.Jedward, #LalaLover #Saadista,Tooji,Alexander Ryback,DimaBilan,Sirusho,Loreen,Emmilie de Forest,Eva Boto y muchos mas",
                  "42": "none",
                  "43": "false",
                  "44": "false",
                  "45": "375",
                  "46": "2063",
                  "47": "1",
                  "48": "0",
                  "49": "10156",
                  "50": "2013-04-20 15:53:24",
                  "51": "7200.0",
                  "52": "Madrid",
                  "53": "false",
                  "54": "es",
                  "55": "false",
                  "56": "false",
                  "57": "1531BD",
                  "58": "http://pbs.twimg.com/profile_background_images/600692846866210816/eT9-DK7z.png",
                  "59": "https://pbs.twimg.com/profile_background_images/600692846866210816/eT9-DK7z.png",
                  "60": "false",
                  "61": "0084B4",
                  "62": "FFFFFF",
                  "63": "DDEEF6",
                  "64": "333333",
                  "65": "true",
                  "66": "http://pbs.twimg.com/profile_images/995336751018397696/sKeN5jmQ_normal.jpg",
                  "67": "https://pbs.twimg.com/profile_images/995336751018397696/sKeN5jmQ_normal.jpg",
                  "68": "https://pbs.twimg.com/profile_banners/1367380723/1525805888",
                  "69": "false",
                  "70": "false",
                  "71": "NaN",
                  "72": "NaN",
                  "73": "NaN",
                  "74": [
                    {
                      "expanded_url": "https://twitter.com/manelvideoblogs/status/995428705487990784",
                      "display_url": "twitter.com/manelvideoblog…",
                      "indices": "[54, 77]",
                      "url": "https://t.co/ICITo91OJu"
                    }
                  ],
                  "75": [
                    {
                      "name": "Do I look upset to you?",
                      "screen_name": "PeroQueDiceUste",
                      "indices": "[3, 19]",
                      "id_str": "822841304367464448",
                      "id": "822841304367464448"
                    }
                  ],
                  "76": [],
                  "78": "Eurovision",
                  "79": [
                    40,
                    51
                  ]
                },
                {
                  "0": "2018-05-12 22:24:53",
                  "1": "995429635200000000",
                  "2": "995429635155464192",
                  "3": "RT @FreezeXx_: -He visto 604.000.632 futuros posibles.\n+¿Y en cuántos quedábamos entre los cinco primeros?\n-En uno.\n#Eurovision https://t.c…",
                  "4": "<a href=\"http://twitter.com/download/android\" rel=\"nofollow\">Twitter for Android</a>",
                  "5": "false",
                  "6": "NaN",
                  "7": "NaN",
                  "8": "NaN",
                  "9": "NaN",
                  "14": "NaN",
                  "15": {
                    "coordinates": null,
                    "retweeted": "false",
                    "source": "<a href=\"http://twitter.com/download/android\" rel=\"nofollow\">Twitter for Android</a>",
                    "entities": "{urls=[], media=[{display_url=pic.twitter.com/1d6s3iZ57X, indices=[113, 136], sizes={small={h=381, resize=fit, w=680}, medium={h=671, resize=fit, w=1199}, large={h=671, resize=fit, w=1199}, thumb={h=150, resize=crop, w=150}}, id_str=995428694893219840, expanded_url=https://twitter.com/FreezeXx_/status/995428702505889792/photo/1, media_url_https=https://pbs.twimg.com/media/DdB5H75XUAABP6L.jpg, id=995428694893219840, type=photo, media_url=http://pbs.twimg.com/media/DdB5H75XUAABP6L.jpg, url=https://t.co/1d6s3iZ57X}], hashtags=[{indices=[101, 112], text=Eurovision}], user_mentions=[], symbols=[]}",
                    "reply_count": "1",
                    "display_text_range": "[0, 112]",
                    "favorite_count": "136",
                    "in_reply_to_status_id_str": null,
                    "geo": null,
                    "id_str": "995428702505889792",
                    "in_reply_to_user_id": null,
                    "truncated": "false",
                    "text": "-He visto 604.000.632 futuros posibles.\n+¿Y en cuántos quedábamos entre los cinco primeros?\n-En uno.\n#Eurovision https://t.co/1d6s3iZ57X",
                    "retweet_count": "104",
                    "id": "995428702505889792",
                    "in_reply_to_status_id": null,
                    "possibly_sensitive": "false",
                    "filter_level": "low",
                    "created_at": "Sat May 12 22:21:11 +0000 2018",
                    "place": null,
                    "favorited": "false",
                    "lang": "es",
                    "contributors": null,
                    "in_reply_to_screen_name": null,
                    "is_quote_status": "false",
                    "in_reply_to_user_id_str": null,
                    "user": "{utc_offset=null, friends_count=40, profile_image_url_https=https://pbs.twimg.com/profile_images/990532975149375488/B-VhkYtl_normal.jpg, profile_background_image_url=http://abs.twimg.com/images/themes/theme1/bg.png, listed_count=0, default_profile_image=false, favourites_count=1287, is_translator=false, created_at=Thu Dec 14 20:46:02 +0000 2017, description=22. || TCP || Soy un chico normal. || #210117 ♍❤♏ @_selfpassion, profile_background_image_url_https=https://abs.twimg.com/images/themes/theme1/bg.png, protected=false, screen_name=FreezeXx_, profile_link_color=DF3A01, id_str=941408963605745669, translator_type=none, profile_background_color=000000, geo_enabled=false, id=941408963605745669, lang=es, profile_sidebar_border_color=000000, profile_text_color=000000, verified=false, profile_image_url=http://pbs.twimg.com/profile_images/990532975149375488/B-VhkYtl_normal.jpg, time_zone=null, contributors_enabled=false, url=null, profile_banner_url=https://pbs.twimg.com/profile_banners/941408963605745669/1520614235, profile_background_tile=false, follow_request_sent=null, statuses_count=958, following=null, default_profile=false, profile_use_background_image=false, followers_count=47, name=🦁, profile_sidebar_fill_color=000000, location=Sevilla, notifications=null}",
                    "extended_entities": "{media=[{display_url=pic.twitter.com/1d6s3iZ57X, indices=[113, 136], sizes={small={h=381, resize=fit, w=680}, medium={h=671, resize=fit, w=1199}, large={h=671, resize=fit, w=1199}, thumb={h=150, resize=crop, w=150}}, id_str=995428694893219840, expanded_url=https://twitter.com/FreezeXx_/status/995428702505889792/photo/1, media_url_https=https://pbs.twimg.com/media/DdB5H75XUAABP6L.jpg, id=995428694893219840, type=photo, media_url=http://pbs.twimg.com/media/DdB5H75XUAABP6L.jpg, url=https://t.co/1d6s3iZ57X}]}",
                    "quote_count": "2"
                  },
                  "16": "false",
                  "17": "0",
                  "18": "0",
                  "19": "0",
                  "20": "0",
                  "22": "false",
                  "23": "false",
                  "24": "NaN",
                  "25": "low",
                  "26": "es",
                  "27": "2018-05-12 22:24:53.866",
                  "29": "NaN",
                  "30": "NaN",
                  "32": "NaN",
                  "35": "1367380723",
                  "36": "1367380723",
                  "37": "VOTE SONG NUMBER 13 or 22",
                  "38": "Hannah_DeForest",
                  "39": "España ✈ Eurovision",
                  "40": "http://mundo-de-hechulera.tumblr.com/",
                  "41": "EuroFan desde el 2001.Jedward, #LalaLover #Saadista,Tooji,Alexander Ryback,DimaBilan,Sirusho,Loreen,Emmilie de Forest,Eva Boto y muchos mas",
                  "42": "none",
                  "43": "false",
                  "44": "false",
                  "45": "375",
                  "46": "2063",
                  "47": "1",
                  "48": "0",
                  "49": "10157",
                  "50": "2013-04-20 15:53:24",
                  "51": "7200.0",
                  "52": "Madrid",
                  "53": "false",
                  "54": "es",
                  "55": "false",
                  "56": "false",
                  "57": "1531BD",
                  "58": "http://pbs.twimg.com/profile_background_images/600692846866210816/eT9-DK7z.png",
                  "59": "https://pbs.twimg.com/profile_background_images/600692846866210816/eT9-DK7z.png",
                  "60": "false",
                  "61": "0084B4",
                  "62": "FFFFFF",
                  "63": "DDEEF6",
                  "64": "333333",
                  "65": "true",
                  "66": "http://pbs.twimg.com/profile_images/995336751018397696/sKeN5jmQ_normal.jpg",
                  "67": "https://pbs.twimg.com/profile_images/995336751018397696/sKeN5jmQ_normal.jpg",
                  "68": "https://pbs.twimg.com/profile_banners/1367380723/1525805888",
                  "69": "false",
                  "70": "false",
                  "71": "NaN",
                  "72": "NaN",
                  "73": "NaN",
                  "74": [],
                  "75": [
                    {
                      "name": "Coronela #Lohacemosyyavemos",
                      "screen_name": "coronela_defog",
                      "indices": "[3, 18]",
                      "id_str": "253576082",
                      "id": "253576082"
                    }
                  ],
                  "76": [],
                  "78": "Євробачення",
                  "79": [
                    36,
                    48
                  ]
                },
                {
                  "0": "2018-05-12 22:25:06",
                  "1": "995429689300000000",
                  "2": "995429689320726528",
                  "3": "RT @CarlosMarco: Estoy un poco shocked con estas votaciones #Eurovision #FinalEurovisión",
                  "4": "<a href=\"http://twitter.com/download/android\" rel=\"nofollow\">Twitter for Android</a>",
                  "5": "false",
                  "6": "NaN",
                  "7": "NaN",
                  "8": "NaN",
                  "9": "NaN",
                  "14": "NaN",
                  "15": {
                    "coordinates": null,
                    "retweeted": "false",
                    "source": "<a href=\"http://twitter.com/download/iphone\" rel=\"nofollow\">Twitter for iPhone</a>",
                    "entities": "{urls=[], hashtags=[{indices=[43, 54], text=Eurovision}, {indices=[55, 71], text=FinalEurovisión}], user_mentions=[], symbols=[]}",
                    "reply_count": "19",
                    "favorite_count": "257",
                    "in_reply_to_status_id_str": null,
                    "geo": null,
                    "id_str": "995426658554392577",
                    "in_reply_to_user_id": null,
                    "truncated": "false",
                    "text": "Estoy un poco shocked con estas votaciones #Eurovision #FinalEurovisión",
                    "retweet_count": "118",
                    "id": "995426658554392577",
                    "in_reply_to_status_id": null,
                    "filter_level": "low",
                    "created_at": "Sat May 12 22:13:04 +0000 2018",
                    "place": null,
                    "favorited": "false",
                    "lang": "es",
                    "contributors": null,
                    "in_reply_to_screen_name": null,
                    "is_quote_status": "false",
                    "in_reply_to_user_id_str": null,
                    "user": "{utc_offset=7200, friends_count=762, profile_image_url_https=https://pbs.twimg.com/profile_images/991400594190557184/T6Dtmb3m_normal.jpg, profile_background_image_url=http://abs.twimg.com/images/themes/theme15/bg.png, listed_count=711, default_profile_image=false, favourites_count=32427, is_translator=false, created_at=Tue Aug 18 14:43:42 +0000 2009, description=Singer/Songwriter/Publicist | Mi gato se llama K y mi último álbum “Chalk dreams”, N1 en España. Escúchalo en @spotifyspain, profile_background_image_url_https=https://abs.twimg.com/images/themes/theme15/bg.png, protected=false, screen_name=CarlosMarco, profile_link_color=0084B4, id_str=66697682, translator_type=none, profile_background_color=022330, geo_enabled=true, id=66697682, lang=es, profile_sidebar_border_color=A8C7F7, profile_text_color=333333, verified=true, profile_image_url=http://pbs.twimg.com/profile_images/991400594190557184/T6Dtmb3m_normal.jpg, time_zone=Madrid, contributors_enabled=false, url=http://www.carlosmarcomusic.com, profile_banner_url=https://pbs.twimg.com/profile_banners/66697682/1525203370, profile_background_tile=false, follow_request_sent=null, statuses_count=38085, following=null, default_profile=false, profile_use_background_image=true, followers_count=216096, name=Carlos Marco, profile_sidebar_fill_color=C0DFEC, location=Hogwarts, notifications=null}",
                    "quote_count": "0"
                  },
                  "16": "false",
                  "17": "0",
                  "18": "0",
                  "19": "0",
                  "20": "0",
                  "22": "false",
                  "23": "false",
                  "24": "NaN",
                  "25": "low",
                  "26": "es",
                  "27": "2018-05-12 22:25:06.78",
                  "29": "NaN",
                  "30": "NaN",
                  "32": "NaN",
                  "35": "1367380723",
                  "36": "1367380723",
                  "37": "VOTE SONG NUMBER 13 or 22",
                  "38": "Hannah_DeForest",
                  "39": "España ✈ Eurovision",
                  "40": "http://mundo-de-hechulera.tumblr.com/",
                  "41": "EuroFan desde el 2001.Jedward, #LalaLover #Saadista,Tooji,Alexander Ryback,DimaBilan,Sirusho,Loreen,Emmilie de Forest,Eva Boto y muchos mas",
                  "42": "none",
                  "43": "false",
                  "44": "false",
                  "45": "375",
                  "46": "2063",
                  "47": "1",
                  "48": "0",
                  "49": "10159",
                  "50": "2013-04-20 15:53:24",
                  "51": "7200.0",
                  "52": "Madrid",
                  "53": "false",
                  "54": "es",
                  "55": "false",
                  "56": "false",
                  "57": "1531BD",
                  "58": "http://pbs.twimg.com/profile_background_images/600692846866210816/eT9-DK7z.png",
                  "59": "https://pbs.twimg.com/profile_background_images/600692846866210816/eT9-DK7z.png",
                  "60": "false",
                  "61": "0084B4",
                  "62": "FFFFFF",
                  "63": "DDEEF6",
                  "64": "333333",
                  "65": "true",
                  "66": "http://pbs.twimg.com/profile_images/995336751018397696/sKeN5jmQ_normal.jpg",
                  "67": "https://pbs.twimg.com/profile_images/995336751018397696/sKeN5jmQ_normal.jpg",
                  "68": "https://pbs.twimg.com/profile_banners/1367380723/1525805888",
                  "69": "false",
                  "70": "false",
                  "71": "NaN",
                  "72": "NaN",
                  "73": "NaN",
                  "74": [],
                  "75": [
                    {
                      "name": "Pere Solà Gimferrer",
                      "screen_name": "PereSGimferrer",
                      "indices": "[3, 18]",
                      "id_str": "17950388",
                      "id": "17950388"
                    }
                  ],
                  "76": [],
                  "77": [
                    {
                      "expanded_url": null,
                      "source_status_id": 995429066114261000,
                      "indices": null,
                      "url": null,
                      "media_url": null,
                      "id_str": null,
                      "source_user_id": 17950388,
                      "id": 995429034640240600,
                      "media_url_https": null,
                      "source_user_id_str": null,
                      "sizes": null,
                      "type": null,
                      "source_status_id_str": null,
                      "display_url": null
                    }
                  ],
                  "78": "Eurovision",
                  "79": [
                    62,
                    73
                  ]
                },
                {
                  "0": "2018-05-12 22:25:18",
                  "1": "995429739399999872",
                  "2": "995429739446853632",
                  "3": "RT @heidi_teaman: Britain right now. #Eurovision https://t.co/nQYhsWspXa",
                  "4": "<a href=\"http://twitter.com/download/android\" rel=\"nofollow\">Twitter for Android</a>",
                  "5": "false",
                  "6": "NaN",
                  "7": "NaN",
                  "8": "NaN",
                  "9": "NaN",
                  "14": "NaN",
                  "15": {
                    "coordinates": null,
                    "retweeted": "false",
                    "source": "<a href=\"http://twitter.com/download/android\" rel=\"nofollow\">Twitter for Android</a>",
                    "entities": "{urls=[], media=[{display_url=pic.twitter.com/nQYhsWspXa, indices=[31, 54], sizes={small={h=220, resize=fit, w=348}, medium={h=220, resize=fit, w=348}, large={h=220, resize=fit, w=348}, thumb={h=150, resize=crop, w=150}}, id_str=995429656294764544, expanded_url=https://twitter.com/heidi_teaman/status/995429664578572291/photo/1, media_url_https=https://pbs.twimg.com/tweet_video_thumb/DdB5_5ZWsAAhnrD.jpg, id=995429656294764544, type=photo, media_url=http://pbs.twimg.com/tweet_video_thumb/DdB5_5ZWsAAhnrD.jpg, url=https://t.co/nQYhsWspXa}], hashtags=[{indices=[19, 30], text=Eurovision}], user_mentions=[], symbols=[]}",
                    "reply_count": "0",
                    "display_text_range": "[0, 30]",
                    "favorite_count": "1",
                    "in_reply_to_status_id_str": null,
                    "geo": null,
                    "id_str": "995429664578572291",
                    "in_reply_to_user_id": null,
                    "truncated": "false",
                    "text": "Britain right now. #Eurovision https://t.co/nQYhsWspXa",
                    "retweet_count": "1",
                    "id": "995429664578572291",
                    "in_reply_to_status_id": null,
                    "possibly_sensitive": "false",
                    "filter_level": "low",
                    "created_at": "Sat May 12 22:25:00 +0000 2018",
                    "place": null,
                    "favorited": "false",
                    "lang": "en",
                    "contributors": null,
                    "in_reply_to_screen_name": null,
                    "is_quote_status": "false",
                    "in_reply_to_user_id_str": null,
                    "user": "{utc_offset=-25200, friends_count=1324, profile_image_url_https=https://pbs.twimg.com/profile_images/976056775937052679/TyTJtvBs_normal.jpg, profile_background_image_url=http://pbs.twimg.com/profile_background_images/583565765317537792/_JVRIY1E.jpg, listed_count=31, default_profile_image=false, favourites_count=5491, is_translator=false, created_at=Wed Apr 01 22:12:55 +0000 2015, description=PhD student at @OU_SPS researching variable stars. Manage @spacecareersuk. 2017/18 Exec of @UKSEDS. Senior Mentor at @SpaceSchoolUK. Organiser of @PubhD_MK., profile_background_image_url_https=https://pbs.twimg.com/profile_background_images/583565765317537792/_JVRIY1E.jpg, protected=false, screen_name=heidi_teaman, profile_link_color=0084B4, id_str=3131128329, translator_type=none, profile_background_color=C0DEED, geo_enabled=false, id=3131128329, lang=en, profile_sidebar_border_color=C0DEED, profile_text_color=333333, verified=false, profile_image_url=http://pbs.twimg.com/profile_images/976056775937052679/TyTJtvBs_normal.jpg, time_zone=Pacific Time (US & Canada), contributors_enabled=false, url=http://astroheidi.wordpress.com/, profile_banner_url=https://pbs.twimg.com/profile_banners/3131128329/1525560027, profile_background_tile=true, follow_request_sent=null, statuses_count=6613, following=null, default_profile=false, profile_use_background_image=true, followers_count=883, name=Heidi Thiemann, profile_sidebar_fill_color=DDEEF6, location=Devon/Olney, notifications=null}",
                    "extended_entities": "{media=[{display_url=pic.twitter.com/nQYhsWspXa, indices=[31, 54], sizes={small={h=220, resize=fit, w=348}, medium={h=220, resize=fit, w=348}, large={h=220, resize=fit, w=348}, thumb={h=150, resize=crop, w=150}}, id_str=995429656294764544, expanded_url=https://twitter.com/heidi_teaman/status/995429664578572291/photo/1, media_url_https=https://pbs.twimg.com/tweet_video_thumb/DdB5_5ZWsAAhnrD.jpg, id=995429656294764544, type=animated_gif, media_url=http://pbs.twimg.com/tweet_video_thumb/DdB5_5ZWsAAhnrD.jpg, video_info={aspect_ratio=[87, 55], variants=[{bitrate=0, content_type=video/mp4, url=https://video.twimg.com/tweet_video/DdB5_5ZWsAAhnrD.mp4}]}, url=https://t.co/nQYhsWspXa}]}",
                    "quote_count": "0"
                  },
                  "16": "false",
                  "17": "0",
                  "18": "0",
                  "19": "0",
                  "20": "0",
                  "21": {
                    "media": [
                      {
                        "expanded_url": null,
                        "source_status_id": 995429664578572300,
                        "indices": null,
                        "url": null,
                        "media_url": null,
                        "id_str": null,
                        "video_info": null,
                        "source_user_id": 3131128329,
                        "id": 995429656294764500,
                        "media_url_https": null,
                        "source_user_id_str": null,
                        "sizes": null,
                        "type": null,
                        "source_status_id_str": null,
                        "display_url": null
                      }
                    ]
                  },
                  "22": "false",
                  "23": "false",
                  "24": "0.0",
                  "25": "low",
                  "26": "en",
                  "27": "2018-05-12 22:25:18.731",
                  "29": "NaN",
                  "30": "NaN",
                  "32": "NaN",
                  "35": "1367380723",
                  "36": "1367380723",
                  "37": "VOTE SONG NUMBER 13 or 22",
                  "38": "Hannah_DeForest",
                  "39": "España ✈ Eurovision",
                  "40": "http://mundo-de-hechulera.tumblr.com/",
                  "41": "EuroFan desde el 2001.Jedward, #LalaLover #Saadista,Tooji,Alexander Ryback,DimaBilan,Sirusho,Loreen,Emmilie de Forest,Eva Boto y muchos mas",
                  "42": "none",
                  "43": "false",
                  "44": "false",
                  "45": "375",
                  "46": "2063",
                  "47": "1",
                  "48": "0",
                  "49": "10162",
                  "50": "2013-04-20 15:53:24",
                  "51": "7200.0",
                  "52": "Madrid",
                  "53": "false",
                  "54": "es",
                  "55": "false",
                  "56": "false",
                  "57": "1531BD",
                  "58": "http://pbs.twimg.com/profile_background_images/600692846866210816/eT9-DK7z.png",
                  "59": "https://pbs.twimg.com/profile_background_images/600692846866210816/eT9-DK7z.png",
                  "60": "false",
                  "61": "0084B4",
                  "62": "FFFFFF",
                  "63": "DDEEF6",
                  "64": "333333",
                  "65": "true",
                  "66": "http://pbs.twimg.com/profile_images/995336751018397696/sKeN5jmQ_normal.jpg",
                  "67": "https://pbs.twimg.com/profile_images/995336751018397696/sKeN5jmQ_normal.jpg",
                  "68": "https://pbs.twimg.com/profile_banners/1367380723/1525805888",
                  "69": "false",
                  "70": "false",
                  "71": "NaN",
                  "72": "NaN",
                  "73": "NaN",
                  "74": [],
                  "75": [
                    {
                      "name": "Pablo Simón",
                      "screen_name": "kanciller",
                      "indices": "[3, 13]",
                      "id_str": "171758508",
                      "id": "171758508"
                    }
                  ],
                  "76": [],
                  "77": [
                    {
                      "expanded_url": null,
                      "source_status_id": 995412299568570400,
                      "indices": null,
                      "url": null,
                      "media_url": null,
                      "id_str": null,
                      "source_user_id": 171758508,
                      "id": 995412296246726700,
                      "media_url_https": null,
                      "source_user_id_str": null,
                      "sizes": null,
                      "type": null,
                      "source_status_id_str": null,
                      "display_url": null
                    }
                  ],
                  "78": "Eurovision",
                  "79": [
                    45,
                    56
                  ]
                },
                {
                  "0": "2018-05-12 22:26:31",
                  "1": "995430045600000000",
                  "2": "995430045631045632",
                  "3": "RT @manugo08: El 90% de los jurados europeos votando hoy #Eurovision https://t.co/y4acVLP7zv",
                  "4": "<a href=\"http://twitter.com\" rel=\"nofollow\">Twitter Web Client</a>",
                  "5": "false",
                  "6": "NaN",
                  "7": "NaN",
                  "8": "NaN",
                  "9": "NaN",
                  "14": "NaN",
                  "15": {
                    "coordinates": null,
                    "retweeted": "false",
                    "source": "<a href=\"http://twitter.com/download/android\" rel=\"nofollow\">Twitter for Android</a>",
                    "entities": "{urls=[], media=[{display_url=pic.twitter.com/y4acVLP7zv, indices=[55, 78], sizes={small={h=352, resize=fit, w=470}, medium={h=352, resize=fit, w=470}, large={h=352, resize=fit, w=470}, thumb={h=150, resize=crop, w=150}}, id_str=995428955128770560, expanded_url=https://twitter.com/manugo08/status/995429010078359552/photo/1, media_url_https=https://pbs.twimg.com/tweet_video_thumb/DdB5XFWWsAAqaHh.jpg, id=995428955128770560, type=photo, media_url=http://pbs.twimg.com/tweet_video_thumb/DdB5XFWWsAAqaHh.jpg, url=https://t.co/y4acVLP7zv}], hashtags=[{indices=[43, 54], text=Eurovision}], user_mentions=[], symbols=[]}",
                    "reply_count": "0",
                    "display_text_range": "[0, 54]",
                    "favorite_count": "66",
                    "in_reply_to_status_id_str": null,
                    "geo": null,
                    "id_str": "995429010078359552",
                    "in_reply_to_user_id": null,
                    "truncated": "false",
                    "text": "El 90% de los jurados europeos votando hoy #Eurovision https://t.co/y4acVLP7zv",
                    "retweet_count": "27",
                    "id": "995429010078359552",
                    "in_reply_to_status_id": null,
                    "possibly_sensitive": "false",
                    "filter_level": "low",
                    "created_at": "Sat May 12 22:22:24 +0000 2018",
                    "place": null,
                    "favorited": "false",
                    "lang": "es",
                    "contributors": null,
                    "in_reply_to_screen_name": null,
                    "is_quote_status": "false",
                    "in_reply_to_user_id_str": null,
                    "user": "{utc_offset=null, friends_count=24, profile_image_url_https=https://pbs.twimg.com/profile_images/961909531897946112/2FIo_wHO_normal.jpg, profile_background_image_url=http://abs.twimg.com/images/themes/theme1/bg.png, listed_count=0, default_profile_image=false, favourites_count=215, is_translator=false, created_at=Fri Aug 26 13:05:18 +0000 2016, description=Periodismo y Comunicación Audiovisual en la Universidad Rey Juan Carlos. Debí ser uruguayo. Redacto cosillas en Columna Cero., profile_background_image_url_https=https://abs.twimg.com/images/themes/theme1/bg.png, protected=false, screen_name=manugo08, profile_link_color=19CF86, id_str=769158779921375233, translator_type=none, profile_background_color=000000, geo_enabled=false, id=769158779921375233, lang=es, profile_sidebar_border_color=000000, profile_text_color=000000, verified=false, profile_image_url=http://pbs.twimg.com/profile_images/961909531897946112/2FIo_wHO_normal.jpg, time_zone=null, contributors_enabled=false, url=null, profile_banner_url=https://pbs.twimg.com/profile_banners/769158779921375233/1518172126, profile_background_tile=false, follow_request_sent=null, statuses_count=402, following=null, default_profile=false, profile_use_background_image=false, followers_count=26, name=Manu, profile_sidebar_fill_color=000000, location=Madrid, Comunidad de Madrid, notifications=null}",
                    "extended_entities": "{media=[{display_url=pic.twitter.com/y4acVLP7zv, indices=[55, 78], sizes={small={h=352, resize=fit, w=470}, medium={h=352, resize=fit, w=470}, large={h=352, resize=fit, w=470}, thumb={h=150, resize=crop, w=150}}, id_str=995428955128770560, expanded_url=https://twitter.com/manugo08/status/995429010078359552/photo/1, media_url_https=https://pbs.twimg.com/tweet_video_thumb/DdB5XFWWsAAqaHh.jpg, id=995428955128770560, type=animated_gif, media_url=http://pbs.twimg.com/tweet_video_thumb/DdB5XFWWsAAqaHh.jpg, video_info={aspect_ratio=[235, 176], variants=[{bitrate=0, content_type=video/mp4, url=https://video.twimg.com/tweet_video/DdB5XFWWsAAqaHh.mp4}]}, url=https://t.co/y4acVLP7zv}]}",
                    "quote_count": "0"
                  },
                  "16": "false",
                  "17": "0",
                  "18": "0",
                  "19": "0",
                  "20": "0",
                  "21": {
                    "media": [
                      {
                        "expanded_url": null,
                        "source_status_id": 995429010078359600,
                        "indices": null,
                        "url": null,
                        "media_url": null,
                        "id_str": null,
                        "video_info": null,
                        "source_user_id": 769158779921375200,
                        "id": 995428955128770600,
                        "media_url_https": null,
                        "source_user_id_str": null,
                        "sizes": null,
                        "type": null,
                        "source_status_id_str": null,
                        "display_url": null
                      }
                    ]
                  },
                  "22": "false",
                  "23": "false",
                  "24": "0.0",
                  "25": "low",
                  "26": "es",
                  "27": "2018-05-12 22:26:31.731",
                  "29": "NaN",
                  "30": "NaN",
                  "32": "NaN",
                  "35": "1367380723",
                  "36": "1367380723",
                  "37": "VOTE SONG NUMBER 13 or 22",
                  "38": "Hannah_DeForest",
                  "39": "España ✈ Eurovision",
                  "40": "http://mundo-de-hechulera.tumblr.com/",
                  "41": "EuroFan desde el 2001.Jedward, #LalaLover #Saadista,Tooji,Alexander Ryback,DimaBilan,Sirusho,Loreen,Emmilie de Forest,Eva Boto y muchos mas",
                  "42": "none",
                  "43": "false",
                  "44": "false",
                  "45": "375",
                  "46": "2063",
                  "47": "1",
                  "48": "0",
                  "49": "10173",
                  "50": "2013-04-20 15:53:24",
                  "51": "7200.0",
                  "52": "Madrid",
                  "53": "false",
                  "54": "es",
                  "55": "false",
                  "56": "false",
                  "57": "1531BD",
                  "58": "http://pbs.twimg.com/profile_background_images/600692846866210816/eT9-DK7z.png",
                  "59": "https://pbs.twimg.com/profile_background_images/600692846866210816/eT9-DK7z.png",
                  "60": "false",
                  "61": "0084B4",
                  "62": "FFFFFF",
                  "63": "DDEEF6",
                  "64": "333333",
                  "65": "true",
                  "66": "http://pbs.twimg.com/profile_images/995336751018397696/sKeN5jmQ_normal.jpg",
                  "67": "https://pbs.twimg.com/profile_images/995336751018397696/sKeN5jmQ_normal.jpg",
                  "68": "https://pbs.twimg.com/profile_banners/1367380723/1525805888",
                  "69": "false",
                  "70": "false",
                  "71": "NaN",
                  "72": "NaN",
                  "73": "NaN",
                  "74": [],
                  "75": [
                    {
                      "name": "Adrián Pachón",
                      "screen_name": "pachpoint98",
                      "indices": "[3, 15]",
                      "id_str": "2614463154",
                      "id": "2614463154"
                    }
                  ],
                  "76": [],
                  "77": [
                    {
                      "expanded_url": null,
                      "source_status_id": 995404176011202600,
                      "indices": null,
                      "url": null,
                      "media_url": null,
                      "id_str": null,
                      "source_user_id": 2614463154,
                      "id": 995404170642550800,
                      "media_url_https": null,
                      "source_user_id_str": null,
                      "sizes": null,
                      "type": null,
                      "source_status_id_str": null,
                      "display_url": null
                    }
                  ],
                  "78": "Eurovision",
                  "79": [
                    9,
                    20
                  ]
                },
                {
                  "0": "2018-05-12 22:26:41",
                  "1": "995430088300000000",
                  "2": "995430088257802240",
                  "3": "Que Quelqu'un m'explique pour l'Autriche bordel !!!! #eurovision",
                  "4": "<a href=\"http://twitter.com/download/android\" rel=\"nofollow\">Twitter for Android</a>",
                  "5": "false",
                  "6": "NaN",
                  "7": "NaN",
                  "8": "NaN",
                  "9": "NaN",
                  "14": "NaN",
                  "16": "false",
                  "17": "0",
                  "18": "0",
                  "19": "0",
                  "20": "0",
                  "22": "false",
                  "23": "false",
                  "24": "NaN",
                  "25": "low",
                  "26": "fr",
                  "27": "2018-05-12 22:26:41.894",
                  "29": "NaN",
                  "30": "NaN",
                  "32": "NaN",
                  "35": "1367380723",
                  "36": "1367380723",
                  "37": "VOTE SONG NUMBER 13 or 22",
                  "38": "Hannah_DeForest",
                  "39": "España ✈ Eurovision",
                  "40": "http://mundo-de-hechulera.tumblr.com/",
                  "41": "EuroFan desde el 2001.Jedward, #LalaLover #Saadista,Tooji,Alexander Ryback,DimaBilan,Sirusho,Loreen,Emmilie de Forest,Eva Boto y muchos mas",
                  "42": "none",
                  "43": "false",
                  "44": "false",
                  "45": "375",
                  "46": "2063",
                  "47": "1",
                  "48": "0",
                  "49": "10175",
                  "50": "2013-04-20 15:53:24",
                  "51": "7200.0",
                  "52": "Madrid",
                  "53": "false",
                  "54": "es",
                  "55": "false",
                  "56": "false",
                  "57": "1531BD",
                  "58": "http://pbs.twimg.com/profile_background_images/600692846866210816/eT9-DK7z.png",
                  "59": "https://pbs.twimg.com/profile_background_images/600692846866210816/eT9-DK7z.png",
                  "60": "false",
                  "61": "0084B4",
                  "62": "FFFFFF",
                  "63": "DDEEF6",
                  "64": "333333",
                  "65": "true",
                  "66": "http://pbs.twimg.com/profile_images/995336751018397696/sKeN5jmQ_normal.jpg",
                  "67": "https://pbs.twimg.com/profile_images/995336751018397696/sKeN5jmQ_normal.jpg",
                  "68": "https://pbs.twimg.com/profile_banners/1367380723/1525805888",
                  "69": "false",
                  "70": "false",
                  "71": "NaN",
                  "72": "NaN",
                  "73": "NaN",
                  "74": [],
                  "75": [
                    {
                      "name": "Beyond",
                      "screen_name": "ItsAlmudena",
                      "indices": "[3, 15]",
                      "id_str": "97953319",
                      "id": "97953319"
                    }
                  ],
                  "76": [],
                  "78": "eurovision",
                  "79": [
                    32,
                    43
                  ]
                },
                {
                  "0": "2018-05-12 22:27:25",
                  "1": "995430272200000000",
                  "2": "995430272182075392",
                  "3": "#Eurovision \nА ЖЮРИ - НЕ ЛЮДИ",
                  "4": "<a href=\"http://twitter.com/download/android\" rel=\"nofollow\">Twitter for Android</a>",
                  "5": "false",
                  "6": "NaN",
                  "7": "NaN",
                  "8": "NaN",
                  "9": "NaN",
                  "14": "NaN",
                  "16": "false",
                  "17": "0",
                  "18": "0",
                  "19": "0",
                  "20": "0",
                  "22": "false",
                  "23": "false",
                  "24": "NaN",
                  "25": "low",
                  "26": "ru",
                  "27": "2018-05-12 22:27:25.745",
                  "29": "NaN",
                  "30": "NaN",
                  "32": "NaN",
                  "35": "1367380723",
                  "36": "1367380723",
                  "37": "VOTE SONG NUMBER 13 or 22",
                  "38": "Hannah_DeForest",
                  "39": "España ✈ Eurovision",
                  "40": "http://mundo-de-hechulera.tumblr.com/",
                  "41": "EuroFan desde el 2001.Jedward, #LalaLover #Saadista,Tooji,Alexander Ryback,DimaBilan,Sirusho,Loreen,Emmilie de Forest,Eva Boto y muchos mas",
                  "42": "none",
                  "43": "false",
                  "44": "false",
                  "45": "376",
                  "46": "2063",
                  "47": "1",
                  "48": "0",
                  "49": "10182",
                  "50": "2013-04-20 15:53:24",
                  "51": "7200.0",
                  "52": "Madrid",
                  "53": "false",
                  "54": "es",
                  "55": "false",
                  "56": "false",
                  "57": "1531BD",
                  "58": "http://pbs.twimg.com/profile_background_images/600692846866210816/eT9-DK7z.png",
                  "59": "https://pbs.twimg.com/profile_background_images/600692846866210816/eT9-DK7z.png",
                  "60": "false",
                  "61": "0084B4",
                  "62": "FFFFFF",
                  "63": "DDEEF6",
                  "64": "333333",
                  "65": "true",
                  "66": "http://pbs.twimg.com/profile_images/995336751018397696/sKeN5jmQ_normal.jpg",
                  "67": "https://pbs.twimg.com/profile_images/995336751018397696/sKeN5jmQ_normal.jpg",
                  "68": "https://pbs.twimg.com/profile_banners/1367380723/1525805888",
                  "69": "false",
                  "70": "false",
                  "71": "NaN",
                  "72": "NaN",
                  "73": "NaN",
                  "74": [],
                  "75": [
                    {
                      "name": "VicAleph",
                      "screen_name": "VicAleph",
                      "indices": "[3, 12]",
                      "id_str": "116406431",
                      "id": "116406431"
                    }
                  ],
                  "76": [],
                  "78": "Eurovision",
                  "79": [
                    42,
                    53
                  ]
                },
                {
                  "0": "2018-05-12 22:28:51",
                  "1": "995430633200000000",
                  "2": "995430633156632576",
                  "3": "Quello della Svezia sempre più Jim Carrey. #ESCita #ESC2018 #Eurovision",
                  "4": "<a href=\"http://twitter.com/download/android\" rel=\"nofollow\">Twitter for Android</a>",
                  "5": "false",
                  "6": "NaN",
                  "7": "NaN",
                  "8": "NaN",
                  "9": "NaN",
                  "14": "NaN",
                  "16": "false",
                  "17": "0",
                  "18": "0",
                  "19": "0",
                  "20": "0",
                  "22": "false",
                  "23": "false",
                  "24": "NaN",
                  "25": "low",
                  "26": "it",
                  "27": "2018-05-12 22:28:51.808",
                  "29": "NaN",
                  "30": "NaN",
                  "32": "NaN",
                  "35": "1367380723",
                  "36": "1367380723",
                  "37": "VOTE SONG NUMBER 13 or 22",
                  "38": "Hannah_DeForest",
                  "39": "España ✈ Eurovision",
                  "40": "http://mundo-de-hechulera.tumblr.com/",
                  "41": "EuroFan desde el 2001.Jedward, #LalaLover #Saadista,Tooji,Alexander Ryback,DimaBilan,Sirusho,Loreen,Emmilie de Forest,Eva Boto y muchos mas",
                  "42": "none",
                  "43": "false",
                  "44": "false",
                  "45": "376",
                  "46": "2064",
                  "47": "1",
                  "48": "0",
                  "49": "10194",
                  "50": "2013-04-20 15:53:24",
                  "51": "7200.0",
                  "52": "Madrid",
                  "53": "false",
                  "54": "es",
                  "55": "false",
                  "56": "false",
                  "57": "1531BD",
                  "58": "http://pbs.twimg.com/profile_background_images/600692846866210816/eT9-DK7z.png",
                  "59": "https://pbs.twimg.com/profile_background_images/600692846866210816/eT9-DK7z.png",
                  "60": "false",
                  "61": "0084B4",
                  "62": "FFFFFF",
                  "63": "DDEEF6",
                  "64": "333333",
                  "65": "true",
                  "66": "http://pbs.twimg.com/profile_images/995336751018397696/sKeN5jmQ_normal.jpg",
                  "67": "https://pbs.twimg.com/profile_images/995336751018397696/sKeN5jmQ_normal.jpg",
                  "68": "https://pbs.twimg.com/profile_banners/1367380723/1525805888",
                  "69": "false",
                  "70": "false",
                  "71": "NaN",
                  "72": "NaN",
                  "73": "NaN",
                  "74": [],
                  "75": [
                    {
                      "name": "JuanRM",
                      "screen_name": "MrRostes",
                      "indices": "[3, 12]",
                      "id_str": "176489793",
                      "id": "176489793"
                    }
                  ],
                  "76": [],
                  "77": [
                    {
                      "expanded_url": null,
                      "source_status_id": 995430087267946500,
                      "indices": null,
                      "url": null,
                      "media_url": null,
                      "id_str": null,
                      "source_user_id": 176489793,
                      "id": 995429993349091300,
                      "media_url_https": null,
                      "source_user_id_str": null,
                      "sizes": null,
                      "type": null,
                      "source_status_id_str": null,
                      "display_url": null
                    }
                  ],
                  "78": "Eurocancion",
                  "79": [
                    67,
                    79
                  ]
                },
                {
                  "0": "2018-05-12 22:30:11",
                  "1": "995430968900000000",
                  "2": "995430968881278976",
                  "3": "#Eurovision A l'issue des votes professionnels, la France compte 114 points et se classe 8ème et l'Autriche est en tête avec 271 points...",
                  "4": "<a href=\"https://about.twitter.com/products/tweetdeck\" rel=\"nofollow\">TweetDeck</a>",
                  "5": "false",
                  "6": "NaN",
                  "7": "NaN",
                  "8": "NaN",
                  "9": "NaN",
                  "14": "NaN",
                  "16": "false",
                  "17": "0",
                  "18": "0",
                  "19": "0",
                  "20": "0",
                  "22": "false",
                  "23": "false",
                  "24": "NaN",
                  "25": "low",
                  "26": "fr",
                  "27": "2018-05-12 22:30:11.851",
                  "29": "NaN",
                  "30": "NaN",
                  "32": "NaN",
                  "35": "1367380723",
                  "36": "1367380723",
                  "37": "VOTE SONG NUMBER 13 or 22",
                  "38": "Hannah_DeForest",
                  "39": "España ✈ Eurovision",
                  "40": "http://mundo-de-hechulera.tumblr.com/",
                  "41": "EuroFan desde el 2001.Jedward, #LalaLover #Saadista,Tooji,Alexander Ryback,DimaBilan,Sirusho,Loreen,Emmilie de Forest,Eva Boto y muchos mas",
                  "42": "none",
                  "43": "false",
                  "44": "false",
                  "45": "376",
                  "46": "2064",
                  "47": "1",
                  "48": "0",
                  "49": "10205",
                  "50": "2013-04-20 15:53:24",
                  "51": "7200.0",
                  "52": "Madrid",
                  "53": "false",
                  "54": "es",
                  "55": "false",
                  "56": "false",
                  "57": "1531BD",
                  "58": "http://pbs.twimg.com/profile_background_images/600692846866210816/eT9-DK7z.png",
                  "59": "https://pbs.twimg.com/profile_background_images/600692846866210816/eT9-DK7z.png",
                  "60": "false",
                  "61": "0084B4",
                  "62": "FFFFFF",
                  "63": "DDEEF6",
                  "64": "333333",
                  "65": "true",
                  "66": "http://pbs.twimg.com/profile_images/995336751018397696/sKeN5jmQ_normal.jpg",
                  "67": "https://pbs.twimg.com/profile_images/995336751018397696/sKeN5jmQ_normal.jpg",
                  "68": "https://pbs.twimg.com/profile_banners/1367380723/1525805888",
                  "69": "false",
                  "70": "false",
                  "71": "NaN",
                  "72": "NaN",
                  "73": "NaN",
                  "74": [],
                  "75": [
                    {
                      "name": "Judith con candelabro 12/5🇭🇺🇩🇰🇦🇱",
                      "screen_name": "Judith_dCV",
                      "indices": "[3, 14]",
                      "id_str": "2317562718",
                      "id": "2317562718"
                    }
                  ],
                  "76": [],
                  "78": "Eurovision",
                  "79": [
                    48,
                    59
                  ]
                },
                {
                  "0": "2018-05-12 22:31:39",
                  "1": "995431338200000000",
                  "2": "995431338206474240",
                  "3": "#евровидение2018 #Eurovision\nА похуй, всё равно слушать буду то, что понравилось мне, а не этим жюри.",
                  "4": "<a href=\"http://twitter.com\" rel=\"nofollow\">Twitter Web Client</a>",
                  "5": "false",
                  "6": "NaN",
                  "7": "NaN",
                  "8": "NaN",
                  "9": "NaN",
                  "14": "NaN",
                  "16": "false",
                  "17": "0",
                  "18": "0",
                  "19": "0",
                  "20": "0",
                  "22": "false",
                  "23": "false",
                  "24": "NaN",
                  "25": "low",
                  "26": "ru",
                  "27": "2018-05-12 22:31:39.905",
                  "29": "NaN",
                  "30": "NaN",
                  "32": "NaN",
                  "35": "1367380723",
                  "36": "1367380723",
                  "37": "VOTE SONG NUMBER 13 or 22",
                  "38": "Hannah_DeForest",
                  "39": "España ✈ Eurovision",
                  "40": "http://mundo-de-hechulera.tumblr.com/",
                  "41": "EuroFan desde el 2001.Jedward, #LalaLover #Saadista,Tooji,Alexander Ryback,DimaBilan,Sirusho,Loreen,Emmilie de Forest,Eva Boto y muchos mas",
                  "42": "none",
                  "43": "false",
                  "44": "false",
                  "45": "376",
                  "46": "2064",
                  "47": "1",
                  "48": "0",
                  "49": "10225",
                  "50": "2013-04-20 15:53:24",
                  "51": "7200.0",
                  "52": "Madrid",
                  "53": "false",
                  "54": "es",
                  "55": "false",
                  "56": "false",
                  "57": "1531BD",
                  "58": "http://pbs.twimg.com/profile_background_images/600692846866210816/eT9-DK7z.png",
                  "59": "https://pbs.twimg.com/profile_background_images/600692846866210816/eT9-DK7z.png",
                  "60": "false",
                  "61": "0084B4",
                  "62": "FFFFFF",
                  "63": "DDEEF6",
                  "64": "333333",
                  "65": "true",
                  "66": "http://pbs.twimg.com/profile_images/995336751018397696/sKeN5jmQ_normal.jpg",
                  "67": "https://pbs.twimg.com/profile_images/995336751018397696/sKeN5jmQ_normal.jpg",
                  "68": "https://pbs.twimg.com/profile_banners/1367380723/1525805888",
                  "69": "false",
                  "70": "false",
                  "71": "NaN",
                  "72": "NaN",
                  "73": "NaN",
                  "74": [],
                  "75": [
                    {
                      "name": "Sugar #02 🇪🇸",
                      "screen_name": "Sugarcriminal",
                      "indices": "[3, 17]",
                      "id_str": "604714324",
                      "id": "604714324"
                    }
                  ],
                  "76": [],
                  "78": "Eurovision",
                  "79": [
                    37,
                    48
                  ]
                },
                {
                  "0": "2018-05-12 22:32:17",
                  "1": "995431496400000000",
                  "2": "995431496449183744",
                  "3": "RT @______Angelica_: Praticamente Malta ci ha votato perché ci vota tutti gli anni, l'Albania per Ermal e la Serbia e Cipro probabilmente p…",
                  "4": "<a href=\"http://twitter.com/download/iphone\" rel=\"nofollow\">Twitter for iPhone</a>",
                  "5": "false",
                  "6": "NaN",
                  "7": "NaN",
                  "8": "NaN",
                  "9": "NaN",
                  "14": "NaN",
                  "15": {
                    "coordinates": null,
                    "retweeted": "false",
                    "source": "<a href=\"http://twitter.com/download/android\" rel=\"nofollow\">Twitter for Android</a>",
                    "entities": "{urls=[{expanded_url=https://twitter.com/i/web/status/995428096449875969, display_url=twitter.com/i/web/status/9…, indices=[117, 140], url=https://t.co/IUElpxXpEH}], hashtags=[], user_mentions=[], symbols=[]}",
                    "reply_count": "2",
                    "favorite_count": "98",
                    "in_reply_to_status_id_str": null,
                    "geo": null,
                    "id_str": "995428096449875969",
                    "in_reply_to_user_id": null,
                    "truncated": "true",
                    "text": "Praticamente Malta ci ha votato perché ci vota tutti gli anni, l'Albania per Ermal e la Serbia e Cipro probabilment… https://t.co/IUElpxXpEH",
                    "retweet_count": "29",
                    "extended_tweet": "{display_text_range=[0, 164], entities={urls=[], hashtags=[{indices=[144, 155], text=Eurovision}, {indices=[157, 164], text=ESCita}], user_mentions=[], symbols=[]}, full_text=Praticamente Malta ci ha votato perché ci vota tutti gli anni, l'Albania per Ermal e la Serbia e Cipro probabilmente perché gli facevamo pena. \n#Eurovision \n#ESCita}",
                    "id": "995428096449875969",
                    "in_reply_to_status_id": null,
                    "filter_level": "low",
                    "created_at": "Sat May 12 22:18:47 +0000 2018",
                    "place": "{country=Italia, country_code=IT, full_name=Latina, Lazio, bounding_box={coordinates=[[[12.720175, 41.383391], [12.720175, 41.561982], [13.024795, 41.561982], [13.024795, 41.383391]]], type=Polygon}, place_type=city, name=Latina, attributes={}, id=9db11f5cf3246701, url=https://api.twitter.com/1.1/geo/id/9db11f5cf3246701.json}",
                    "favorited": "false",
                    "lang": "it",
                    "contributors": null,
                    "in_reply_to_screen_name": null,
                    "is_quote_status": "false",
                    "in_reply_to_user_id_str": null,
                    "user": "{utc_offset=null, friends_count=910, profile_image_url_https=https://pbs.twimg.com/profile_images/993214420473073666/JeySiPxb_normal.jpg, profile_background_image_url=http://abs.twimg.com/images/themes/theme1/bg.png, listed_count=13, default_profile_image=false, favourites_count=15683, is_translator=false, created_at=Fri May 15 18:45:05 +0000 2015, description=Nella vita mangio, dormo e guardo Grey's Anatomy. Quando capita studio anche., profile_background_image_url_https=https://abs.twimg.com/images/themes/theme1/bg.png, protected=false, screen_name=______Angelica_, profile_link_color=1DA1F2, id_str=3257590131, translator_type=none, profile_background_color=C0DEED, geo_enabled=true, id=3257590131, lang=it, profile_sidebar_border_color=C0DEED, profile_text_color=333333, verified=false, profile_image_url=http://pbs.twimg.com/profile_images/993214420473073666/JeySiPxb_normal.jpg, time_zone=null, contributors_enabled=false, url=https://twitter.com/______Angelica_/status/782553463326707712, profile_banner_url=https://pbs.twimg.com/profile_banners/3257590131/1525464127, profile_background_tile=false, follow_request_sent=null, statuses_count=26376, following=null, default_profile=true, profile_use_background_image=true, followers_count=1244, name=Angelica🍔🍟🍕, profile_sidebar_fill_color=DDEEF6, location=Latina, Lazio, notifications=null}",
                    "quote_count": "0"
                  },
                  "16": "false",
                  "17": "0",
                  "18": "0",
                  "19": "0",
                  "20": "0",
                  "22": "false",
                  "23": "false",
                  "24": "NaN",
                  "25": "low",
                  "26": "it",
                  "27": "2018-05-12 22:32:17.633",
                  "29": "NaN",
                  "30": "NaN",
                  "32": "NaN",
                  "35": "1367380723",
                  "36": "1367380723",
                  "37": "VOTE SONG NUMBER 13 or 22",
                  "38": "Hannah_DeForest",
                  "39": "España ✈ Eurovision",
                  "40": "http://mundo-de-hechulera.tumblr.com/",
                  "41": "EuroFan desde el 2001.Jedward, #LalaLover #Saadista,Tooji,Alexander Ryback,DimaBilan,Sirusho,Loreen,Emmilie de Forest,Eva Boto y muchos mas",
                  "42": "none",
                  "43": "false",
                  "44": "false",
                  "45": "376",
                  "46": "2064",
                  "47": "1",
                  "48": "0",
                  "49": "10232",
                  "50": "2013-04-20 15:53:24",
                  "51": "7200.0",
                  "52": "Madrid",
                  "53": "false",
                  "54": "es",
                  "55": "false",
                  "56": "false",
                  "57": "1531BD",
                  "58": "http://pbs.twimg.com/profile_background_images/600692846866210816/eT9-DK7z.png",
                  "59": "https://pbs.twimg.com/profile_background_images/600692846866210816/eT9-DK7z.png",
                  "60": "false",
                  "61": "0084B4",
                  "62": "FFFFFF",
                  "63": "DDEEF6",
                  "64": "333333",
                  "65": "true",
                  "66": "http://pbs.twimg.com/profile_images/995336751018397696/sKeN5jmQ_normal.jpg",
                  "67": "https://pbs.twimg.com/profile_images/995336751018397696/sKeN5jmQ_normal.jpg",
                  "68": "https://pbs.twimg.com/profile_banners/1367380723/1525805888",
                  "69": "false",
                  "70": "false",
                  "71": "NaN",
                  "72": "NaN",
                  "73": "NaN",
                  "74": [],
                  "75": [
                    {
                      "name": "kian",
                      "screen_name": "traekxn",
                      "indices": "[3, 11]",
                      "id_str": "585943033",
                      "id": "585943033"
                    }
                  ],
                  "76": [],
                  "78": "EUROVISION",
                  "79": [
                    102,
                    113
                  ]
                },
                {
                  "0": "2018-05-12 22:32:20",
                  "1": "995431509500000000",
                  "2": "995431509522894848",
                  "3": "RT @YukoNamakemono: Rien que pour cette pose, la Hongrie mérite la victoire ! 🇭🇺\n#Eurovision #Hongrie #DragonBall https://t.co/JYpAwrPzqI",
                  "4": "<a href=\"http://twitter.com/download/android\" rel=\"nofollow\">Twitter for Android</a>",
                  "5": "false",
                  "6": "NaN",
                  "7": "NaN",
                  "8": "NaN",
                  "9": "NaN",
                  "14": "NaN",
                  "15": {
                    "coordinates": null,
                    "retweeted": "false",
                    "source": "<a href=\"http://twitter.com\" rel=\"nofollow\">Twitter Web Client</a>",
                    "entities": "{urls=[], media=[{display_url=pic.twitter.com/JYpAwrPzqI, indices=[94, 117], sizes={small={h=680, resize=fit, w=610}, medium={h=802, resize=fit, w=720}, large={h=802, resize=fit, w=720}, thumb={h=150, resize=crop, w=150}}, id_str=995417743959691265, expanded_url=https://twitter.com/YukoNamakemono/status/995417755078873094/photo/1, media_url_https=https://pbs.twimg.com/media/DdBvKgfWkAEiZLl.jpg, id=995417743959691265, type=photo, media_url=http://pbs.twimg.com/media/DdBvKgfWkAEiZLl.jpg, url=https://t.co/JYpAwrPzqI}], hashtags=[{indices=[61, 72], text=Eurovision}, {indices=[73, 81], text=Hongrie}, {indices=[82, 93], text=DragonBall}], user_mentions=[], symbols=[]}",
                    "reply_count": "6",
                    "display_text_range": "[0, 93]",
                    "favorite_count": "198",
                    "in_reply_to_status_id_str": null,
                    "geo": null,
                    "id_str": "995417755078873094",
                    "in_reply_to_user_id": null,
                    "truncated": "false",
                    "text": "Rien que pour cette pose, la Hongrie mérite la victoire ! 🇭🇺\n#Eurovision #Hongrie #DragonBall https://t.co/JYpAwrPzqI",
                    "retweet_count": "122",
                    "id": "995417755078873094",
                    "in_reply_to_status_id": null,
                    "possibly_sensitive": "false",
                    "filter_level": "low",
                    "created_at": "Sat May 12 21:37:41 +0000 2018",
                    "place": null,
                    "favorited": "false",
                    "lang": "fr",
                    "contributors": null,
                    "in_reply_to_screen_name": null,
                    "is_quote_status": "false",
                    "in_reply_to_user_id_str": null,
                    "user": "{utc_offset=7200, friends_count=415, profile_image_url_https=https://pbs.twimg.com/profile_images/789236809863688193/quPdrbHo_normal.jpg, profile_background_image_url=http://pbs.twimg.com/profile_background_images/651910611761164288/5EHVIc3x.jpg, listed_count=3, default_profile_image=false, favourites_count=668, is_translator=false, created_at=Fri Aug 23 12:29:36 +0000 2013, description=Ex-Présidente de Pink Ward (pour la mixité dans les jeux vidéos) | Main Support #LoL S01 |  #Otaku #Panda #Japan #Evangelion, profile_background_image_url_https=https://pbs.twimg.com/profile_background_images/651910611761164288/5EHVIc3x.jpg, protected=false, screen_name=YukoNamakemono, profile_link_color=FF8F0C, id_str=1693742317, translator_type=none, profile_background_color=DD2E44, geo_enabled=false, id=1693742317, lang=fr, profile_sidebar_border_color=FFFFFF, profile_text_color=333333, verified=false, profile_image_url=http://pbs.twimg.com/profile_images/789236809863688193/quPdrbHo_normal.jpg, time_zone=Amsterdam, contributors_enabled=false, url=https://www.facebook.com/YukoNamakemono, profile_banner_url=https://pbs.twimg.com/profile_banners/1693742317/1520818660, profile_background_tile=true, follow_request_sent=null, statuses_count=1476, following=null, default_profile=false, profile_use_background_image=true, followers_count=235, name=Nama, profile_sidebar_fill_color=DDEEF6, location=Belgium, notifications=null}",
                    "extended_entities": "{media=[{display_url=pic.twitter.com/JYpAwrPzqI, indices=[94, 117], sizes={small={h=680, resize=fit, w=610}, medium={h=802, resize=fit, w=720}, large={h=802, resize=fit, w=720}, thumb={h=150, resize=crop, w=150}}, id_str=995417743959691265, expanded_url=https://twitter.com/YukoNamakemono/status/995417755078873094/photo/1, media_url_https=https://pbs.twimg.com/media/DdBvKgfWkAEiZLl.jpg, id=995417743959691265, type=photo, media_url=http://pbs.twimg.com/media/DdBvKgfWkAEiZLl.jpg, url=https://t.co/JYpAwrPzqI}]}",
                    "quote_count": "5"
                  },
                  "16": "false",
                  "17": "0",
                  "18": "0",
                  "19": "0",
                  "20": "0",
                  "21": {
                    "media": [
                      {
                        "expanded_url": null,
                        "source_status_id": 995417755078873100,
                        "indices": null,
                        "url": null,
                        "media_url": null,
                        "id_str": null,
                        "source_user_id": 1693742317,
                        "id": 995417743959691300,
                        "media_url_https": null,
                        "source_user_id_str": null,
                        "sizes": null,
                        "type": null,
                        "source_status_id_str": null,
                        "display_url": null
                      }
                    ]
                  },
                  "22": "false",
                  "23": "false",
                  "24": "0.0",
                  "25": "low",
                  "26": "fr",
                  "27": "2018-05-12 22:32:20.75",
                  "29": "NaN",
                  "30": "NaN",
                  "32": "NaN",
                  "35": "1367380723",
                  "36": "1367380723",
                  "37": "VOTE SONG NUMBER 13 or 22",
                  "38": "Hannah_DeForest",
                  "39": "España ✈ Eurovision",
                  "40": "http://mundo-de-hechulera.tumblr.com/",
                  "41": "EuroFan desde el 2001.Jedward, #LalaLover #Saadista,Tooji,Alexander Ryback,DimaBilan,Sirusho,Loreen,Emmilie de Forest,Eva Boto y muchos mas",
                  "42": "none",
                  "43": "false",
                  "44": "false",
                  "45": "376",
                  "46": "2064",
                  "47": "1",
                  "48": "0",
                  "49": "10233",
                  "50": "2013-04-20 15:53:24",
                  "51": "7200.0",
                  "52": "Madrid",
                  "53": "false",
                  "54": "es",
                  "55": "false",
                  "56": "false",
                  "57": "1531BD",
                  "58": "http://pbs.twimg.com/profile_background_images/600692846866210816/eT9-DK7z.png",
                  "59": "https://pbs.twimg.com/profile_background_images/600692846866210816/eT9-DK7z.png",
                  "60": "false",
                  "61": "0084B4",
                  "62": "FFFFFF",
                  "63": "DDEEF6",
                  "64": "333333",
                  "65": "true",
                  "66": "http://pbs.twimg.com/profile_images/995336751018397696/sKeN5jmQ_normal.jpg",
                  "67": "https://pbs.twimg.com/profile_images/995336751018397696/sKeN5jmQ_normal.jpg",
                  "68": "https://pbs.twimg.com/profile_banners/1367380723/1525805888",
                  "69": "false",
                  "70": "false",
                  "71": "NaN",
                  "72": "NaN",
                  "73": "NaN",
                  "74": [],
                  "75": [
                    {
                      "name": "기다릴게 ♡",
                      "screen_name": "TaeYeonMoni",
                      "indices": "[3, 15]",
                      "id_str": "374651120",
                      "id": "374651120"
                    }
                  ],
                  "76": [],
                  "78": "Eurovision",
                  "79": [
                    81,
                    92
                  ]
                },
                {
                  "0": "2018-05-12 22:34:18",
                  "1": "995432004900000000",
                  "2": "995432004949815296",
                  "3": "#eurovisiongr\n#Eurovision2018\n#EUROVISION\n#eurovisionert\n#eurovisioncyp\n#foustanela\nSweden 21 βαθμοι στο κοινο αλλα οι επιτροπες 200+",
                  "4": "<a href=\"https://mobile.twitter.com\" rel=\"nofollow\">Twitter Lite</a>",
                  "5": "false",
                  "6": "NaN",
                  "7": "NaN",
                  "8": "NaN",
                  "9": "NaN",
                  "14": "NaN",
                  "16": "false",
                  "17": "0",
                  "18": "0",
                  "19": "0",
                  "20": "0",
                  "22": "false",
                  "23": "false",
                  "24": "NaN",
                  "25": "low",
                  "26": "el",
                  "27": "2018-05-12 22:34:18.869",
                  "29": "NaN",
                  "30": "NaN",
                  "32": "NaN",
                  "35": "1367380723",
                  "36": "1367380723",
                  "37": "VOTE SONG NUMBER 13 or 22",
                  "38": "Hannah_DeForest",
                  "39": "España ✈ Eurovision",
                  "40": "http://mundo-de-hechulera.tumblr.com/",
                  "41": "EuroFan desde el 2001.Jedward, #LalaLover #Saadista,Tooji,Alexander Ryback,DimaBilan,Sirusho,Loreen,Emmilie de Forest,Eva Boto y muchos mas",
                  "42": "none",
                  "43": "false",
                  "44": "false",
                  "45": "376",
                  "46": "2064",
                  "47": "1",
                  "48": "0",
                  "49": "10252",
                  "50": "2013-04-20 15:53:24",
                  "51": "7200.0",
                  "52": "Madrid",
                  "53": "false",
                  "54": "es",
                  "55": "false",
                  "56": "false",
                  "57": "1531BD",
                  "58": "http://pbs.twimg.com/profile_background_images/600692846866210816/eT9-DK7z.png",
                  "59": "https://pbs.twimg.com/profile_background_images/600692846866210816/eT9-DK7z.png",
                  "60": "false",
                  "61": "0084B4",
                  "62": "FFFFFF",
                  "63": "DDEEF6",
                  "64": "333333",
                  "65": "true",
                  "66": "http://pbs.twimg.com/profile_images/995336751018397696/sKeN5jmQ_normal.jpg",
                  "67": "https://pbs.twimg.com/profile_images/995336751018397696/sKeN5jmQ_normal.jpg",
                  "68": "https://pbs.twimg.com/profile_banners/1367380723/1525805888",
                  "69": "false",
                  "70": "false",
                  "71": "NaN",
                  "72": "NaN",
                  "73": "NaN",
                  "74": [],
                  "75": [
                    {
                      "name": "LuckyBoy",
                      "screen_name": "NandoScandalous",
                      "indices": "[3, 19]",
                      "id_str": "777498731256176640",
                      "id": "777498731256176640"
                    }
                  ],
                  "76": [],
                  "78": "Eurovision2018",
                  "79": [
                    50,
                    65
                  ]
                },
                {
                  "0": "2018-05-12 22:34:28",
                  "1": "995432046400000000",
                  "2": "995432046364450816",
                  "3": "RT @innocent: Australia are competing in #Eurovision tonight. In case you're confused, here’s how the European map looks now. https://t.co/…",
                  "4": "<a href=\"http://twitter.com/download/android\" rel=\"nofollow\">Twitter for Android</a>",
                  "5": "false",
                  "6": "NaN",
                  "7": "NaN",
                  "8": "NaN",
                  "9": "NaN",
                  "14": "NaN",
                  "15": {
                    "coordinates": null,
                    "retweeted": "false",
                    "source": "<a href=\"https://ads-api.twitter.com\" rel=\"nofollow\">Twitter Ads Composer</a>",
                    "entities": "{urls=[], media=[{display_url=pic.twitter.com/LjWTXcgbP8, indices=[112, 135], sizes={small={h=679, resize=fit, w=680}, medium={h=1000, resize=fit, w=1001}, large={h=1000, resize=fit, w=1001}, thumb={h=150, resize=crop, w=150}}, id_str=993814815004119041, expanded_url=https://twitter.com/innocent/status/995378079680876544/photo/1, media_url_https=https://pbs.twimg.com/media/Dcq9TwzXUAE02V0.jpg, id=993814815004119041, type=photo, media_url=http://pbs.twimg.com/media/Dcq9TwzXUAE02V0.jpg, url=https://t.co/LjWTXcgbP8}], hashtags=[{indices=[27, 38], text=Eurovision}], user_mentions=[], symbols=[]}",
                    "reply_count": "228",
                    "display_text_range": "[0, 111]",
                    "favorite_count": "9807",
                    "in_reply_to_status_id_str": null,
                    "geo": null,
                    "id_str": "995378079680876544",
                    "in_reply_to_user_id": null,
                    "truncated": "false",
                    "text": "Australia are competing in #Eurovision tonight. In case you're confused, here’s how the European map looks now. https://t.co/LjWTXcgbP8",
                    "retweet_count": "4340",
                    "id": "995378079680876544",
                    "in_reply_to_status_id": null,
                    "possibly_sensitive": "false",
                    "filter_level": "low",
                    "created_at": "Sat May 12 19:00:02 +0000 2018",
                    "place": null,
                    "favorited": "false",
                    "lang": "en",
                    "contributors": null,
                    "in_reply_to_screen_name": null,
                    "is_quote_status": "false",
                    "in_reply_to_user_id_str": null,
                    "user": "{utc_offset=3600, friends_count=31315, profile_image_url_https=https://pbs.twimg.com/profile_images/824891134832828416/QyrfQp8t_normal.jpg, profile_background_image_url=http://pbs.twimg.com/profile_background_images/419693315/TWITTER_background.jpg, listed_count=2166, default_profile_image=false, favourites_count=717, is_translator=false, created_at=Mon Mar 31 15:08:43 +0000 2008, description=Hello. We make healthy drinks and give 10% of our profits to charity., profile_background_image_url_https=https://pbs.twimg.com/profile_background_images/419693315/TWITTER_background.jpg, protected=false, screen_name=innocent, profile_link_color=990000, id_str=14266714, translator_type=none, profile_background_color=FFFFFF, geo_enabled=false, id=14266714, lang=en, profile_sidebar_border_color=999999, profile_text_color=000000, verified=true, profile_image_url=http://pbs.twimg.com/profile_images/824891134832828416/QyrfQp8t_normal.jpg, time_zone=London, contributors_enabled=false, url=http://innocentdrinks.co.uk, profile_banner_url=https://pbs.twimg.com/profile_banners/14266714/1525273859, profile_background_tile=false, follow_request_sent=null, statuses_count=106895, following=null, default_profile=false, profile_use_background_image=true, followers_count=289982, name=innocent drinks, profile_sidebar_fill_color=FFFFFF, location=london, notifications=null}",
                    "extended_entities": "{media=[{display_url=pic.twitter.com/LjWTXcgbP8, indices=[112, 135], sizes={small={h=679, resize=fit, w=680}, medium={h=1000, resize=fit, w=1001}, large={h=1000, resize=fit, w=1001}, thumb={h=150, resize=crop, w=150}}, id_str=993814815004119041, expanded_url=https://twitter.com/innocent/status/995378079680876544/photo/1, media_url_https=https://pbs.twimg.com/media/Dcq9TwzXUAE02V0.jpg, id=993814815004119041, type=photo, media_url=http://pbs.twimg.com/media/Dcq9TwzXUAE02V0.jpg, url=https://t.co/LjWTXcgbP8}]}",
                    "quote_count": "304"
                  },
                  "16": "false",
                  "17": "0",
                  "18": "0",
                  "19": "0",
                  "20": "0",
                  "22": "false",
                  "23": "false",
                  "24": "NaN",
                  "25": "low",
                  "26": "en",
                  "27": "2018-05-12 22:34:28.743",
                  "29": "NaN",
                  "30": "NaN",
                  "32": "NaN",
                  "35": "1367380723",
                  "36": "1367380723",
                  "37": "VOTE SONG NUMBER 13 or 22",
                  "38": "Hannah_DeForest",
                  "39": "España ✈ Eurovision",
                  "40": "http://mundo-de-hechulera.tumblr.com/",
                  "41": "EuroFan desde el 2001.Jedward, #LalaLover #Saadista,Tooji,Alexander Ryback,DimaBilan,Sirusho,Loreen,Emmilie de Forest,Eva Boto y muchos mas",
                  "42": "none",
                  "43": "false",
                  "44": "false",
                  "45": "376",
                  "46": "2064",
                  "47": "1",
                  "48": "0",
                  "49": "10255",
                  "50": "2013-04-20 15:53:24",
                  "51": "7200.0",
                  "52": "Madrid",
                  "53": "false",
                  "54": "es",
                  "55": "false",
                  "56": "false",
                  "57": "1531BD",
                  "58": "http://pbs.twimg.com/profile_background_images/600692846866210816/eT9-DK7z.png",
                  "59": "https://pbs.twimg.com/profile_background_images/600692846866210816/eT9-DK7z.png",
                  "60": "false",
                  "61": "0084B4",
                  "62": "FFFFFF",
                  "63": "DDEEF6",
                  "64": "333333",
                  "65": "true",
                  "66": "http://pbs.twimg.com/profile_images/995336751018397696/sKeN5jmQ_normal.jpg",
                  "67": "https://pbs.twimg.com/profile_images/995336751018397696/sKeN5jmQ_normal.jpg",
                  "68": "https://pbs.twimg.com/profile_banners/1367380723/1525805888",
                  "69": "false",
                  "70": "false",
                  "71": "NaN",
                  "72": "NaN",
                  "73": "NaN",
                  "74": [],
                  "75": [
                    {
                      "name": "Coronela #Lohacemosyyavemos",
                      "screen_name": "coronela_defog",
                      "indices": "[3, 18]",
                      "id_str": "253576082",
                      "id": "253576082"
                    }
                  ],
                  "76": [],
                  "78": "Eurovision",
                  "79": [
                    46,
                    57
                  ]
                },
                {
                  "0": "2018-05-12 22:35:08",
                  "1": "995432214699999872",
                  "2": "995432214744698880",
                  "3": "RT @jk_rowling: France ❤️ #Eurovision",
                  "4": "<a href=\"http://twitter.com/download/android\" rel=\"nofollow\">Twitter for Android</a>",
                  "5": "false",
                  "6": "NaN",
                  "7": "NaN",
                  "8": "NaN",
                  "9": "NaN",
                  "14": "NaN",
                  "15": {
                    "coordinates": null,
                    "retweeted": "false",
                    "source": "<a href=\"http://twitter.com\" rel=\"nofollow\">Twitter Web Client</a>",
                    "entities": "{urls=[], hashtags=[{indices=[10, 21], text=Eurovision}], user_mentions=[], symbols=[]}",
                    "reply_count": "156",
                    "favorite_count": "3754",
                    "in_reply_to_status_id_str": null,
                    "geo": null,
                    "id_str": "995427353231839232",
                    "in_reply_to_user_id": null,
                    "truncated": "false",
                    "text": "France ❤️ #Eurovision",
                    "retweet_count": "972",
                    "id": "995427353231839232",
                    "in_reply_to_status_id": null,
                    "filter_level": "low",
                    "created_at": "Sat May 12 22:15:49 +0000 2018",
                    "place": null,
                    "favorited": "false",
                    "lang": "fr",
                    "contributors": null,
                    "in_reply_to_screen_name": null,
                    "is_quote_status": "false",
                    "in_reply_to_user_id_str": null,
                    "user": "{utc_offset=3600, friends_count=592, profile_image_url_https=https://pbs.twimg.com/profile_images/995058508633661441/OA8LlNgy_normal.jpg, profile_background_image_url=http://pbs.twimg.com/profile_background_images/703701999540371458/D7Ra4NMs.jpg, listed_count=37551, default_profile_image=false, favourites_count=20420, is_translator=false, created_at=Mon Aug 03 13:23:45 +0000 2009, description=For contact details, see website (sorry, but too many DMs to read), profile_background_image_url_https=https://pbs.twimg.com/profile_background_images/703701999540371458/D7Ra4NMs.jpg, protected=false, screen_name=jk_rowling, profile_link_color=FF4C4C, id_str=62513246, translator_type=regular, profile_background_color=1A1B1F, geo_enabled=false, id=62513246, lang=en, profile_sidebar_border_color=000000, profile_text_color=000000, verified=true, profile_image_url=http://pbs.twimg.com/profile_images/995058508633661441/OA8LlNgy_normal.jpg, time_zone=London, contributors_enabled=false, url=http://www.jkrowling.com, profile_banner_url=https://pbs.twimg.com/profile_banners/62513246/1526075554, profile_background_tile=true, follow_request_sent=null, statuses_count=10130, following=null, default_profile=false, profile_use_background_image=true, followers_count=14440832, name=J.K. Rowling, profile_sidebar_fill_color=000000, location=Scotland, notifications=null}",
                    "quote_count": "104"
                  },
                  "16": "false",
                  "17": "0",
                  "18": "0",
                  "19": "0",
                  "20": "0",
                  "22": "false",
                  "23": "false",
                  "24": "NaN",
                  "25": "low",
                  "26": "fr",
                  "27": "2018-05-12 22:35:08.888",
                  "29": "NaN",
                  "30": "NaN",
                  "32": "NaN",
                  "35": "1367380723",
                  "36": "1367380723",
                  "37": "VOTE SONG NUMBER 13 or 22",
                  "38": "Hannah_DeForest",
                  "39": "España ✈ Eurovision",
                  "40": "http://mundo-de-hechulera.tumblr.com/",
                  "41": "EuroFan desde el 2001.Jedward, #LalaLover #Saadista,Tooji,Alexander Ryback,DimaBilan,Sirusho,Loreen,Emmilie de Forest,Eva Boto y muchos mas",
                  "42": "none",
                  "43": "false",
                  "44": "false",
                  "45": "376",
                  "46": "2064",
                  "47": "1",
                  "48": "0",
                  "49": "10262",
                  "50": "2013-04-20 15:53:24",
                  "51": "7200.0",
                  "52": "Madrid",
                  "53": "false",
                  "54": "es",
                  "55": "false",
                  "56": "false",
                  "57": "1531BD",
                  "58": "http://pbs.twimg.com/profile_background_images/600692846866210816/eT9-DK7z.png",
                  "59": "https://pbs.twimg.com/profile_background_images/600692846866210816/eT9-DK7z.png",
                  "60": "false",
                  "61": "0084B4",
                  "62": "FFFFFF",
                  "63": "DDEEF6",
                  "64": "333333",
                  "65": "true",
                  "66": "http://pbs.twimg.com/profile_images/995336751018397696/sKeN5jmQ_normal.jpg",
                  "67": "https://pbs.twimg.com/profile_images/995336751018397696/sKeN5jmQ_normal.jpg",
                  "68": "https://pbs.twimg.com/profile_banners/1367380723/1525805888",
                  "69": "false",
                  "70": "false",
                  "71": "NaN",
                  "72": "NaN",
                  "73": "NaN",
                  "74": [],
                  "75": [
                    {
                      "name": "MALBERT",
                      "screen_name": "ItsMalbert",
                      "indices": "[3, 14]",
                      "id_str": "124780917",
                      "id": "124780917"
                    }
                  ],
                  "76": [],
                  "77": [
                    {
                      "expanded_url": null,
                      "source_status_id": 995432103511822300,
                      "indices": null,
                      "url": null,
                      "media_url": null,
                      "id_str": null,
                      "source_user_id": 124780917,
                      "id": 995432097845338100,
                      "media_url_https": null,
                      "source_user_id_str": null,
                      "sizes": null,
                      "type": null,
                      "source_status_id_str": null,
                      "display_url": null
                    }
                  ],
                  "78": "eurovision",
                  "79": [
                    59,
                    70
                  ]
                },
                {
                  "0": "2018-05-12 22:35:13",
                  "1": "995432234900000000",
                  "2": "995432234902605824",
                  "3": "RT @lusilu0: EUROPA ESTAIS SORDOS O QUEEEE\n\n#eurovision",
                  "4": "<a href=\"http://twitter.com/download/android\" rel=\"nofollow\">Twitter for Android</a>",
                  "5": "false",
                  "6": "NaN",
                  "7": "NaN",
                  "8": "NaN",
                  "9": "NaN",
                  "14": "NaN",
                  "15": {
                    "coordinates": null,
                    "retweeted": "false",
                    "source": "<a href=\"http://twitter.com/download/iphone\" rel=\"nofollow\">Twitter for iPhone</a>",
                    "entities": "{urls=[], hashtags=[{indices=[31, 42], text=eurovision}], user_mentions=[], symbols=[]}",
                    "reply_count": "0",
                    "favorite_count": "13",
                    "in_reply_to_status_id_str": null,
                    "geo": null,
                    "id_str": "995430443548803077",
                    "in_reply_to_user_id": null,
                    "truncated": "false",
                    "text": "EUROPA ESTAIS SORDOS O QUEEEE\n\n#eurovision",
                    "retweet_count": "13",
                    "id": "995430443548803077",
                    "in_reply_to_status_id": null,
                    "filter_level": "low",
                    "created_at": "Sat May 12 22:28:06 +0000 2018",
                    "place": null,
                    "favorited": "false",
                    "lang": "pt",
                    "contributors": null,
                    "in_reply_to_screen_name": null,
                    "is_quote_status": "false",
                    "in_reply_to_user_id_str": null,
                    "user": "{utc_offset=-7200, friends_count=603, profile_image_url_https=https://pbs.twimg.com/profile_images/956350039772794881/vvgNAaYb_normal.jpg, profile_background_image_url=http://abs.twimg.com/images/themes/theme1/bg.png, listed_count=54, default_profile_image=false, favourites_count=177027, is_translator=false, created_at=Wed Jun 01 22:44:55 +0000 2011, description=OMG SHIPPO 💕, profile_background_image_url_https=https://abs.twimg.com/images/themes/theme1/bg.png, protected=false, screen_name=lusilu0, profile_link_color=1DA1F2, id_str=309334126, translator_type=none, profile_background_color=C0DEED, geo_enabled=true, id=309334126, lang=es, profile_sidebar_border_color=C0DEED, profile_text_color=333333, verified=false, profile_image_url=http://pbs.twimg.com/profile_images/956350039772794881/vvgNAaYb_normal.jpg, time_zone=Greenland, contributors_enabled=false, url=null, profile_banner_url=https://pbs.twimg.com/profile_banners/309334126/1521063643, profile_background_tile=false, follow_request_sent=null, statuses_count=186557, following=null, default_profile=true, profile_use_background_image=true, followers_count=4969, name=Lus ❣️, profile_sidebar_fill_color=DDEEF6, location=Las nubes, notifications=null}",
                    "quote_count": "0"
                  },
                  "16": "false",
                  "17": "0",
                  "18": "0",
                  "19": "0",
                  "20": "0",
                  "22": "false",
                  "23": "false",
                  "24": "NaN",
                  "25": "low",
                  "26": "pt",
                  "27": "2018-05-12 22:35:13.694",
                  "29": "NaN",
                  "30": "NaN",
                  "32": "NaN",
                  "35": "1367380723",
                  "36": "1367380723",
                  "37": "VOTE SONG NUMBER 13 or 22",
                  "38": "Hannah_DeForest",
                  "39": "España ✈ Eurovision",
                  "40": "http://mundo-de-hechulera.tumblr.com/",
                  "41": "EuroFan desde el 2001.Jedward, #LalaLover #Saadista,Tooji,Alexander Ryback,DimaBilan,Sirusho,Loreen,Emmilie de Forest,Eva Boto y muchos mas",
                  "42": "none",
                  "43": "false",
                  "44": "false",
                  "45": "376",
                  "46": "2064",
                  "47": "1",
                  "48": "0",
                  "49": "10263",
                  "50": "2013-04-20 15:53:24",
                  "51": "7200.0",
                  "52": "Madrid",
                  "53": "false",
                  "54": "es",
                  "55": "false",
                  "56": "false",
                  "57": "1531BD",
                  "58": "http://pbs.twimg.com/profile_background_images/600692846866210816/eT9-DK7z.png",
                  "59": "https://pbs.twimg.com/profile_background_images/600692846866210816/eT9-DK7z.png",
                  "60": "false",
                  "61": "0084B4",
                  "62": "FFFFFF",
                  "63": "DDEEF6",
                  "64": "333333",
                  "65": "true",
                  "66": "http://pbs.twimg.com/profile_images/995336751018397696/sKeN5jmQ_normal.jpg",
                  "67": "https://pbs.twimg.com/profile_images/995336751018397696/sKeN5jmQ_normal.jpg",
                  "68": "https://pbs.twimg.com/profile_banners/1367380723/1525805888",
                  "69": "false",
                  "70": "false",
                  "71": "NaN",
                  "72": "NaN",
                  "73": "NaN",
                  "74": [],
                  "75": [
                    {
                      "name": "V. Cadaverini",
                      "screen_name": "East_",
                      "indices": "[3, 9]",
                      "id_str": "51203748",
                      "id": "51203748"
                    }
                  ],
                  "76": [],
                  "77": [
                    {
                      "expanded_url": null,
                      "source_status_id": 995432194117111800,
                      "indices": null,
                      "url": null,
                      "media_url": null,
                      "id_str": null,
                      "source_user_id": 51203748,
                      "id": 995432187725058000,
                      "media_url_https": null,
                      "source_user_id_str": null,
                      "sizes": null,
                      "type": null,
                      "source_status_id_str": null,
                      "display_url": null
                    }
                  ],
                  "78": "Eurovision",
                  "79": [
                    50,
                    61
                  ]
                },
                {
                  "0": "2018-05-12 22:36:26",
                  "1": "995432541900000000",
                  "2": "995432541942403072",
                  "3": "How the HEL is Sweden doing so well?? #eurovision",
                  "4": "<a href=\"https://about.twitter.com/products/tweetdeck\" rel=\"nofollow\">TweetDeck</a>",
                  "5": "false",
                  "6": "NaN",
                  "7": "NaN",
                  "8": "NaN",
                  "9": "NaN",
                  "14": "NaN",
                  "16": "false",
                  "17": "0",
                  "18": "0",
                  "19": "0",
                  "20": "0",
                  "22": "false",
                  "23": "false",
                  "24": "NaN",
                  "25": "low",
                  "26": "en",
                  "27": "2018-05-12 22:36:26.898",
                  "29": "NaN",
                  "30": "NaN",
                  "32": "NaN",
                  "35": "1367380723",
                  "36": "1367380723",
                  "37": "VOTE SONG NUMBER 13 or 22",
                  "38": "Hannah_DeForest",
                  "39": "España ✈ Eurovision",
                  "40": "http://mundo-de-hechulera.tumblr.com/",
                  "41": "EuroFan desde el 2001.Jedward, #LalaLover #Saadista,Tooji,Alexander Ryback,DimaBilan,Sirusho,Loreen,Emmilie de Forest,Eva Boto y muchos mas",
                  "42": "none",
                  "43": "false",
                  "44": "false",
                  "45": "376",
                  "46": "2064",
                  "47": "1",
                  "48": "0",
                  "49": "10276",
                  "50": "2013-04-20 15:53:24",
                  "51": "7200.0",
                  "52": "Madrid",
                  "53": "false",
                  "54": "es",
                  "55": "false",
                  "56": "false",
                  "57": "1531BD",
                  "58": "http://pbs.twimg.com/profile_background_images/600692846866210816/eT9-DK7z.png",
                  "59": "https://pbs.twimg.com/profile_background_images/600692846866210816/eT9-DK7z.png",
                  "60": "false",
                  "61": "0084B4",
                  "62": "FFFFFF",
                  "63": "DDEEF6",
                  "64": "333333",
                  "65": "true",
                  "66": "http://pbs.twimg.com/profile_images/995336751018397696/sKeN5jmQ_normal.jpg",
                  "67": "https://pbs.twimg.com/profile_images/995336751018397696/sKeN5jmQ_normal.jpg",
                  "68": "https://pbs.twimg.com/profile_banners/1367380723/1525805888",
                  "69": "false",
                  "70": "false",
                  "71": "NaN",
                  "72": "NaN",
                  "73": "NaN",
                  "74": [],
                  "75": [
                    {
                      "name": "Beyond",
                      "screen_name": "ItsAlmudena",
                      "indices": "[3, 15]",
                      "id_str": "97953319",
                      "id": "97953319"
                    }
                  ],
                  "76": [],
                  "78": "eurovision",
                  "79": [
                    75,
                    86
                  ]
                },
                {
                  "0": "2018-05-12 22:36:59",
                  "1": "995432680699999872",
                  "2": "995432680669044736",
                  "3": "RT @innocent: Australia are competing in #Eurovision tonight. In case you're confused, here’s how the European map looks now. https://t.co/…",
                  "4": "<a href=\"http://twitter.com/download/iphone\" rel=\"nofollow\">Twitter for iPhone</a>",
                  "5": "false",
                  "6": "NaN",
                  "7": "NaN",
                  "8": "NaN",
                  "9": "NaN",
                  "14": "NaN",
                  "15": {
                    "coordinates": null,
                    "retweeted": "false",
                    "source": "<a href=\"https://ads-api.twitter.com\" rel=\"nofollow\">Twitter Ads Composer</a>",
                    "entities": "{urls=[], media=[{display_url=pic.twitter.com/LjWTXcgbP8, indices=[112, 135], sizes={small={h=679, resize=fit, w=680}, medium={h=1000, resize=fit, w=1001}, large={h=1000, resize=fit, w=1001}, thumb={h=150, resize=crop, w=150}}, id_str=993814815004119041, expanded_url=https://twitter.com/innocent/status/995378079680876544/photo/1, media_url_https=https://pbs.twimg.com/media/Dcq9TwzXUAE02V0.jpg, id=993814815004119041, type=photo, media_url=http://pbs.twimg.com/media/Dcq9TwzXUAE02V0.jpg, url=https://t.co/LjWTXcgbP8}], hashtags=[{indices=[27, 38], text=Eurovision}], user_mentions=[], symbols=[]}",
                    "reply_count": "228",
                    "display_text_range": "[0, 111]",
                    "favorite_count": "9846",
                    "in_reply_to_status_id_str": null,
                    "geo": null,
                    "id_str": "995378079680876544",
                    "in_reply_to_user_id": null,
                    "truncated": "false",
                    "text": "Australia are competing in #Eurovision tonight. In case you're confused, here’s how the European map looks now. https://t.co/LjWTXcgbP8",
                    "retweet_count": "4353",
                    "id": "995378079680876544",
                    "in_reply_to_status_id": null,
                    "possibly_sensitive": "false",
                    "filter_level": "low",
                    "created_at": "Sat May 12 19:00:02 +0000 2018",
                    "place": null,
                    "favorited": "false",
                    "lang": "en",
                    "contributors": null,
                    "in_reply_to_screen_name": null,
                    "is_quote_status": "false",
                    "in_reply_to_user_id_str": null,
                    "user": "{utc_offset=3600, friends_count=31315, profile_image_url_https=https://pbs.twimg.com/profile_images/824891134832828416/QyrfQp8t_normal.jpg, profile_background_image_url=http://pbs.twimg.com/profile_background_images/419693315/TWITTER_background.jpg, listed_count=2166, default_profile_image=false, favourites_count=717, is_translator=false, created_at=Mon Mar 31 15:08:43 +0000 2008, description=Hello. We make healthy drinks and give 10% of our profits to charity., profile_background_image_url_https=https://pbs.twimg.com/profile_background_images/419693315/TWITTER_background.jpg, protected=false, screen_name=innocent, profile_link_color=990000, id_str=14266714, translator_type=none, profile_background_color=FFFFFF, geo_enabled=false, id=14266714, lang=en, profile_sidebar_border_color=999999, profile_text_color=000000, verified=true, profile_image_url=http://pbs.twimg.com/profile_images/824891134832828416/QyrfQp8t_normal.jpg, time_zone=London, contributors_enabled=false, url=http://innocentdrinks.co.uk, profile_banner_url=https://pbs.twimg.com/profile_banners/14266714/1525273859, profile_background_tile=false, follow_request_sent=null, statuses_count=106895, following=null, default_profile=false, profile_use_background_image=true, followers_count=289982, name=innocent drinks, profile_sidebar_fill_color=FFFFFF, location=london, notifications=null}",
                    "extended_entities": "{media=[{display_url=pic.twitter.com/LjWTXcgbP8, indices=[112, 135], sizes={small={h=679, resize=fit, w=680}, medium={h=1000, resize=fit, w=1001}, large={h=1000, resize=fit, w=1001}, thumb={h=150, resize=crop, w=150}}, id_str=993814815004119041, expanded_url=https://twitter.com/innocent/status/995378079680876544/photo/1, media_url_https=https://pbs.twimg.com/media/Dcq9TwzXUAE02V0.jpg, id=993814815004119041, type=photo, media_url=http://pbs.twimg.com/media/Dcq9TwzXUAE02V0.jpg, url=https://t.co/LjWTXcgbP8}]}",
                    "quote_count": "304"
                  },
                  "16": "false",
                  "17": "0",
                  "18": "0",
                  "19": "0",
                  "20": "0",
                  "22": "false",
                  "23": "false",
                  "24": "NaN",
                  "25": "low",
                  "26": "en",
                  "27": "2018-05-12 22:36:59.973",
                  "29": "NaN",
                  "30": "NaN",
                  "32": "NaN",
                  "35": "1367380723",
                  "36": "1367380723",
                  "37": "VOTE SONG NUMBER 13 or 22",
                  "38": "Hannah_DeForest",
                  "39": "España ✈ Eurovision",
                  "40": "http://mundo-de-hechulera.tumblr.com/",
                  "41": "EuroFan desde el 2001.Jedward, #LalaLover #Saadista,Tooji,Alexander Ryback,DimaBilan,Sirusho,Loreen,Emmilie de Forest,Eva Boto y muchos mas",
                  "42": "none",
                  "43": "false",
                  "44": "false",
                  "45": "376",
                  "46": "2064",
                  "47": "1",
                  "48": "0",
                  "49": "10280",
                  "50": "2013-04-20 15:53:24",
                  "51": "7200.0",
                  "52": "Madrid",
                  "53": "false",
                  "54": "es",
                  "55": "false",
                  "56": "false",
                  "57": "1531BD",
                  "58": "http://pbs.twimg.com/profile_background_images/600692846866210816/eT9-DK7z.png",
                  "59": "https://pbs.twimg.com/profile_background_images/600692846866210816/eT9-DK7z.png",
                  "60": "false",
                  "61": "0084B4",
                  "62": "FFFFFF",
                  "63": "DDEEF6",
                  "64": "333333",
                  "65": "true",
                  "66": "http://pbs.twimg.com/profile_images/995336751018397696/sKeN5jmQ_normal.jpg",
                  "67": "https://pbs.twimg.com/profile_images/995336751018397696/sKeN5jmQ_normal.jpg",
                  "68": "https://pbs.twimg.com/profile_banners/1367380723/1525805888",
                  "69": "false",
                  "70": "false",
                  "71": "NaN",
                  "72": "NaN",
                  "73": "NaN",
                  "74": [],
                  "75": [
                    {
                      "name": "ɐɹnɐl 🇧🇬🇨🇾🇫🇮🇮🇱",
                      "screen_name": "LauraGrigori",
                      "indices": "[3, 16]",
                      "id_str": "2981698131",
                      "id": "2981698131"
                    }
                  ],
                  "76": [],
                  "78": "Eurovision",
                  "79": [
                    32,
                    43
                  ]
                },
                {
                  "0": "2018-05-12 22:37:13",
                  "1": "995432738200000128",
                  "2": "995432738185506816",
                  "3": "RT @_Lau02_: 🇫🇷QUEREMOS GANAR.\n🇨🇭QUEREMOS GANAR.\n🇦🇲QUEREMOS GANAR.\n🇬🇧QUEREMOS GANAR.\n🇳🇴QUEREMOS GANAR.\n🇸🇪QUEREMOS GANAR.\n🇪🇸DEJAD DE DARNOS…",
                  "4": "<a href=\"http://twitter.com/download/android\" rel=\"nofollow\">Twitter for Android</a>",
                  "5": "false",
                  "6": "NaN",
                  "7": "NaN",
                  "8": "NaN",
                  "9": "NaN",
                  "14": "NaN",
                  "15": {
                    "coordinates": null,
                    "retweeted": "false",
                    "source": "<a href=\"http://twitter.com/download/android\" rel=\"nofollow\">Twitter for Android</a>",
                    "entities": "{urls=[{expanded_url=https://twitter.com/i/web/status/995430079982456832, display_url=twitter.com/i/web/status/9…, indices=[117, 140], url=https://t.co/xdSxnodrud}], hashtags=[], user_mentions=[], symbols=[]}",
                    "reply_count": "0",
                    "display_text_range": "[0, 140]",
                    "favorite_count": "58",
                    "in_reply_to_status_id_str": null,
                    "geo": null,
                    "id_str": "995430079982456832",
                    "in_reply_to_user_id": null,
                    "truncated": "true",
                    "text": "🇫🇷QUEREMOS GANAR.\n🇨🇭QUEREMOS GANAR.\n🇦🇲QUEREMOS GANAR.\n🇬🇧QUEREMOS GANAR.\n🇳🇴QUEREMOS GANAR.\n🇸🇪QUEREMOS GANAR.\n🇪🇸DEJAD… https://t.co/xdSxnodrud",
                    "retweet_count": "59",
                    "extended_tweet": "{extended_entities={media=[{display_url=pic.twitter.com/CyZXp6QZDb, indices=[180, 203], sizes={small={h=566, resize=fit, w=680}, medium={h=999, resize=fit, w=1200}, large={h=1199, resize=fit, w=1440}, thumb={h=150, resize=crop, w=150}}, id_str=995430057085726720, expanded_url=https://twitter.com/_Lau02_/status/995430079982456832/photo/1, media_url_https=https://pbs.twimg.com/media/DdB6XOdXcAAHpYm.jpg, id=995430057085726720, type=photo, media_url=http://pbs.twimg.com/media/DdB6XOdXcAAHpYm.jpg, url=https://t.co/CyZXp6QZDb}]}, display_text_range=[0, 179], entities={urls=[], media=[{display_url=pic.twitter.com/CyZXp6QZDb, indices=[180, 203], sizes={small={h=566, resize=fit, w=680}, medium={h=999, resize=fit, w=1200}, large={h=1199, resize=fit, w=1440}, thumb={h=150, resize=crop, w=150}}, id_str=995430057085726720, expanded_url=https://twitter.com/_Lau02_/status/995430079982456832/photo/1, media_url_https=https://pbs.twimg.com/media/DdB6XOdXcAAHpYm.jpg, id=995430057085726720, type=photo, media_url=http://pbs.twimg.com/media/DdB6XOdXcAAHpYm.jpg, url=https://t.co/CyZXp6QZDb}], hashtags=[{indices=[135, 146], text=Eurovision}, {indices=[147, 162], text=Eurovision2018}, {indices=[163, 179], text=FinalEurovision}], user_mentions=[], symbols=[]}, full_text=🇫🇷QUEREMOS GANAR.\n🇨🇭QUEREMOS GANAR.\n🇦🇲QUEREMOS GANAR.\n🇬🇧QUEREMOS GANAR.\n🇳🇴QUEREMOS GANAR.\n🇸🇪QUEREMOS GANAR.\n🇪🇸DEJAD DE DARNOS PUNTOS.\n\n#Eurovision #Eurovision2018 #FinalEurovision https://t.co/CyZXp6QZDb}",
                    "id": "995430079982456832",
                    "in_reply_to_status_id": null,
                    "possibly_sensitive": "false",
                    "filter_level": "low",
                    "created_at": "Sat May 12 22:26:39 +0000 2018",
                    "place": null,
                    "favorited": "false",
                    "lang": "es",
                    "contributors": null,
                    "in_reply_to_screen_name": null,
                    "is_quote_status": "false",
                    "in_reply_to_user_id_str": null,
                    "user": "{utc_offset=7200, friends_count=242, profile_image_url_https=https://pbs.twimg.com/profile_images/963130156759093248/Fr5yhgeN_normal.jpg, profile_background_image_url=http://pbs.twimg.com/profile_background_images/666345572601868288/6LFtOsVP.jpg, listed_count=33, default_profile_image=false, favourites_count=18628, is_translator=false, created_at=Sat Aug 28 21:03:27 +0000 2010, description=23.    💊🏥       ᴍᴀʀᴋᴇᴛɪɴɢ ʏ ᴘᴜʙʟɪᴄɪᴅᴀᴅ. 📊      ✐ ᴅɪʙᴜᴊᴀɴᴛᴇ ᴇɴ ᴛɪᴇᴍᴘᴏs ʟɪʙʀᴇs.                                          aмanтe de loѕ тaттooѕ y la мúѕιca.❤🌈✨, profile_background_image_url_https=https://pbs.twimg.com/profile_background_images/666345572601868288/6LFtOsVP.jpg, protected=false, screen_name=_Lau02_, profile_link_color=F5ABB5, id_str=184156975, translator_type=regular, profile_background_color=DD2E44, geo_enabled=true, id=184156975, lang=es, profile_sidebar_border_color=000000, profile_text_color=3E4415, verified=false, profile_image_url=http://pbs.twimg.com/profile_images/963130156759093248/Fr5yhgeN_normal.jpg, time_zone=Madrid, contributors_enabled=false, url=http://ask.fm/GuitarOfCandy, profile_banner_url=https://pbs.twimg.com/profile_banners/184156975/1524507275, profile_background_tile=true, follow_request_sent=null, statuses_count=34265, following=null, default_profile=false, profile_use_background_image=true, followers_count=1741, name=✖                                    🅳🅰🅵🅽🅴, profile_sidebar_fill_color=99CC33, location=✈           ᵉˣᵗʳᵉᵐᵃ ʸ ᵈᵘʳᵃ ❇, notifications=null}",
                    "quote_count": "1"
                  },
                  "16": "false",
                  "17": "0",
                  "18": "0",
                  "19": "0",
                  "20": "0",
                  "22": "false",
                  "23": "false",
                  "24": "NaN",
                  "25": "low",
                  "26": "es",
                  "27": "2018-05-12 22:37:13.686",
                  "29": "NaN",
                  "30": "NaN",
                  "32": "NaN",
                  "35": "1367380723",
                  "36": "1367380723",
                  "37": "VOTE SONG NUMBER 13 or 22",
                  "38": "Hannah_DeForest",
                  "39": "España ✈ Eurovision",
                  "40": "http://mundo-de-hechulera.tumblr.com/",
                  "41": "EuroFan desde el 2001.Jedward, #LalaLover #Saadista,Tooji,Alexander Ryback,DimaBilan,Sirusho,Loreen,Emmilie de Forest,Eva Boto y muchos mas",
                  "42": "none",
                  "43": "false",
                  "44": "false",
                  "45": "376",
                  "46": "2064",
                  "47": "1",
                  "48": "0",
                  "49": "10284",
                  "50": "2013-04-20 15:53:24",
                  "51": "7200.0",
                  "52": "Madrid",
                  "53": "false",
                  "54": "es",
                  "55": "false",
                  "56": "false",
                  "57": "1531BD",
                  "58": "http://pbs.twimg.com/profile_background_images/600692846866210816/eT9-DK7z.png",
                  "59": "https://pbs.twimg.com/profile_background_images/600692846866210816/eT9-DK7z.png",
                  "60": "false",
                  "61": "0084B4",
                  "62": "FFFFFF",
                  "63": "DDEEF6",
                  "64": "333333",
                  "65": "true",
                  "66": "http://pbs.twimg.com/profile_images/995336751018397696/sKeN5jmQ_normal.jpg",
                  "67": "https://pbs.twimg.com/profile_images/995336751018397696/sKeN5jmQ_normal.jpg",
                  "68": "https://pbs.twimg.com/profile_banners/1367380723/1525805888",
                  "69": "false",
                  "70": "false",
                  "71": "NaN",
                  "72": "NaN",
                  "73": "NaN",
                  "74": [],
                  "75": [
                    {
                      "name": "Emilio Doménech",
                      "screen_name": "Nanisimo",
                      "indices": "[3, 12]",
                      "id_str": "26839592",
                      "id": "26839592"
                    }
                  ],
                  "76": [],
                  "78": "CZE",
                  "79": [
                    4,
                    8
                  ]
                },
                {
                  "0": "2018-05-12 22:37:30",
                  "1": "995432810500000000",
                  "2": "995432810499452928",
                  "3": "#Eurovision es que no me jodas no se nota que esta amañado",
                  "4": "<a href=\"http://twitter.com/download/android\" rel=\"nofollow\">Twitter for Android</a>",
                  "5": "false",
                  "6": "NaN",
                  "7": "NaN",
                  "8": "NaN",
                  "9": "NaN",
                  "14": "NaN",
                  "16": "false",
                  "17": "0",
                  "18": "0",
                  "19": "0",
                  "20": "0",
                  "22": "false",
                  "23": "false",
                  "24": "NaN",
                  "25": "low",
                  "26": "es",
                  "27": "2018-05-12 22:37:30.927",
                  "29": "NaN",
                  "30": "NaN",
                  "32": "NaN",
                  "35": "1367380723",
                  "36": "1367380723",
                  "37": "VOTE SONG NUMBER 13 or 22",
                  "38": "Hannah_DeForest",
                  "39": "España ✈ Eurovision",
                  "40": "http://mundo-de-hechulera.tumblr.com/",
                  "41": "EuroFan desde el 2001.Jedward, #LalaLover #Saadista,Tooji,Alexander Ryback,DimaBilan,Sirusho,Loreen,Emmilie de Forest,Eva Boto y muchos mas",
                  "42": "none",
                  "43": "false",
                  "44": "false",
                  "45": "376",
                  "46": "2064",
                  "47": "1",
                  "48": "0",
                  "49": "10286",
                  "50": "2013-04-20 15:53:24",
                  "51": "7200.0",
                  "52": "Madrid",
                  "53": "false",
                  "54": "es",
                  "55": "false",
                  "56": "false",
                  "57": "1531BD",
                  "58": "http://pbs.twimg.com/profile_background_images/600692846866210816/eT9-DK7z.png",
                  "59": "https://pbs.twimg.com/profile_background_images/600692846866210816/eT9-DK7z.png",
                  "60": "false",
                  "61": "0084B4",
                  "62": "FFFFFF",
                  "63": "DDEEF6",
                  "64": "333333",
                  "65": "true",
                  "66": "http://pbs.twimg.com/profile_images/995336751018397696/sKeN5jmQ_normal.jpg",
                  "67": "https://pbs.twimg.com/profile_images/995336751018397696/sKeN5jmQ_normal.jpg",
                  "68": "https://pbs.twimg.com/profile_banners/1367380723/1525805888",
                  "69": "false",
                  "70": "false",
                  "71": "NaN",
                  "72": "NaN",
                  "73": "NaN",
                  "74": [],
                  "75": [
                    {
                      "name": "BuzzFeed España",
                      "screen_name": "BuzzFeedEspana",
                      "indices": "[3, 18]",
                      "id_str": "3260160764",
                      "id": "3260160764"
                    }
                  ],
                  "76": [],
                  "78": "Eurovision",
                  "79": [
                    55,
                    66
                  ]
                },
                {
                  "0": "2018-05-12 22:37:33",
                  "1": "995432822600000000",
                  "2": "995432822608486400",
                  "3": "Все, проиграли \n#Eurovision",
                  "4": "<a href=\"http://twitter.com/download/android\" rel=\"nofollow\">Twitter for Android</a>",
                  "5": "false",
                  "6": "NaN",
                  "7": "NaN",
                  "8": "NaN",
                  "9": "NaN",
                  "14": "NaN",
                  "16": "false",
                  "17": "0",
                  "18": "0",
                  "19": "0",
                  "20": "0",
                  "22": "false",
                  "23": "false",
                  "24": "NaN",
                  "25": "low",
                  "26": "ru",
                  "27": "2018-05-12 22:37:33.814",
                  "29": "NaN",
                  "30": "NaN",
                  "32": "NaN",
                  "35": "1367380723",
                  "36": "1367380723",
                  "37": "VOTE SONG NUMBER 13 or 22",
                  "38": "Hannah_DeForest",
                  "39": "España ✈ Eurovision",
                  "40": "http://mundo-de-hechulera.tumblr.com/",
                  "41": "EuroFan desde el 2001.Jedward, #LalaLover #Saadista,Tooji,Alexander Ryback,DimaBilan,Sirusho,Loreen,Emmilie de Forest,Eva Boto y muchos mas",
                  "42": "none",
                  "43": "false",
                  "44": "false",
                  "45": "376",
                  "46": "2064",
                  "47": "1",
                  "48": "0",
                  "49": "10287",
                  "50": "2013-04-20 15:53:24",
                  "51": "7200.0",
                  "52": "Madrid",
                  "53": "false",
                  "54": "es",
                  "55": "false",
                  "56": "false",
                  "57": "1531BD",
                  "58": "http://pbs.twimg.com/profile_background_images/600692846866210816/eT9-DK7z.png",
                  "59": "https://pbs.twimg.com/profile_background_images/600692846866210816/eT9-DK7z.png",
                  "60": "false",
                  "61": "0084B4",
                  "62": "FFFFFF",
                  "63": "DDEEF6",
                  "64": "333333",
                  "65": "true",
                  "66": "http://pbs.twimg.com/profile_images/995336751018397696/sKeN5jmQ_normal.jpg",
                  "67": "https://pbs.twimg.com/profile_images/995336751018397696/sKeN5jmQ_normal.jpg",
                  "68": "https://pbs.twimg.com/profile_banners/1367380723/1525805888",
                  "69": "false",
                  "70": "false",
                  "71": "NaN",
                  "72": "NaN",
                  "73": "NaN",
                  "74": [],
                  "75": [
                    {
                      "name": "Fijatetu Erestu",
                      "screen_name": "fijatetu_erestu",
                      "indices": "[3, 19]",
                      "id_str": "301628064",
                      "id": "301628064"
                    }
                  ],
                  "76": [],
                  "77": [
                    {
                      "expanded_url": null,
                      "source_status_id": 995432754253914100,
                      "indices": null,
                      "url": null,
                      "media_url": null,
                      "id_str": null,
                      "source_user_id": 301628064,
                      "id": 995432738718212100,
                      "media_url_https": null,
                      "source_user_id_str": null,
                      "sizes": null,
                      "type": null,
                      "source_status_id_str": null,
                      "display_url": null
                    }
                  ],
                  "78": "Eurovision",
                  "79": [
                    45,
                    56
                  ]
                },
                {
                  "0": "2018-05-12 22:37:37",
                  "1": "995432838800000000",
                  "2": "995432838781652992",
                  "3": "omg I AM ON EDGE #Eurovision",
                  "4": "<a href=\"http://twitter.com\" rel=\"nofollow\">Twitter Web Client</a>",
                  "5": "false",
                  "6": "NaN",
                  "7": "NaN",
                  "8": "NaN",
                  "9": "NaN",
                  "14": "NaN",
                  "16": "false",
                  "17": "0",
                  "18": "0",
                  "19": "0",
                  "20": "0",
                  "22": "false",
                  "23": "false",
                  "24": "NaN",
                  "25": "low",
                  "26": "en",
                  "27": "2018-05-12 22:37:37.67",
                  "29": "NaN",
                  "30": "NaN",
                  "32": "NaN",
                  "35": "1367380723",
                  "36": "1367380723",
                  "37": "VOTE SONG NUMBER 13 or 22",
                  "38": "Hannah_DeForest",
                  "39": "España ✈ Eurovision",
                  "40": "http://mundo-de-hechulera.tumblr.com/",
                  "41": "EuroFan desde el 2001.Jedward, #LalaLover #Saadista,Tooji,Alexander Ryback,DimaBilan,Sirusho,Loreen,Emmilie de Forest,Eva Boto y muchos mas",
                  "42": "none",
                  "43": "false",
                  "44": "false",
                  "45": "376",
                  "46": "2064",
                  "47": "1",
                  "48": "0",
                  "49": "10287",
                  "50": "2013-04-20 15:53:24",
                  "51": "7200.0",
                  "52": "Madrid",
                  "53": "false",
                  "54": "es",
                  "55": "false",
                  "56": "false",
                  "57": "1531BD",
                  "58": "http://pbs.twimg.com/profile_background_images/600692846866210816/eT9-DK7z.png",
                  "59": "https://pbs.twimg.com/profile_background_images/600692846866210816/eT9-DK7z.png",
                  "60": "false",
                  "61": "0084B4",
                  "62": "FFFFFF",
                  "63": "DDEEF6",
                  "64": "333333",
                  "65": "true",
                  "66": "http://pbs.twimg.com/profile_images/995336751018397696/sKeN5jmQ_normal.jpg",
                  "67": "https://pbs.twimg.com/profile_images/995336751018397696/sKeN5jmQ_normal.jpg",
                  "68": "https://pbs.twimg.com/profile_banners/1367380723/1525805888",
                  "69": "false",
                  "70": "false",
                  "71": "NaN",
                  "72": "NaN",
                  "73": "NaN",
                  "74": [],
                  "75": [
                    {
                      "name": "LuckyBoy",
                      "screen_name": "NandoScandalous",
                      "indices": "[3, 19]",
                      "id_str": "777498731256176640",
                      "id": "777498731256176640"
                    }
                  ],
                  "76": [],
                  "78": "Eurovision",
                  "79": [
                    58,
                    69
                  ]
                },
                {
                  "0": "2018-05-12 22:37:58",
                  "1": "995432927100000128",
                  "2": "995432927126269952",
                  "3": "RT @MonicaCarrillo: Necesito un tutorial para entender las votaciones. \n#Eurovision",
                  "4": "<a href=\"http://twitter.com/download/iphone\" rel=\"nofollow\">Twitter for iPhone</a>",
                  "5": "false",
                  "6": "NaN",
                  "7": "NaN",
                  "8": "NaN",
                  "9": "NaN",
                  "14": "NaN",
                  "15": {
                    "coordinates": null,
                    "retweeted": "false",
                    "source": "<a href=\"http://twitter.com/download/iphone\" rel=\"nofollow\">Twitter for iPhone</a>",
                    "entities": "{urls=[], hashtags=[{indices=[52, 63], text=Eurovision}], user_mentions=[], symbols=[]}",
                    "reply_count": "7",
                    "favorite_count": "195",
                    "in_reply_to_status_id_str": null,
                    "geo": null,
                    "id_str": "995432348283015169",
                    "in_reply_to_user_id": null,
                    "truncated": "false",
                    "text": "Necesito un tutorial para entender las votaciones. \n#Eurovision",
                    "retweet_count": "124",
                    "id": "995432348283015169",
                    "in_reply_to_status_id": null,
                    "filter_level": "low",
                    "created_at": "Sat May 12 22:35:40 +0000 2018",
                    "place": null,
                    "favorited": "false",
                    "lang": "es",
                    "contributors": null,
                    "in_reply_to_screen_name": null,
                    "is_quote_status": "false",
                    "in_reply_to_user_id_str": null,
                    "user": "{utc_offset=7200, friends_count=571, profile_image_url_https=https://pbs.twimg.com/profile_images/446065576574988288/ek4dC6uE_normal.jpeg, profile_background_image_url=http://abs.twimg.com/images/themes/theme1/bg.png, listed_count=2444, default_profile_image=false, favourites_count=6719, is_translator=false, created_at=Sun Sep 26 17:03:45 +0000 2010, description=Periodista. Presentadora de las #NoticiasFinDeSemanaA3 en Antena 3 #LaLuzDeCandela #OlvidéDecirteQuiero y #ElTiempoTodoLocura Instagram: monica_carrillo__, profile_background_image_url_https=https://abs.twimg.com/images/themes/theme1/bg.png, protected=false, screen_name=MonicaCarrillo, profile_link_color=1DA1F2, id_str=195415139, translator_type=none, profile_background_color=C0DEED, geo_enabled=false, id=195415139, lang=es, profile_sidebar_border_color=C0DEED, profile_text_color=333333, verified=true, profile_image_url=http://pbs.twimg.com/profile_images/446065576574988288/ek4dC6uE_normal.jpeg, time_zone=Belgrade, contributors_enabled=false, url=http://monicacarrillo.es, profile_banner_url=https://pbs.twimg.com/profile_banners/195415139/1485434237, profile_background_tile=false, follow_request_sent=null, statuses_count=19342, following=null, default_profile=true, profile_use_background_image=true, followers_count=473251, name=Mónica Carrillo, profile_sidebar_fill_color=DDEEF6, location=Madrid, España, notifications=null}",
                    "quote_count": "1"
                  },
                  "16": "false",
                  "17": "0",
                  "18": "0",
                  "19": "0",
                  "20": "0",
                  "22": "false",
                  "23": "false",
                  "24": "NaN",
                  "25": "low",
                  "26": "es",
                  "27": "2018-05-12 22:37:58.733",
                  "29": "NaN",
                  "30": "NaN",
                  "32": "NaN",
                  "35": "1367380723",
                  "36": "1367380723",
                  "37": "VOTE SONG NUMBER 13 or 22",
                  "38": "Hannah_DeForest",
                  "39": "España ✈ Eurovision",
                  "40": "http://mundo-de-hechulera.tumblr.com/",
                  "41": "EuroFan desde el 2001.Jedward, #LalaLover #Saadista,Tooji,Alexander Ryback,DimaBilan,Sirusho,Loreen,Emmilie de Forest,Eva Boto y muchos mas",
                  "42": "none",
                  "43": "false",
                  "44": "false",
                  "45": "376",
                  "46": "2064",
                  "47": "1",
                  "48": "0",
                  "49": "10290",
                  "50": "2013-04-20 15:53:24",
                  "51": "7200.0",
                  "52": "Madrid",
                  "53": "false",
                  "54": "es",
                  "55": "false",
                  "56": "false",
                  "57": "1531BD",
                  "58": "http://pbs.twimg.com/profile_background_images/600692846866210816/eT9-DK7z.png",
                  "59": "https://pbs.twimg.com/profile_background_images/600692846866210816/eT9-DK7z.png",
                  "60": "false",
                  "61": "0084B4",
                  "62": "FFFFFF",
                  "63": "DDEEF6",
                  "64": "333333",
                  "65": "true",
                  "66": "http://pbs.twimg.com/profile_images/995336751018397696/sKeN5jmQ_normal.jpg",
                  "67": "https://pbs.twimg.com/profile_images/995336751018397696/sKeN5jmQ_normal.jpg",
                  "68": "https://pbs.twimg.com/profile_banners/1367380723/1525805888",
                  "69": "false",
                  "70": "false",
                  "71": "NaN",
                  "72": "NaN",
                  "73": "NaN",
                  "74": [],
                  "75": [
                    {
                      "name": "🇸🇪🇨🇿🇮🇱 Ay que horror, Pablo. Buah. Lo siento",
                      "screen_name": "pablo_talifan",
                      "indices": "[3, 17]",
                      "id_str": "731830903035564032",
                      "id": "731830903035564032"
                    }
                  ],
                  "76": [],
                  "78": "FinalEurovisión",
                  "79": [
                    69,
                    85
                  ]
                },
                {
                  "0": "2018-05-12 22:38:50",
                  "1": "995433145100000000",
                  "2": "995433145091739648",
                  "3": "RT @MiiKeLMsT: Ucrania - 11 puntos\n\n-- Televoto --\n\nUcrania - 130 puntos \n\n#eurovision",
                  "4": "<a href=\"http://twitter.com/download/android\" rel=\"nofollow\">Twitter for Android</a>",
                  "5": "false",
                  "6": "NaN",
                  "7": "NaN",
                  "8": "NaN",
                  "9": "NaN",
                  "14": "NaN",
                  "15": {
                    "coordinates": null,
                    "retweeted": "false",
                    "source": "<a href=\"http://twitter.com/download/android\" rel=\"nofollow\">Twitter for Android</a>",
                    "entities": "{urls=[], hashtags=[{indices=[60, 71], text=eurovision}], user_mentions=[], symbols=[]}",
                    "reply_count": "3",
                    "favorite_count": "58",
                    "in_reply_to_status_id_str": null,
                    "geo": null,
                    "id_str": "995432734326738945",
                    "in_reply_to_user_id": null,
                    "truncated": "false",
                    "text": "Ucrania - 11 puntos\n\n-- Televoto --\n\nUcrania - 130 puntos \n\n#eurovision",
                    "retweet_count": "22",
                    "id": "995432734326738945",
                    "in_reply_to_status_id": null,
                    "filter_level": "low",
                    "created_at": "Sat May 12 22:37:12 +0000 2018",
                    "place": null,
                    "favorited": "false",
                    "lang": "es",
                    "contributors": null,
                    "in_reply_to_screen_name": null,
                    "is_quote_status": "false",
                    "in_reply_to_user_id_str": null,
                    "user": "{utc_offset=7200, friends_count=195, profile_image_url_https=https://pbs.twimg.com/profile_images/706620890348445697/NguK7Bo4_normal.jpg, profile_background_image_url=http://abs.twimg.com/images/themes/theme9/bg.gif, listed_count=52, default_profile_image=false, favourites_count=8929, is_translator=false, created_at=Thu Aug 11 12:20:55 +0000 2011, description=Madridista | Intentando crecer en este gran mundo de YouTube | +350K Subs |  Contacto: miikelmst1@gmail.com, profile_background_image_url_https=https://abs.twimg.com/images/themes/theme9/bg.gif, protected=false, screen_name=MiiKeLMsT, profile_link_color=2FC2EF, id_str=353010935, translator_type=none, profile_background_color=1A1B1F, geo_enabled=false, id=353010935, lang=es, profile_sidebar_border_color=181A1E, profile_text_color=666666, verified=false, profile_image_url=http://pbs.twimg.com/profile_images/706620890348445697/NguK7Bo4_normal.jpg, time_zone=Madrid, contributors_enabled=false, url=https://www.youtube.com/user/miikelmst, profile_banner_url=https://pbs.twimg.com/profile_banners/353010935/1496926004, profile_background_tile=false, follow_request_sent=null, statuses_count=24848, following=null, default_profile=false, profile_use_background_image=true, followers_count=118192, name=MiKeL, profile_sidebar_fill_color=252429, location=Madrid, notifications=null}",
                    "quote_count": "1"
                  },
                  "16": "false",
                  "17": "0",
                  "18": "0",
                  "19": "0",
                  "20": "0",
                  "22": "false",
                  "23": "false",
                  "24": "NaN",
                  "25": "low",
                  "26": "es",
                  "27": "2018-05-12 22:38:50.7",
                  "29": "NaN",
                  "30": "NaN",
                  "32": "NaN",
                  "35": "1367380723",
                  "36": "1367380723",
                  "37": "VOTE SONG NUMBER 13 or 22",
                  "38": "Hannah_DeForest",
                  "39": "España ✈ Eurovision",
                  "40": "http://mundo-de-hechulera.tumblr.com/",
                  "41": "EuroFan desde el 2001.Jedward, #LalaLover #Saadista,Tooji,Alexander Ryback,DimaBilan,Sirusho,Loreen,Emmilie de Forest,Eva Boto y muchos mas",
                  "42": "none",
                  "43": "false",
                  "44": "false",
                  "45": "376",
                  "46": "2065",
                  "47": "1",
                  "48": "0",
                  "49": "10298",
                  "50": "2013-04-20 15:53:24",
                  "51": "7200.0",
                  "52": "Madrid",
                  "53": "false",
                  "54": "es",
                  "55": "false",
                  "56": "false",
                  "57": "1531BD",
                  "58": "http://pbs.twimg.com/profile_background_images/600692846866210816/eT9-DK7z.png",
                  "59": "https://pbs.twimg.com/profile_background_images/600692846866210816/eT9-DK7z.png",
                  "60": "false",
                  "61": "0084B4",
                  "62": "FFFFFF",
                  "63": "DDEEF6",
                  "64": "333333",
                  "65": "true",
                  "66": "http://pbs.twimg.com/profile_images/995336751018397696/sKeN5jmQ_normal.jpg",
                  "67": "https://pbs.twimg.com/profile_images/995336751018397696/sKeN5jmQ_normal.jpg",
                  "68": "https://pbs.twimg.com/profile_banners/1367380723/1525805888",
                  "69": "false",
                  "70": "false",
                  "71": "NaN",
                  "72": "NaN",
                  "73": "NaN",
                  "74": [],
                  "75": [
                    {
                      "name": "Sergio T.",
                      "screen_name": "Serturjo",
                      "indices": "[3, 12]",
                      "id_str": "15133966",
                      "id": "15133966"
                    }
                  ],
                  "76": [],
                  "77": [
                    {
                      "expanded_url": null,
                      "source_status_id": 995433320119980000,
                      "indices": null,
                      "url": null,
                      "media_url": null,
                      "id_str": null,
                      "source_user_id": 15133966,
                      "id": 995433154013024300,
                      "media_url_https": null,
                      "source_user_id_str": null,
                      "sizes": null,
                      "type": null,
                      "source_status_id_str": null,
                      "display_url": null
                    }
                  ],
                  "78": "Eurovision",
                  "79": [
                    87,
                    98
                  ]
                }
              ],
              "schema": [
                {
                  "key": "0",
                  "name": "created_at",
                  "type": "timestamp"
                },
                {
                  "key": "1",
                  "name": "id",
                  "type": "bigint"
                },
                {
                  "key": "2",
                  "name": "id_str",
                  "type": "bigint"
                },
                {
                  "key": "3",
                  "name": "text",
                  "type": "string"
                },
                {
                  "key": "4",
                  "name": "source",
                  "type": "string"
                },
                {
                  "key": "5",
                  "name": "truncated",
                  "type": "boolean"
                },
                {
                  "key": "6",
                  "name": "in_reply_to_status_id",
                  "type": "double"
                },
                {
                  "key": "7",
                  "name": "in_reply_to_status_id_str",
                  "type": "double"
                },
                {
                  "key": "8",
                  "name": "in_reply_to_user_id",
                  "type": "double"
                },
                {
                  "key": "9",
                  "name": "in_reply_to_user_id_str",
                  "type": "double"
                },
                {
                  "key": "10",
                  "name": "in_reply_to_screen_name",
                  "type": "string"
                },
                {
                  "key": "11",
                  "name": "geo",
                  "type": "MapType(StringType,StringType,true)"
                },
                {
                  "key": "12",
                  "name": "coordinates",
                  "type": "MapType(StringType,StringType,true)"
                },
                {
                  "key": "13",
                  "name": "place",
                  "type": "MapType(StringType,StringType,true)"
                },
                {
                  "key": "14",
                  "name": "contributors",
                  "type": "double"
                },
                {
                  "key": "15",
                  "name": "retweeted_status",
                  "type": "MapType(StringType,StringType,true)"
                },
                {
                  "key": "16",
                  "name": "is_quote_status",
                  "type": "boolean"
                },
                {
                  "key": "17",
                  "name": "quote_count",
                  "type": "bigint"
                },
                {
                  "key": "18",
                  "name": "reply_count",
                  "type": "bigint"
                },
                {
                  "key": "19",
                  "name": "retweet_count",
                  "type": "bigint"
                },
                {
                  "key": "20",
                  "name": "favorite_count",
                  "type": "bigint"
                },
                {
                  "key": "21",
                  "name": "extended_entities",
                  "type": "MapType(StringType,ArrayType(MapType(StringType,LongType,true),true),true)"
                },
                {
                  "key": "22",
                  "name": "favorited",
                  "type": "boolean"
                },
                {
                  "key": "23",
                  "name": "retweeted",
                  "type": "boolean"
                },
                {
                  "key": "24",
                  "name": "possibly_sensitive",
                  "type": "double"
                },
                {
                  "key": "25",
                  "name": "filter_level",
                  "type": "string"
                },
                {
                  "key": "26",
                  "name": "lang",
                  "type": "string"
                },
                {
                  "key": "27",
                  "name": "timestamp_ms",
                  "type": "timestamp"
                },
                {
                  "key": "28",
                  "name": "display_text_range",
                  "type": "ArrayType(LongType,true)"
                },
                {
                  "key": "29",
                  "name": "quoted_status_id",
                  "type": "double"
                },
                {
                  "key": "30",
                  "name": "quoted_status_id_str",
                  "type": "double"
                },
                {
                  "key": "31",
                  "name": "quoted_status",
                  "type": "MapType(StringType,StringType,true)"
                },
                {
                  "key": "32",
                  "name": "limit",
                  "type": "double"
                },
                {
                  "key": "33",
                  "name": "extended_tweet",
                  "type": "MapType(StringType,StringType,true)"
                },
                {
                  "key": "34",
                  "name": "withheld_in_countries",
                  "type": "ArrayType(StringType,true)"
                },
                {
                  "key": "35",
                  "name": "user_id",
                  "type": "bigint"
                },
                {
                  "key": "36",
                  "name": "user_id_str",
                  "type": "bigint"
                },
                {
                  "key": "37",
                  "name": "user_name",
                  "type": "string"
                },
                {
                  "key": "38",
                  "name": "user_screen_name",
                  "type": "string"
                },
                {
                  "key": "39",
                  "name": "user_location",
                  "type": "string"
                },
                {
                  "key": "40",
                  "name": "user_url",
                  "type": "string"
                },
                {
                  "key": "41",
                  "name": "user_description",
                  "type": "string"
                },
                {
                  "key": "42",
                  "name": "user_translator_type",
                  "type": "string"
                },
                {
                  "key": "43",
                  "name": "user_protected",
                  "type": "boolean"
                },
                {
                  "key": "44",
                  "name": "user_verified",
                  "type": "boolean"
                },
                {
                  "key": "45",
                  "name": "user_followers_count",
                  "type": "bigint"
                },
                {
                  "key": "46",
                  "name": "user_friends_count",
                  "type": "bigint"
                },
                {
                  "key": "47",
                  "name": "user_listed_count",
                  "type": "bigint"
                },
                {
                  "key": "48",
                  "name": "user_favourites_count",
                  "type": "bigint"
                },
                {
                  "key": "49",
                  "name": "user_statuses_count",
                  "type": "bigint"
                },
                {
                  "key": "50",
                  "name": "user_created_at",
                  "type": "timestamp"
                },
                {
                  "key": "51",
                  "name": "user_utc_offset",
                  "type": "double"
                },
                {
                  "key": "52",
                  "name": "user_time_zone",
                  "type": "string"
                },
                {
                  "key": "53",
                  "name": "user_geo_enabled",
                  "type": "boolean"
                },
                {
                  "key": "54",
                  "name": "user_lang",
                  "type": "string"
                },
                {
                  "key": "55",
                  "name": "user_contributors_enabled",
                  "type": "boolean"
                },
                {
                  "key": "56",
                  "name": "user_is_translator",
                  "type": "boolean"
                },
                {
                  "key": "57",
                  "name": "user_profile_background_color",
                  "type": "string"
                },
                {
                  "key": "58",
                  "name": "user_profile_background_image_url",
                  "type": "string"
                },
                {
                  "key": "59",
                  "name": "user_profile_background_image_url_https",
                  "type": "string"
                },
                {
                  "key": "60",
                  "name": "user_profile_background_tile",
                  "type": "boolean"
                },
                {
                  "key": "61",
                  "name": "user_profile_link_color",
                  "type": "string"
                },
                {
                  "key": "62",
                  "name": "user_profile_sidebar_border_color",
                  "type": "string"
                },
                {
                  "key": "63",
                  "name": "user_profile_sidebar_fill_color",
                  "type": "string"
                },
                {
                  "key": "64",
                  "name": "user_profile_text_color",
                  "type": "string"
                },
                {
                  "key": "65",
                  "name": "user_profile_use_background_image",
                  "type": "boolean"
                },
                {
                  "key": "66",
                  "name": "user_profile_image_url",
                  "type": "string"
                },
                {
                  "key": "67",
                  "name": "user_profile_image_url_https",
                  "type": "string"
                },
                {
                  "key": "68",
                  "name": "user_profile_banner_url",
                  "type": "string"
                },
                {
                  "key": "69",
                  "name": "user_default_profile",
                  "type": "boolean"
                },
                {
                  "key": "70",
                  "name": "user_default_profile_image",
                  "type": "boolean"
                },
                {
                  "key": "71",
                  "name": "user_following",
                  "type": "double"
                },
                {
                  "key": "72",
                  "name": "user_follow_request_sent",
                  "type": "double"
                },
                {
                  "key": "73",
                  "name": "user_notifications",
                  "type": "double"
                },
                {
                  "key": "74",
                  "name": "entities_urls",
                  "type": "ArrayType(MapType(StringType,StringType,true),true)"
                },
                {
                  "key": "75",
                  "name": "entities_user_mentions",
                  "type": "ArrayType(MapType(StringType,StringType,true),true)"
                },
                {
                  "key": "76",
                  "name": "entities_symbols",
                  "type": "ArrayType(MapType(StringType,StringType,true),true)"
                },
                {
                  "key": "77",
                  "name": "entities_media",
                  "type": "ArrayType(MapType(StringType,LongType,true),true)"
                },
                {
                  "key": "78",
                  "name": "entities_hashtags_text",
                  "type": "string"
                },
                {
                  "key": "79",
                  "name": "entities_hashtags_indices",
                  "type": "ArrayType(LongType,true)"
                }
              ],
              "truncated": false
            },
            "isSummary": false,
            "language": "scala"
          },
          "persist_state": {
            "view": {
              "type": "details",
              "tableOptions": {},
              "chartOptions": {
                "chartType": "bar",
                "aggregationType": "sum",
                "categoryFieldKeys": [
                  "0"
                ],
                "seriesFieldKeys": [
                  "1"
                ],
                "isStacked": false
              }
            }
          }
        },
        "d71c820b-0036-4561-a2d4-1981228c07ea": {
          "type": "Synapse.DataFrame",
          "sync_state": {
            "table": {
              "rows": [
                {
                  "0": "2018-05-12 22:36:42",
                  "1": "995432609300000000",
                  "2": "995432609256796160",
                  "3": "@cynixy Sweden practically owns Eurovision.",
                  "4": "<a href=\"http://twitter.com/download/iphone\" rel=\"nofollow\">Twitter for iPhone</a>",
                  "5": "false",
                  "6": "9.954325419E17",
                  "7": "9.9543254194240307E17",
                  "8": "3.66222792E8",
                  "9": "3.66222792E8",
                  "10": "cynixy",
                  "14": "NaN",
                  "16": "false",
                  "17": "0",
                  "18": "0",
                  "19": "0",
                  "20": "0",
                  "22": "false",
                  "23": "false",
                  "24": "NaN",
                  "25": "low",
                  "26": "en",
                  "27": "2018-05-12 22:36:42.947",
                  "28": [
                    8,
                    43
                  ],
                  "29": "NaN",
                  "30": "NaN",
                  "32": "NaN",
                  "35": "944231108500000000",
                  "36": "944231108513816576",
                  "37": "Ann",
                  "38": "girlsalmightyx",
                  "39": "MITAM Tour",
                  "41": "Shit, maybe I miss you 1D",
                  "42": "none",
                  "43": "false",
                  "44": "false",
                  "45": "2274",
                  "46": "1759",
                  "47": "9",
                  "48": "4661",
                  "49": "4723",
                  "50": "2017-12-22 15:40:14",
                  "51": "NaN",
                  "53": "false",
                  "54": "de",
                  "55": "false",
                  "56": "false",
                  "57": "F5F8FA",
                  "58": "",
                  "59": "",
                  "60": "false",
                  "61": "1DA1F2",
                  "62": "C0DEED",
                  "63": "DDEEF6",
                  "64": "333333",
                  "65": "true",
                  "66": "http://pbs.twimg.com/profile_images/988843326869786624/YyjA4vwi_normal.jpg",
                  "67": "https://pbs.twimg.com/profile_images/988843326869786624/YyjA4vwi_normal.jpg",
                  "68": "https://pbs.twimg.com/profile_banners/944231108513816576/1524593633",
                  "69": "true",
                  "70": "false",
                  "71": "NaN",
                  "72": "NaN",
                  "73": "NaN",
                  "74": [],
                  "75": [],
                  "76": [],
                  "78": "esf18",
                  "79": [
                    20,
                    26
                  ]
                }
              ],
              "schema": [
                {
                  "key": "0",
                  "name": "created_at",
                  "type": "timestamp"
                },
                {
                  "key": "1",
                  "name": "id",
                  "type": "bigint"
                },
                {
                  "key": "2",
                  "name": "id_str",
                  "type": "bigint"
                },
                {
                  "key": "3",
                  "name": "text",
                  "type": "string"
                },
                {
                  "key": "4",
                  "name": "source",
                  "type": "string"
                },
                {
                  "key": "5",
                  "name": "truncated",
                  "type": "boolean"
                },
                {
                  "key": "6",
                  "name": "in_reply_to_status_id",
                  "type": "double"
                },
                {
                  "key": "7",
                  "name": "in_reply_to_status_id_str",
                  "type": "double"
                },
                {
                  "key": "8",
                  "name": "in_reply_to_user_id",
                  "type": "double"
                },
                {
                  "key": "9",
                  "name": "in_reply_to_user_id_str",
                  "type": "double"
                },
                {
                  "key": "10",
                  "name": "in_reply_to_screen_name",
                  "type": "string"
                },
                {
                  "key": "11",
                  "name": "geo",
                  "type": "MapType(StringType,StringType,true)"
                },
                {
                  "key": "12",
                  "name": "coordinates",
                  "type": "MapType(StringType,StringType,true)"
                },
                {
                  "key": "13",
                  "name": "place",
                  "type": "MapType(StringType,StringType,true)"
                },
                {
                  "key": "14",
                  "name": "contributors",
                  "type": "double"
                },
                {
                  "key": "15",
                  "name": "retweeted_status",
                  "type": "MapType(StringType,StringType,true)"
                },
                {
                  "key": "16",
                  "name": "is_quote_status",
                  "type": "boolean"
                },
                {
                  "key": "17",
                  "name": "quote_count",
                  "type": "bigint"
                },
                {
                  "key": "18",
                  "name": "reply_count",
                  "type": "bigint"
                },
                {
                  "key": "19",
                  "name": "retweet_count",
                  "type": "bigint"
                },
                {
                  "key": "20",
                  "name": "favorite_count",
                  "type": "bigint"
                },
                {
                  "key": "21",
                  "name": "extended_entities",
                  "type": "MapType(StringType,ArrayType(MapType(StringType,LongType,true),true),true)"
                },
                {
                  "key": "22",
                  "name": "favorited",
                  "type": "boolean"
                },
                {
                  "key": "23",
                  "name": "retweeted",
                  "type": "boolean"
                },
                {
                  "key": "24",
                  "name": "possibly_sensitive",
                  "type": "double"
                },
                {
                  "key": "25",
                  "name": "filter_level",
                  "type": "string"
                },
                {
                  "key": "26",
                  "name": "lang",
                  "type": "string"
                },
                {
                  "key": "27",
                  "name": "timestamp_ms",
                  "type": "timestamp"
                },
                {
                  "key": "28",
                  "name": "display_text_range",
                  "type": "ArrayType(LongType,true)"
                },
                {
                  "key": "29",
                  "name": "quoted_status_id",
                  "type": "double"
                },
                {
                  "key": "30",
                  "name": "quoted_status_id_str",
                  "type": "double"
                },
                {
                  "key": "31",
                  "name": "quoted_status",
                  "type": "MapType(StringType,StringType,true)"
                },
                {
                  "key": "32",
                  "name": "limit",
                  "type": "double"
                },
                {
                  "key": "33",
                  "name": "extended_tweet",
                  "type": "MapType(StringType,StringType,true)"
                },
                {
                  "key": "34",
                  "name": "withheld_in_countries",
                  "type": "ArrayType(StringType,true)"
                },
                {
                  "key": "35",
                  "name": "user_id",
                  "type": "bigint"
                },
                {
                  "key": "36",
                  "name": "user_id_str",
                  "type": "bigint"
                },
                {
                  "key": "37",
                  "name": "user_name",
                  "type": "string"
                },
                {
                  "key": "38",
                  "name": "user_screen_name",
                  "type": "string"
                },
                {
                  "key": "39",
                  "name": "user_location",
                  "type": "string"
                },
                {
                  "key": "40",
                  "name": "user_url",
                  "type": "string"
                },
                {
                  "key": "41",
                  "name": "user_description",
                  "type": "string"
                },
                {
                  "key": "42",
                  "name": "user_translator_type",
                  "type": "string"
                },
                {
                  "key": "43",
                  "name": "user_protected",
                  "type": "boolean"
                },
                {
                  "key": "44",
                  "name": "user_verified",
                  "type": "boolean"
                },
                {
                  "key": "45",
                  "name": "user_followers_count",
                  "type": "bigint"
                },
                {
                  "key": "46",
                  "name": "user_friends_count",
                  "type": "bigint"
                },
                {
                  "key": "47",
                  "name": "user_listed_count",
                  "type": "bigint"
                },
                {
                  "key": "48",
                  "name": "user_favourites_count",
                  "type": "bigint"
                },
                {
                  "key": "49",
                  "name": "user_statuses_count",
                  "type": "bigint"
                },
                {
                  "key": "50",
                  "name": "user_created_at",
                  "type": "timestamp"
                },
                {
                  "key": "51",
                  "name": "user_utc_offset",
                  "type": "double"
                },
                {
                  "key": "52",
                  "name": "user_time_zone",
                  "type": "string"
                },
                {
                  "key": "53",
                  "name": "user_geo_enabled",
                  "type": "boolean"
                },
                {
                  "key": "54",
                  "name": "user_lang",
                  "type": "string"
                },
                {
                  "key": "55",
                  "name": "user_contributors_enabled",
                  "type": "boolean"
                },
                {
                  "key": "56",
                  "name": "user_is_translator",
                  "type": "boolean"
                },
                {
                  "key": "57",
                  "name": "user_profile_background_color",
                  "type": "string"
                },
                {
                  "key": "58",
                  "name": "user_profile_background_image_url",
                  "type": "string"
                },
                {
                  "key": "59",
                  "name": "user_profile_background_image_url_https",
                  "type": "string"
                },
                {
                  "key": "60",
                  "name": "user_profile_background_tile",
                  "type": "boolean"
                },
                {
                  "key": "61",
                  "name": "user_profile_link_color",
                  "type": "string"
                },
                {
                  "key": "62",
                  "name": "user_profile_sidebar_border_color",
                  "type": "string"
                },
                {
                  "key": "63",
                  "name": "user_profile_sidebar_fill_color",
                  "type": "string"
                },
                {
                  "key": "64",
                  "name": "user_profile_text_color",
                  "type": "string"
                },
                {
                  "key": "65",
                  "name": "user_profile_use_background_image",
                  "type": "boolean"
                },
                {
                  "key": "66",
                  "name": "user_profile_image_url",
                  "type": "string"
                },
                {
                  "key": "67",
                  "name": "user_profile_image_url_https",
                  "type": "string"
                },
                {
                  "key": "68",
                  "name": "user_profile_banner_url",
                  "type": "string"
                },
                {
                  "key": "69",
                  "name": "user_default_profile",
                  "type": "boolean"
                },
                {
                  "key": "70",
                  "name": "user_default_profile_image",
                  "type": "boolean"
                },
                {
                  "key": "71",
                  "name": "user_following",
                  "type": "double"
                },
                {
                  "key": "72",
                  "name": "user_follow_request_sent",
                  "type": "double"
                },
                {
                  "key": "73",
                  "name": "user_notifications",
                  "type": "double"
                },
                {
                  "key": "74",
                  "name": "entities_urls",
                  "type": "ArrayType(MapType(StringType,StringType,true),true)"
                },
                {
                  "key": "75",
                  "name": "entities_user_mentions",
                  "type": "ArrayType(MapType(StringType,StringType,true),true)"
                },
                {
                  "key": "76",
                  "name": "entities_symbols",
                  "type": "ArrayType(MapType(StringType,StringType,true),true)"
                },
                {
                  "key": "77",
                  "name": "entities_media",
                  "type": "ArrayType(MapType(StringType,LongType,true),true)"
                },
                {
                  "key": "78",
                  "name": "entities_hashtags_text",
                  "type": "string"
                },
                {
                  "key": "79",
                  "name": "entities_hashtags_indices",
                  "type": "ArrayType(LongType,true)"
                }
              ],
              "truncated": false
            },
            "isSummary": false,
            "language": "scala"
          },
          "persist_state": {
            "view": {
              "type": "details",
              "tableOptions": {},
              "chartOptions": {
                "chartType": "bar",
                "aggregationType": "sum",
                "categoryFieldKeys": [
                  "0"
                ],
                "seriesFieldKeys": [
                  "1"
                ],
                "isStacked": false
              }
            }
          }
        }
      }
    }
  },
  "nbformat": 4,
  "nbformat_minor": 2
}